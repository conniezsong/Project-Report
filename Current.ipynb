# **Final Project Report**
## **1. Introduction**
An ongoing research project by UBC's Pacific Laboratory for Artificial Intelligence (PLAI) is researching the gaming behaviours of Minecraft players to improve the behaviour of characters that players interact with (called non-playable characters). Their team has provided data for the basis of this analysis. To ensure that enough data is available for the project, candidates who contribute a large amount of data must be selected to participate in the research group's trials. Hence, we aim to investigate the following question: 
    
"What demographic of players in the dataset are most likely to contribute a large amount of data?"

To specify, we will be focusing on the experience level, age, and gender of the players as the determining factors of the demographic. We realize that the appeal of a game varies based on experience, so knowing the experience level of players who play the most helps recruitment efforts. Players of different ages also respond differently to visuals and promotional language used in recruitment, allowing ads to target by age. Participants who are likely to contribute large amounts of data will be based on the amount of time spent gaming, where more hours spent playing equates to more data.

### **Dataset Description**
Frank Wood's research group provided all available data by monitoring their Minecraft server and recording in-game actions. We will be using the players.csv dataset for this analysis. It includes 196 total observations and 9 variables, of which age and played_hours are quantitative variables, while the rest are categorical variables. Figure 1.1 below describes the contents of the dataset:

| Variable| Description |
| --- | --- |
| experience | level of gaming experience (Amateur, Beginner, Regular, Pro, Veteran)|
| subscribe | subscription status (True or False)|
| hashedEmail | encrypted email |
| played_hours |time played (in hours)|
| name |name of player|
| gender | gender of players (Male, Female, Non-binary, Two-spirited, etc.)|
| age | age of players (in years) |
| individualId | ID of player |
| organizationName | organization of player |

Figure 1.1: Variables and Descriptions
    
## **2. Method and Results**
We began by reading the dataset and wrangling the data into a tidy format before the analysis. Although there are 9 total variables in the dataset, the hashedEmail and individualId variables include no observations, so they were omitted from our analysis during the preliminary processing. 

Next, summary statistics such as the mean, median, and standard deviations for the dataset were determined, and simple visualizations were created to gain further insight into the data. 

Finally, a KNN-regression analysis was performed with age and the level of experience as the predictor variables and played_hours as the response variable. As the KNN model is based on Euclidean distances, it could not be applied directly to the level of experience since the variable is categorical. Instead, a dictionary with 'dummy variables' was created and assigned to the different levels of experience to represent each value numerically (i.e. 1 for beginner, 5 for veteran). The dataset is split into 75% training and 25% testing subsets to perform the KNN-regression analysis, where the KNN-regression model was trained using cross-validation with the training subset to determine the optimal k-value and then evaluated with the testing data. Predictions resulting from the model were plotted and analyzed to determine an ultimate conclusion about the demographic of players that are predicted to spend the most time playing in response to our initial research question.

### **Preliminary Data Processing**
#### **1. Import Relevant Packages**


```python
# Importing all packages needed for data processing, visualization, and following analysis

import altair as alt
import numpy as np
import pandas as pd
```

#### **2. Load Dataset**


```python
# Loading read_csv dataset for processing.

player_data = pd.read_csv("playersdata/players.csv")
player_data
```




<div>
<style scoped>
    .dataframe tbody tr th:only-of-type {
        vertical-align: middle;
    }

    .dataframe tbody tr th {
        vertical-align: top;
    }

    .dataframe thead th {
        text-align: right;
    }
</style>
<table border="1" class="dataframe">
  <thead>
    <tr style="text-align: right;">
      <th></th>
      <th>experience</th>
      <th>subscribe</th>
      <th>hashedEmail</th>
      <th>played_hours</th>
      <th>name</th>
      <th>gender</th>
      <th>age</th>
      <th>individualId</th>
      <th>organizationName</th>
    </tr>
  </thead>
  <tbody>
    <tr>
      <th>0</th>
      <td>Pro</td>
      <td>True</td>
      <td>f6daba428a5e19a3d47574858c13550499be23603422e6...</td>
      <td>30.3</td>
      <td>Morgan</td>
      <td>Male</td>
      <td>9</td>
      <td>NaN</td>
      <td>NaN</td>
    </tr>
    <tr>
      <th>1</th>
      <td>Veteran</td>
      <td>True</td>
      <td>f3c813577c458ba0dfef80996f8f32c93b6e8af1fa9397...</td>
      <td>3.8</td>
      <td>Christian</td>
      <td>Male</td>
      <td>17</td>
      <td>NaN</td>
      <td>NaN</td>
    </tr>
    <tr>
      <th>2</th>
      <td>Veteran</td>
      <td>False</td>
      <td>b674dd7ee0d24096d1c019615ce4d12b20fcbff12d79d3...</td>
      <td>0.0</td>
      <td>Blake</td>
      <td>Male</td>
      <td>17</td>
      <td>NaN</td>
      <td>NaN</td>
    </tr>
    <tr>
      <th>3</th>
      <td>Amateur</td>
      <td>True</td>
      <td>23fe711e0e3b77f1da7aa221ab1192afe21648d47d2b4f...</td>
      <td>0.7</td>
      <td>Flora</td>
      <td>Female</td>
      <td>21</td>
      <td>NaN</td>
      <td>NaN</td>
    </tr>
    <tr>
      <th>4</th>
      <td>Regular</td>
      <td>True</td>
      <td>7dc01f10bf20671ecfccdac23812b1b415acd42c2147cb...</td>
      <td>0.1</td>
      <td>Kylie</td>
      <td>Male</td>
      <td>21</td>
      <td>NaN</td>
      <td>NaN</td>
    </tr>
    <tr>
      <th>...</th>
      <td>...</td>
      <td>...</td>
      <td>...</td>
      <td>...</td>
      <td>...</td>
      <td>...</td>
      <td>...</td>
      <td>...</td>
      <td>...</td>
    </tr>
    <tr>
      <th>191</th>
      <td>Amateur</td>
      <td>True</td>
      <td>b6e9e593b9ec51c5e335457341c324c34a2239531e1890...</td>
      <td>0.0</td>
      <td>Bailey</td>
      <td>Female</td>
      <td>17</td>
      <td>NaN</td>
      <td>NaN</td>
    </tr>
    <tr>
      <th>192</th>
      <td>Veteran</td>
      <td>False</td>
      <td>71453e425f07d10da4fa2b349c83e73ccdf0fb3312f778...</td>
      <td>0.3</td>
      <td>Pascal</td>
      <td>Male</td>
      <td>22</td>
      <td>NaN</td>
      <td>NaN</td>
    </tr>
    <tr>
      <th>193</th>
      <td>Amateur</td>
      <td>False</td>
      <td>d572f391d452b76ea2d7e5e53a3d38bfd7499c7399db29...</td>
      <td>0.0</td>
      <td>Dylan</td>
      <td>Prefer not to say</td>
      <td>17</td>
      <td>NaN</td>
      <td>NaN</td>
    </tr>
    <tr>
      <th>194</th>
      <td>Amateur</td>
      <td>False</td>
      <td>f19e136ddde68f365afc860c725ccff54307dedd13968e...</td>
      <td>2.3</td>
      <td>Harlow</td>
      <td>Male</td>
      <td>17</td>
      <td>NaN</td>
      <td>NaN</td>
    </tr>
    <tr>
      <th>195</th>
      <td>Pro</td>
      <td>True</td>
      <td>d9473710057f7d42f36570f0be83817a4eea614029ff90...</td>
      <td>0.2</td>
      <td>Ahmed</td>
      <td>Other</td>
      <td>91</td>
      <td>NaN</td>
      <td>NaN</td>
    </tr>
  </tbody>
</table>
<p>196 rows × 9 columns</p>
</div>



Figure 2.1: Raw Players Data

#### **3. Cleaning and Wrangling**


```python
# Only keep relevant variables by dropping columns that contain no observations.

player_tidy= player_data.drop(columns=['individualId', 'organizationName'])
player_tidy
```




<div>
<style scoped>
    .dataframe tbody tr th:only-of-type {
        vertical-align: middle;
    }

    .dataframe tbody tr th {
        vertical-align: top;
    }

    .dataframe thead th {
        text-align: right;
    }
</style>
<table border="1" class="dataframe">
  <thead>
    <tr style="text-align: right;">
      <th></th>
      <th>experience</th>
      <th>subscribe</th>
      <th>hashedEmail</th>
      <th>played_hours</th>
      <th>name</th>
      <th>gender</th>
      <th>age</th>
    </tr>
  </thead>
  <tbody>
    <tr>
      <th>0</th>
      <td>Pro</td>
      <td>True</td>
      <td>f6daba428a5e19a3d47574858c13550499be23603422e6...</td>
      <td>30.3</td>
      <td>Morgan</td>
      <td>Male</td>
      <td>9</td>
    </tr>
    <tr>
      <th>1</th>
      <td>Veteran</td>
      <td>True</td>
      <td>f3c813577c458ba0dfef80996f8f32c93b6e8af1fa9397...</td>
      <td>3.8</td>
      <td>Christian</td>
      <td>Male</td>
      <td>17</td>
    </tr>
    <tr>
      <th>2</th>
      <td>Veteran</td>
      <td>False</td>
      <td>b674dd7ee0d24096d1c019615ce4d12b20fcbff12d79d3...</td>
      <td>0.0</td>
      <td>Blake</td>
      <td>Male</td>
      <td>17</td>
    </tr>
    <tr>
      <th>3</th>
      <td>Amateur</td>
      <td>True</td>
      <td>23fe711e0e3b77f1da7aa221ab1192afe21648d47d2b4f...</td>
      <td>0.7</td>
      <td>Flora</td>
      <td>Female</td>
      <td>21</td>
    </tr>
    <tr>
      <th>4</th>
      <td>Regular</td>
      <td>True</td>
      <td>7dc01f10bf20671ecfccdac23812b1b415acd42c2147cb...</td>
      <td>0.1</td>
      <td>Kylie</td>
      <td>Male</td>
      <td>21</td>
    </tr>
    <tr>
      <th>...</th>
      <td>...</td>
      <td>...</td>
      <td>...</td>
      <td>...</td>
      <td>...</td>
      <td>...</td>
      <td>...</td>
    </tr>
    <tr>
      <th>191</th>
      <td>Amateur</td>
      <td>True</td>
      <td>b6e9e593b9ec51c5e335457341c324c34a2239531e1890...</td>
      <td>0.0</td>
      <td>Bailey</td>
      <td>Female</td>
      <td>17</td>
    </tr>
    <tr>
      <th>192</th>
      <td>Veteran</td>
      <td>False</td>
      <td>71453e425f07d10da4fa2b349c83e73ccdf0fb3312f778...</td>
      <td>0.3</td>
      <td>Pascal</td>
      <td>Male</td>
      <td>22</td>
    </tr>
    <tr>
      <th>193</th>
      <td>Amateur</td>
      <td>False</td>
      <td>d572f391d452b76ea2d7e5e53a3d38bfd7499c7399db29...</td>
      <td>0.0</td>
      <td>Dylan</td>
      <td>Prefer not to say</td>
      <td>17</td>
    </tr>
    <tr>
      <th>194</th>
      <td>Amateur</td>
      <td>False</td>
      <td>f19e136ddde68f365afc860c725ccff54307dedd13968e...</td>
      <td>2.3</td>
      <td>Harlow</td>
      <td>Male</td>
      <td>17</td>
    </tr>
    <tr>
      <th>195</th>
      <td>Pro</td>
      <td>True</td>
      <td>d9473710057f7d42f36570f0be83817a4eea614029ff90...</td>
      <td>0.2</td>
      <td>Ahmed</td>
      <td>Other</td>
      <td>91</td>
    </tr>
  </tbody>
</table>
<p>196 rows × 7 columns</p>
</div>



Figure 2.2: Tidied Players Data

#### **4. Summary Statistics**


```python
# Determining the mean, median, and standard deviations for the played hours for each variable: experience, gender, and age.

experience_aggregated = player_tidy.groupby("experience")["played_hours"].agg(
    ["mean", "median", "std"]
).reset_index()

experience_aggregated.rename(columns = {
    "mean" : "playedhours_mean", "median" : "playedhours_median", "std" : "playedhours_std"
})
```




<div>
<style scoped>
    .dataframe tbody tr th:only-of-type {
        vertical-align: middle;
    }

    .dataframe tbody tr th {
        vertical-align: top;
    }

    .dataframe thead th {
        text-align: right;
    }
</style>
<table border="1" class="dataframe">
  <thead>
    <tr style="text-align: right;">
      <th></th>
      <th>experience</th>
      <th>playedhours_mean</th>
      <th>playedhours_median</th>
      <th>playedhours_std</th>
    </tr>
  </thead>
  <tbody>
    <tr>
      <th>0</th>
      <td>Amateur</td>
      <td>6.017460</td>
      <td>0.1</td>
      <td>21.987214</td>
    </tr>
    <tr>
      <th>1</th>
      <td>Beginner</td>
      <td>1.248571</td>
      <td>0.1</td>
      <td>4.105547</td>
    </tr>
    <tr>
      <th>2</th>
      <td>Pro</td>
      <td>2.600000</td>
      <td>0.3</td>
      <td>7.988838</td>
    </tr>
    <tr>
      <th>3</th>
      <td>Regular</td>
      <td>18.208333</td>
      <td>0.1</td>
      <td>57.957346</td>
    </tr>
    <tr>
      <th>4</th>
      <td>Veteran</td>
      <td>0.647917</td>
      <td>0.1</td>
      <td>1.937424</td>
    </tr>
  </tbody>
</table>
</div>



Figure 2.3: Experience Summary Values


```python
gender_aggregated = player_tidy.groupby("gender")["played_hours"].agg(
    ["mean", "median", "std"]
).reset_index()

gender_aggregated.rename(columns = {
    "mean" : "playedhours_mean", "median" : "playedhours_median", "std" : "playedhours_std"
})
```




<div>
<style scoped>
    .dataframe tbody tr th:only-of-type {
        vertical-align: middle;
    }

    .dataframe tbody tr th {
        vertical-align: top;
    }

    .dataframe thead th {
        text-align: right;
    }
</style>
<table border="1" class="dataframe">
  <thead>
    <tr style="text-align: right;">
      <th></th>
      <th>gender</th>
      <th>playedhours_mean</th>
      <th>playedhours_median</th>
      <th>playedhours_std</th>
    </tr>
  </thead>
  <tbody>
    <tr>
      <th>0</th>
      <td>Agender</td>
      <td>6.250000</td>
      <td>6.25</td>
      <td>8.838835</td>
    </tr>
    <tr>
      <th>1</th>
      <td>Female</td>
      <td>10.635135</td>
      <td>0.10</td>
      <td>38.167301</td>
    </tr>
    <tr>
      <th>2</th>
      <td>Male</td>
      <td>4.127419</td>
      <td>0.10</td>
      <td>21.531838</td>
    </tr>
    <tr>
      <th>3</th>
      <td>Non-binary</td>
      <td>14.880000</td>
      <td>0.00</td>
      <td>56.224133</td>
    </tr>
    <tr>
      <th>4</th>
      <td>Other</td>
      <td>0.200000</td>
      <td>0.20</td>
      <td>NaN</td>
    </tr>
    <tr>
      <th>5</th>
      <td>Prefer not to say</td>
      <td>0.372727</td>
      <td>0.00</td>
      <td>0.681309</td>
    </tr>
    <tr>
      <th>6</th>
      <td>Two-Spirited</td>
      <td>0.083333</td>
      <td>0.00</td>
      <td>0.160208</td>
    </tr>
  </tbody>
</table>
</div>



Figure 2.4: Experience Summary Values


```python
age_aggregated = player_tidy.groupby("age")["played_hours"].agg(
    ["mean", "median", "std"]
).reset_index()

age_aggregated.rename(columns = {
    "mean" : "playedhours_mean", "median" : "playedhours_median", "std" : "playedhours_std"
})
```




<div>
<style scoped>
    .dataframe tbody tr th:only-of-type {
        vertical-align: middle;
    }

    .dataframe tbody tr th {
        vertical-align: top;
    }

    .dataframe thead th {
        text-align: right;
    }
</style>
<table border="1" class="dataframe">
  <thead>
    <tr style="text-align: right;">
      <th></th>
      <th>age</th>
      <th>playedhours_mean</th>
      <th>playedhours_median</th>
      <th>playedhours_std</th>
    </tr>
  </thead>
  <tbody>
    <tr>
      <th>0</th>
      <td>8</td>
      <td>0.300000</td>
      <td>0.30</td>
      <td>NaN</td>
    </tr>
    <tr>
      <th>1</th>
      <td>9</td>
      <td>30.300000</td>
      <td>30.30</td>
      <td>NaN</td>
    </tr>
    <tr>
      <th>2</th>
      <td>10</td>
      <td>3.600000</td>
      <td>3.60</td>
      <td>NaN</td>
    </tr>
    <tr>
      <th>3</th>
      <td>11</td>
      <td>2.900000</td>
      <td>2.90</td>
      <td>NaN</td>
    </tr>
    <tr>
      <th>4</th>
      <td>12</td>
      <td>0.500000</td>
      <td>0.50</td>
      <td>NaN</td>
    </tr>
    <tr>
      <th>5</th>
      <td>14</td>
      <td>8.700000</td>
      <td>8.70</td>
      <td>12.020815</td>
    </tr>
    <tr>
      <th>6</th>
      <td>15</td>
      <td>0.100000</td>
      <td>0.10</td>
      <td>0.000000</td>
    </tr>
    <tr>
      <th>7</th>
      <td>16</td>
      <td>50.033333</td>
      <td>0.10</td>
      <td>86.573687</td>
    </tr>
    <tr>
      <th>8</th>
      <td>17</td>
      <td>4.757333</td>
      <td>0.00</td>
      <td>26.872347</td>
    </tr>
    <tr>
      <th>9</th>
      <td>18</td>
      <td>0.228571</td>
      <td>0.10</td>
      <td>0.325137</td>
    </tr>
    <tr>
      <th>10</th>
      <td>19</td>
      <td>25.657143</td>
      <td>0.10</td>
      <td>67.265589</td>
    </tr>
    <tr>
      <th>11</th>
      <td>20</td>
      <td>15.828571</td>
      <td>0.00</td>
      <td>58.219656</td>
    </tr>
    <tr>
      <th>12</th>
      <td>21</td>
      <td>0.750000</td>
      <td>0.10</td>
      <td>1.265027</td>
    </tr>
    <tr>
      <th>13</th>
      <td>22</td>
      <td>2.486667</td>
      <td>0.10</td>
      <td>8.194586</td>
    </tr>
    <tr>
      <th>14</th>
      <td>23</td>
      <td>4.600000</td>
      <td>0.00</td>
      <td>15.486446</td>
    </tr>
    <tr>
      <th>15</th>
      <td>24</td>
      <td>2.920000</td>
      <td>0.20</td>
      <td>7.350556</td>
    </tr>
    <tr>
      <th>16</th>
      <td>25</td>
      <td>0.966667</td>
      <td>1.40</td>
      <td>0.838650</td>
    </tr>
    <tr>
      <th>17</th>
      <td>26</td>
      <td>0.400000</td>
      <td>0.30</td>
      <td>0.489898</td>
    </tr>
    <tr>
      <th>18</th>
      <td>27</td>
      <td>4.900000</td>
      <td>2.00</td>
      <td>6.643041</td>
    </tr>
    <tr>
      <th>19</th>
      <td>28</td>
      <td>0.300000</td>
      <td>0.30</td>
      <td>0.424264</td>
    </tr>
    <tr>
      <th>20</th>
      <td>32</td>
      <td>0.950000</td>
      <td>0.95</td>
      <td>1.202082</td>
    </tr>
    <tr>
      <th>21</th>
      <td>33</td>
      <td>0.000000</td>
      <td>0.00</td>
      <td>NaN</td>
    </tr>
    <tr>
      <th>22</th>
      <td>37</td>
      <td>0.200000</td>
      <td>0.20</td>
      <td>NaN</td>
    </tr>
    <tr>
      <th>23</th>
      <td>38</td>
      <td>0.200000</td>
      <td>0.20</td>
      <td>NaN</td>
    </tr>
    <tr>
      <th>24</th>
      <td>42</td>
      <td>0.000000</td>
      <td>0.00</td>
      <td>NaN</td>
    </tr>
    <tr>
      <th>25</th>
      <td>44</td>
      <td>0.100000</td>
      <td>0.10</td>
      <td>NaN</td>
    </tr>
    <tr>
      <th>26</th>
      <td>45</td>
      <td>0.100000</td>
      <td>0.10</td>
      <td>NaN</td>
    </tr>
    <tr>
      <th>27</th>
      <td>46</td>
      <td>0.000000</td>
      <td>0.00</td>
      <td>NaN</td>
    </tr>
    <tr>
      <th>28</th>
      <td>49</td>
      <td>18.500000</td>
      <td>18.50</td>
      <td>NaN</td>
    </tr>
    <tr>
      <th>29</th>
      <td>50</td>
      <td>0.000000</td>
      <td>0.00</td>
      <td>NaN</td>
    </tr>
    <tr>
      <th>30</th>
      <td>91</td>
      <td>0.200000</td>
      <td>0.20</td>
      <td>NaN</td>
    </tr>
    <tr>
      <th>31</th>
      <td>99</td>
      <td>0.100000</td>
      <td>0.10</td>
      <td>NaN</td>
    </tr>
  </tbody>
</table>
</div>



Figure 2.3: Age Summary Values

Simple observations of the mean and variance show that values in experience and gender variables are within a reasonable range while possible outliers exist for the age variable. Purely based on the summary statistics, we would expect regular players within the range of 14 to 20 years old to be the greatest contributors of data due to the highest mean played hours. However, this is only derived from the exploratory analysis to fain greater understanding of the data and does not take into account the number of observations in each category, demonstrating the need for further analysis in order to form concrete conclusions.

### **Preliminary Data Visualization**
#### **1. Visualizing Numerical Variables**

In order to explore the possible relationship between the age and played_hours variables, a scatterplot was used to visualize the distribution of the data points. The scatterplot shows no distinct trends or relationships, although it seems that most of the participants are between the ages of 15-25 years old and played for less that 20 hours each. This was determined from how most of the datapoints are clustered along the bottom of the graph.


```python
age_plot= alt.Chart(player_tidy, title = "Age vs. Hours Played").mark_point(opacity=0.4).encode(
    x= alt.X('age', axis=alt.Axis(tickCount=5)).title('Age'),
    y= alt.Y('played_hours').title('Time Played (hrs)'),
    color=alt.Color('played_hours', scale=alt.Scale(scheme='category20b')
).title("Hours Played")).properties(
        width = 300,
        height = 300
)
                                                                                   
age_plot                                                                       
```





<style>
  #altair-viz-6dfb94bda45143928b7dba88a3baf4fc.vega-embed {
    width: 100%;
    display: flex;
  }

  #altair-viz-6dfb94bda45143928b7dba88a3baf4fc.vega-embed details,
  #altair-viz-6dfb94bda45143928b7dba88a3baf4fc.vega-embed details summary {
    position: relative;
  }
</style>
<div id="altair-viz-6dfb94bda45143928b7dba88a3baf4fc"></div>
<script type="text/javascript">
  var VEGA_DEBUG = (typeof VEGA_DEBUG == "undefined") ? {} : VEGA_DEBUG;
  (function(spec, embedOpt){
    let outputDiv = document.currentScript.previousElementSibling;
    if (outputDiv.id !== "altair-viz-6dfb94bda45143928b7dba88a3baf4fc") {
      outputDiv = document.getElementById("altair-viz-6dfb94bda45143928b7dba88a3baf4fc");
    }
    const paths = {
      "vega": "https://cdn.jsdelivr.net/npm/vega@5?noext",
      "vega-lib": "https://cdn.jsdelivr.net/npm/vega-lib?noext",
      "vega-lite": "https://cdn.jsdelivr.net/npm/vega-lite@5.20.1?noext",
      "vega-embed": "https://cdn.jsdelivr.net/npm/vega-embed@6?noext",
    };

    function maybeLoadScript(lib, version) {
      var key = `${lib.replace("-", "")}_version`;
      return (VEGA_DEBUG[key] == version) ?
        Promise.resolve(paths[lib]) :
        new Promise(function(resolve, reject) {
          var s = document.createElement('script');
          document.getElementsByTagName("head")[0].appendChild(s);
          s.async = true;
          s.onload = () => {
            VEGA_DEBUG[key] = version;
            return resolve(paths[lib]);
          };
          s.onerror = () => reject(`Error loading script: ${paths[lib]}`);
          s.src = paths[lib];
        });
    }

    function showError(err) {
      outputDiv.innerHTML = `<div class="error" style="color:red;">${err}</div>`;
      throw err;
    }

    function displayChart(vegaEmbed) {
      vegaEmbed(outputDiv, spec, embedOpt)
        .catch(err => showError(`Javascript Error: ${err.message}<br>This usually means there's a typo in your chart specification. See the javascript console for the full traceback.`));
    }

    if(typeof define === "function" && define.amd) {
      requirejs.config({paths});
      require(["vega-embed"], displayChart, err => showError(`Error loading script: ${err.message}`));
    } else {
      maybeLoadScript("vega", "5")
        .then(() => maybeLoadScript("vega-lite", "5.20.1"))
        .then(() => maybeLoadScript("vega-embed", "6"))
        .catch(showError)
        .then(() => displayChart(vegaEmbed));
    }
  })({"config": {"view": {"continuousWidth": 300, "continuousHeight": 300}}, "data": {"name": "data-dc39170511f3ba1e9a8571eea42c5369"}, "mark": {"type": "point", "opacity": 0.4}, "encoding": {"color": {"field": "played_hours", "scale": {"scheme": "category20b"}, "title": "Hours Played", "type": "quantitative"}, "x": {"axis": {"tickCount": 5}, "field": "age", "title": "Age", "type": "quantitative"}, "y": {"field": "played_hours", "title": "Time Played (hrs)", "type": "quantitative"}}, "height": 300, "title": "Age vs. Hours Played", "width": 300, "$schema": "https://vega.github.io/schema/vega-lite/v5.20.1.json", "datasets": {"data-dc39170511f3ba1e9a8571eea42c5369": [{"experience": "Pro", "subscribe": true, "hashedEmail": "f6daba428a5e19a3d47574858c13550499be23603422e6a0ee9728f8b53e192d", "played_hours": 30.3, "name": "Morgan", "gender": "Male", "age": 9}, {"experience": "Veteran", "subscribe": true, "hashedEmail": "f3c813577c458ba0dfef80996f8f32c93b6e8af1fa939732842f2312358a88e9", "played_hours": 3.8, "name": "Christian", "gender": "Male", "age": 17}, {"experience": "Veteran", "subscribe": false, "hashedEmail": "b674dd7ee0d24096d1c019615ce4d12b20fcbff12d79d3c5a9d2118eb7ccbb28", "played_hours": 0.0, "name": "Blake", "gender": "Male", "age": 17}, {"experience": "Amateur", "subscribe": true, "hashedEmail": "23fe711e0e3b77f1da7aa221ab1192afe21648d47d2b4fa7a5a659ff443a0eb5", "played_hours": 0.7, "name": "Flora", "gender": "Female", "age": 21}, {"experience": "Regular", "subscribe": true, "hashedEmail": "7dc01f10bf20671ecfccdac23812b1b415acd42c2147cb0af4d48fcce2420f3e", "played_hours": 0.1, "name": "Kylie", "gender": "Male", "age": 21}, {"experience": "Amateur", "subscribe": true, "hashedEmail": "f58aad5996a435f16b0284a3b267f973f9af99e7a89bee0430055a44fa92f977", "played_hours": 0.0, "name": "Adrian", "gender": "Female", "age": 17}, {"experience": "Regular", "subscribe": true, "hashedEmail": "8e594b8953193b26f498db95a508b03c6fe1c24bb5251d392c18a0da9a722807", "played_hours": 0.0, "name": "Luna", "gender": "Female", "age": 19}, {"experience": "Amateur", "subscribe": false, "hashedEmail": "1d2371d8a35c8831034b25bda8764539ab7db0f63938696917c447128a2540dd", "played_hours": 0.0, "name": "Emerson", "gender": "Male", "age": 21}, {"experience": "Amateur", "subscribe": true, "hashedEmail": "8b71f4d66a38389b7528bb38ba6eb71157733df7d1740371852a797ae97d82d1", "played_hours": 0.1, "name": "Natalie", "gender": "Male", "age": 17}, {"experience": "Veteran", "subscribe": true, "hashedEmail": "bbe2d83de678f519c4b3daa7265e683b4fe2d814077f9094afd11d8f217039ec", "played_hours": 0.0, "name": "Nyla", "gender": "Female", "age": 22}, {"experience": "Veteran", "subscribe": true, "hashedEmail": "7a4686586d290c67179275c7c3dfb4ea02f4d317d9ee0e2cee98baa27877a875", "played_hours": 1.6, "name": "Lane", "gender": "Female", "age": 23}, {"experience": "Pro", "subscribe": true, "hashedEmail": "4caa42e1b20511552434978171dcf7283fb6eb857eb871327e39bfc328002309", "played_hours": 0.0, "name": "Daniela", "gender": "Male", "age": 17}, {"experience": "Beginner", "subscribe": true, "hashedEmail": "4bed6f49b672974f706aa7f020b4f29020326bf594520593557cd381a51559b8", "played_hours": 1.5, "name": "Sarah", "gender": "Female", "age": 25}, {"experience": "Amateur", "subscribe": true, "hashedEmail": "3caa832978e0596779f4ee7c686c4592fb6de893925025d25bf26be9a8cd03f5", "played_hours": 0.2, "name": "Thatcher", "gender": "Male", "age": 22}, {"experience": "Veteran", "subscribe": true, "hashedEmail": "6f9acf8ea9956fe817895c78d10e1e25c11aba335a451e5b0322b073ee5008c4", "played_hours": 0.0, "name": "Niamh", "gender": "Non-binary", "age": 17}, {"experience": "Amateur", "subscribe": false, "hashedEmail": "2313a06afe47eacc28ff55adf6f072e7d12b0d12d7cbae29656f9029ec72bb53", "played_hours": 0.0, "name": "Quinlan", "gender": "Male", "age": 22}, {"experience": "Beginner", "subscribe": true, "hashedEmail": "9db37a1d381697f6c83e3b97b276e38bb9d9c811ba4596edb75d4dbfea6415b0", "played_hours": 0.0, "name": "Elodie", "gender": "Female", "age": 17}, {"experience": "Amateur", "subscribe": true, "hashedEmail": "a175d4741dc84e6baf77901f6e8e0a06f54809a34e6b5211159bced346f7fb3e", "played_hours": 48.4, "name": "Xander", "gender": "Female", "age": 17}, {"experience": "Amateur", "subscribe": true, "hashedEmail": "ab1f44f93c3b828f55458971db393052d9711df3e0e7ff69540bfebfcec555ff", "played_hours": 0.5, "name": "Marley", "gender": "Male", "age": 17}, {"experience": "Regular", "subscribe": true, "hashedEmail": "20ae3f8b5323674fe6e537bc91928841cfc2a00c1b36522fd25370bb6fa89d36", "played_hours": 0.6, "name": "Ryker", "gender": "Male", "age": 19}, {"experience": "Regular", "subscribe": true, "hashedEmail": "bc704ff2bc676dbf48ee41b9e11481c1387bf758ad318f2428f336e3fecc6660", "played_hours": 0.3, "name": "Andy", "gender": "Male", "age": 8}, {"experience": "Amateur", "subscribe": false, "hashedEmail": "200db0417ee70863c7e2a0f214c737476fb86de5869d0b907a077d726357e687", "played_hours": 0.1, "name": "Anastasia", "gender": "Female", "age": 17}, {"experience": "Beginner", "subscribe": true, "hashedEmail": "f9ac013b2f0bc2bd4928a6a0fc8a0aae8b5c4f2670cf9e18f547b7e72034c965", "played_hours": 1.0, "name": "Leah", "gender": "Male", "age": 17}, {"experience": "Beginner", "subscribe": true, "hashedEmail": "89c8e07d6a2aa102d9cd05086d51b2e41195c9c807dd976a06f4262ff36d0cca", "played_hours": 0.0, "name": "Ren", "gender": "Male", "age": 17}, {"experience": "Amateur", "subscribe": true, "hashedEmail": "119f01b9877fc5ea0073d05602a353b91c4b48e4cf02f42bb8d661b46a34b760", "played_hours": 0.7, "name": "Hugo", "gender": "Female", "age": 21}, {"experience": "Regular", "subscribe": true, "hashedEmail": "5baba1651a0b92788bc0d6dcdf00be64af1cf9f0015bbeed204ddabd1d872e83", "played_hours": 0.6, "name": "Kendall", "gender": "Female", "age": 28}, {"experience": "Regular", "subscribe": true, "hashedEmail": "50cec73a632e4be7b155c3df5165de28b2c5baf092abcb7f509f5645776a56c2", "played_hours": 0.0, "name": "Iman", "gender": "Male", "age": 17}, {"experience": "Veteran", "subscribe": false, "hashedEmail": "f8acd26a5e452b682b9f8b20108caef1ee2e745efe08e95806980bd2388a3fea", "played_hours": 0.0, "name": "Finn", "gender": "Male", "age": 23}, {"experience": "Amateur", "subscribe": true, "hashedEmail": "4b01bce3f141289709e8278b02ba5d2aaa7105d7ccb9c7deb37670a80e332774", "played_hours": 1.8, "name": "Luca", "gender": "Male", "age": 23}, {"experience": "Veteran", "subscribe": false, "hashedEmail": "951e54f7376e2b2f0915e9e3646c701af4a2fe839385b13f9e0084b08f8070bd", "played_hours": 0.1, "name": "Vivienne", "gender": "Male", "age": 18}, {"experience": "Amateur", "subscribe": true, "hashedEmail": "710148466b44cb02ba894aa9005a4892e619250ebd01153055d6c7578fc1ea10", "played_hours": 0.1, "name": "Ayman", "gender": "Male", "age": 23}, {"experience": "Veteran", "subscribe": true, "hashedEmail": "f1b432523542f90c61176a555ccb2144468d76c91a32d74082ab8c101f9d25b6", "played_hours": 0.1, "name": "London", "gender": "Male", "age": 21}, {"experience": "Amateur", "subscribe": true, "hashedEmail": "1683a3e0aed65119f83540274ff6f965fdf66890613a80f88572dfb1d9f1d2ad", "played_hours": 0.0, "name": "Farid", "gender": "Male", "age": 17}, {"experience": "Amateur", "subscribe": false, "hashedEmail": "df6a1201c9c638aff1df8aeaf459a5b0a00aa04824936ee0305f5c275352c647", "played_hours": 0.0, "name": "Vasco", "gender": "Prefer not to say", "age": 33}, {"experience": "Beginner", "subscribe": true, "hashedEmail": "f459ce1862ec9a43b6c714810390dfd632ed104eb11378b3a2a134b1b107bc75", "played_hours": 0.6, "name": "Jabari", "gender": "Male", "age": 26}, {"experience": "Veteran", "subscribe": true, "hashedEmail": "5a340c0e3d1aa3e579efc625bd3e5bca7fc25f7115b68e9411f457464bfd3df4", "played_hours": 0.4, "name": "Zoe", "gender": "Male", "age": 20}, {"experience": "Veteran", "subscribe": false, "hashedEmail": "88247d9a46fc214a12485dcbcbb03a8ddebfe8c1ec5fe209cd660147625c8e62", "played_hours": 1.4, "name": "Aiden", "gender": "Prefer not to say", "age": 25}, {"experience": "Amateur", "subscribe": true, "hashedEmail": "e3e1bef1ce259c995332635c0ec630a575713451cbe742d7ca93e4c03d0826df", "played_hours": 0.2, "name": "Kennedy", "gender": "Male", "age": 17}, {"experience": "Veteran", "subscribe": true, "hashedEmail": "d782933acd14c834e53dea816005a3583cb87710f7347a7a862cb4a43cc21692", "played_hours": 0.0, "name": "Ishaan", "gender": "Male", "age": 17}, {"experience": "Amateur", "subscribe": true, "hashedEmail": "6ef84a204d64edc3b3779127b13f298d0c70f96568486f785271f4c81ec0fe72", "played_hours": 0.0, "name": "Vivian", "gender": "Male", "age": 17}, {"experience": "Regular", "subscribe": true, "hashedEmail": "0d4d71be33e2bc7266ee4983002bd930f69d304288a8663529c875f40f1750f3", "played_hours": 5.6, "name": "Winslow", "gender": "Male", "age": 17}, {"experience": "Veteran", "subscribe": true, "hashedEmail": "d07befbac08be3d876d026ac0458651067001b39081d24724af3c95be76355e0", "played_hours": 0.1, "name": "Yvette", "gender": "Non-binary", "age": 17}, {"experience": "Amateur", "subscribe": true, "hashedEmail": "75f275366c0dbb8b23957b97aaaf77db5d6517fb846d3d4d209bd391ae3d39f6", "played_hours": 0.3, "name": "Sahil", "gender": "Male", "age": 24}, {"experience": "Veteran", "subscribe": true, "hashedEmail": "126ec350278422ba60ad575d230c19522fd568094b7c0fc17f8cc27fa4c810ab", "played_hours": 0.0, "name": "Mina", "gender": "Non-binary", "age": 21}, {"experience": "Veteran", "subscribe": true, "hashedEmail": "8d2eed1f399e0d77cebb8fcc48ed19ad2fa8e3bb3fa683cb90e0ac6d42677bf2", "played_hours": 2.2, "name": "Cyrus", "gender": "Male", "age": 24}, {"experience": "Beginner", "subscribe": false, "hashedEmail": "fa7d496b2f74c51ec70395bd8397b49f97a3ce8d7ba7e08887d82ec0008137a7", "played_hours": 0.0, "name": "Umar", "gender": "Male", "age": 24}, {"experience": "Veteran", "subscribe": true, "hashedEmail": "577aa5f15468252b1c6f32dcd515012923476292e30f95e6b4128c770e993f92", "played_hours": 0.1, "name": "Winston", "gender": "Male", "age": 17}, {"experience": "Regular", "subscribe": false, "hashedEmail": "453774822d52d6891593948224570a750c4334616ff8aa74cd61fad9d4855752", "played_hours": 0.0, "name": "Edmund", "gender": "Prefer not to say", "age": 23}, {"experience": "Veteran", "subscribe": true, "hashedEmail": "b3510c708bd50bf9f75e6e02bb6fe14edb705e0ea671ee769a45c613750e8b58", "played_hours": 12.5, "name": "Isidore", "gender": "Agender", "age": 27}, {"experience": "Beginner", "subscribe": true, "hashedEmail": "d13020f8d53c08c95e64f2254424a65c9c479fcfd866b21b850d200a2689a8b5", "played_hours": 0.4, "name": "Omkar", "gender": "Prefer not to say", "age": 22}, {"experience": "Veteran", "subscribe": true, "hashedEmail": "82d2615c56f8bdb5e56c603d3c90096649eb944fe47e1c827219d8af0b9fc94a", "played_hours": 0.6, "name": "Th\u00e9o", "gender": "Male", "age": 21}, {"experience": "Regular", "subscribe": true, "hashedEmail": "b622593d2ef8b337dc554acb307d04a88114f2bf453b18fb5d2c80052aeb2319", "played_hours": 218.1, "name": "Akio", "gender": "Non-binary", "age": 20}, {"experience": "Amateur", "subscribe": false, "hashedEmail": "5c27e8b9fed2816b006dc8397ec04470b59339fd591a46a3eb7951b939b72984", "played_hours": 0.9, "name": "Pablo", "gender": "Male", "age": 18}, {"experience": "Amateur", "subscribe": true, "hashedEmail": "fc0224c81384770e93ca717f32713960144bf0b52ff67639433a5c06a653a882", "played_hours": 0.2, "name": "Gemna", "gender": "Male", "age": 27}, {"experience": "Beginner", "subscribe": false, "hashedEmail": "5e5c25a773be7a62638a163d773534e575a5ad5782104723e53cb676a30fa60b", "played_hours": 0.0, "name": "Jude", "gender": "Female", "age": 42}, {"experience": "Regular", "subscribe": true, "hashedEmail": "e8df74a0605dedc2d6ee2d2651019f9006965f8b70223d5bcf9c26337eb6df05", "played_hours": 0.0, "name": "Kai", "gender": "Male", "age": 20}, {"experience": "Amateur", "subscribe": true, "hashedEmail": "8e0aac3020b3fd9cdef4840b533b4b105aaf1ce1f6f2df3f328ba2a44cecfdc1", "played_hours": 2.9, "name": "Rafael", "gender": "Male", "age": 11}, {"experience": "Regular", "subscribe": true, "hashedEmail": "dadce3d41f822c6303ac17f48b63699d7437cb7392acc63584628e5cd0346b5f", "played_hours": 0.0, "name": "Bijan", "gender": "Male", "age": 17}, {"experience": "Regular", "subscribe": true, "hashedEmail": "f2826fb8dbce4d450348f99cb27ade184b713998d9679780442efaaf218038f2", "played_hours": 3.6, "name": "Zane", "gender": "Male", "age": 10}, {"experience": "Veteran", "subscribe": true, "hashedEmail": "ca20f724571080b997e0efa874b9611e9f280c1af5f68ff6231a9e5b5d79bcfe", "played_hours": 0.2, "name": "Edward", "gender": "Male", "age": 38}, {"experience": "Veteran", "subscribe": true, "hashedEmail": "055d1a2002f6308a95b03b8d17af28f43e9f91ca8b1e1fc439bf4d08b22e7c0f", "played_hours": 0.0, "name": "Frankie", "gender": "Male", "age": 17}, {"experience": "Regular", "subscribe": true, "hashedEmail": "0088b5e134c3f0498a18c7ea6b8d77b4b0ff1636fc93355ccc95b45423367832", "played_hours": 1.5, "name": "Isaac", "gender": "Male", "age": 20}, {"experience": "Pro", "subscribe": true, "hashedEmail": "0d70dd9cac34d646c810b1846fe6a85b9e288a76f5dcab9c1ff1a0e7ca200b3a", "played_hours": 1.0, "name": "Knox", "gender": "Male", "age": 17}, {"experience": "Pro", "subscribe": true, "hashedEmail": "90f1495942837b1cde67cc9e3119421e38183502a4c6dee304df3bf0c21e0dd0", "played_hours": 0.2, "name": "Tristan", "gender": "Male", "age": 17}, {"experience": "Amateur", "subscribe": true, "hashedEmail": "7c0ae28a5f85a515a8063f9ed989aa26c5ebcc64f6b7be2948c0b300c2c9bd47", "played_hours": 0.1, "name": "Evangeline", "gender": "Male", "age": 23}, {"experience": "Veteran", "subscribe": true, "hashedEmail": "dc73467f73263dd4a07838330dd1cc115aa3f8b03538911ee6aac048405939c4", "played_hours": 0.1, "name": "Felix", "gender": "Male", "age": 21}, {"experience": "Veteran", "subscribe": false, "hashedEmail": "70db3a16ef58cf8bf6d8658c426ba4a5fcd7523a0abdd413f14466c41181215d", "played_hours": 0.1, "name": "Lana", "gender": "Male", "age": 22}, {"experience": "Amateur", "subscribe": true, "hashedEmail": "18936844e06b6c7871dce06384e2d142dd86756941641ef39cf40a9967ea14e3", "played_hours": 17.2, "name": "Kyrie", "gender": "Male", "age": 14}, {"experience": "Regular", "subscribe": true, "hashedEmail": "5e0beb10f6163a508622ef25220d780bdd012a89dee571db77fc502980c0e57d", "played_hours": 0.1, "name": "Ophelia", "gender": "Male", "age": 15}, {"experience": "Regular", "subscribe": true, "hashedEmail": "e2d5e72a6486ad8f83dd71163f44f88138612b9f40c17e9455910fb06bb45735", "played_hours": 0.0, "name": "Magnus", "gender": "Male", "age": 21}, {"experience": "Regular", "subscribe": true, "hashedEmail": "71e724778a28bb0ebbdacb1328944dfef427525466b012b66e7554a65e401a16", "played_hours": 0.2, "name": "Carmen", "gender": "Male", "age": 14}, {"experience": "Amateur", "subscribe": true, "hashedEmail": "36d9cbb4c6bc0c1a6911436d2da0d09ec625e43e6552f575d4acc9cf487c4686", "played_hours": 53.9, "name": "Alex", "gender": "Male", "age": 17}, {"experience": "Veteran", "subscribe": true, "hashedEmail": "1edebbf13898dbe99da5ee743b1fd9cbfdc6d69f1180dd6261da662bacb1a7e5", "played_hours": 0.0, "name": "Will", "gender": "Male", "age": 17}, {"experience": "Veteran", "subscribe": true, "hashedEmail": "a56b4b044e562fcf7765387d53c9e6543c42595fb4318627989942ab5979f9d6", "played_hours": 0.0, "name": "Hadi", "gender": "Male", "age": 22}, {"experience": "Regular", "subscribe": true, "hashedEmail": "bfce39c89d6549f2bb94d8064d3ce69dc3d7e72b38f431d8aa0c4bf95ccee6bf", "played_hours": 223.1, "name": "Hiroshi", "gender": "Male", "age": 17}, {"experience": "Amateur", "subscribe": true, "hashedEmail": "95aa10ff79645508dcff5c08da02a8f6ddd9016b44fb469347e5739b8865c613", "played_hours": 0.5, "name": "Freya", "gender": "Male", "age": 21}, {"experience": "Amateur", "subscribe": true, "hashedEmail": "fb0005032363ec3b30c2ae668f78f5076b7e77de0c6a249e924eee608cd0a1fa", "played_hours": 3.5, "name": "Madison", "gender": "Female", "age": 21}, {"experience": "Regular", "subscribe": true, "hashedEmail": "e21a324ccf5c873bafe82e47d5137b36aa312ee4803eeb5cbc6cf945f9bb3f38", "played_hours": 0.0, "name": "Faye", "gender": "Male", "age": 17}, {"experience": "Regular", "subscribe": true, "hashedEmail": "65c53ff7acdd69fd42b2a3b04e44870ea12b55b93a7ea1d6855c21a861b5a373", "played_hours": 0.0, "name": "Juniper", "gender": "Non-binary", "age": 22}, {"experience": "Amateur", "subscribe": true, "hashedEmail": "dbb20960cd4db4900dde7832e349dae46f7688583c8138b34785d9c7e509b5b9", "played_hours": 0.0, "name": "Jia", "gender": "Female", "age": 26}, {"experience": "Veteran", "subscribe": true, "hashedEmail": "2cbbfa45451a38b85663b7a9a3fffed12af1ba063ec03613d4c9e3873090cd05", "played_hours": 0.0, "name": "Alaric", "gender": "Female", "age": 17}, {"experience": "Veteran", "subscribe": true, "hashedEmail": "cb00c16dc2043f435a7a8c2a473656e4119ffa7173bab7ec7455715173912498", "played_hours": 1.0, "name": "Suki", "gender": "Non-binary", "age": 17}, {"experience": "Beginner", "subscribe": false, "hashedEmail": "1a2b92f18f36b0b59b41d648d10a9b8b20a2adff550ddbcb8cec2f47d4d881d0", "played_hours": 0.2, "name": "Aurora", "gender": "Female", "age": 37}, {"experience": "Beginner", "subscribe": false, "hashedEmail": "4535690bb1e71073b59d049bd8055089c25573510f13aa0cbc169dad87fb2279", "played_hours": 0.0, "name": "Akira", "gender": "Male", "age": 28}, {"experience": "Beginner", "subscribe": true, "hashedEmail": "cb3c5734effd1e0218ba26ed8f3e515149824105c76bbf61782be8529281bff4", "played_hours": 0.0, "name": "Zara", "gender": "Female", "age": 17}, {"experience": "Amateur", "subscribe": false, "hashedEmail": "dda564c24927417948dbc5f9a13d4ec70d1382b1c3f401bd31adb7d4364edf39", "played_hours": 0.0, "name": "Violet", "gender": "Male", "age": 21}, {"experience": "Amateur", "subscribe": false, "hashedEmail": "9253d1969af1ff941ac9b2a4b2c61158932898827ac710d5bf156a0e6a06742b", "played_hours": 0.0, "name": "Ziad", "gender": "Two-Spirited", "age": 23}, {"experience": "Beginner", "subscribe": true, "hashedEmail": "d48302dee689942b60f7e9756eba99d0be030df0ab6f553904a9dbbc44d0b5d5", "played_hours": 0.1, "name": "Jonas", "gender": "Male", "age": 17}, {"experience": "Beginner", "subscribe": true, "hashedEmail": "a1094a440899e69e804f888f44d1154ec0b7675d05d97779a4a3aad97e31d4d8", "played_hours": 0.0, "name": "Maya", "gender": "Female", "age": 17}, {"experience": "Beginner", "subscribe": true, "hashedEmail": "3c8df87af184ec13db53ee11ace9d71414336fa8462d92ade48f5d422bf985d1", "played_hours": 0.0, "name": "Nico", "gender": "Female", "age": 23}, {"experience": "Amateur", "subscribe": true, "hashedEmail": "f8f5477f5a2e53616ae37421b1c660b971192bd8ff77e3398304c7ae42581fdc", "played_hours": 150.0, "name": "Delara", "gender": "Female", "age": 16}, {"experience": "Beginner", "subscribe": true, "hashedEmail": "eeb961422a3f9841018d4eb729ddc40ef103cc1205577d908b5ee43d4810bee6", "played_hours": 0.0, "name": "Nadia", "gender": "Non-binary", "age": 17}, {"experience": "Pro", "subscribe": true, "hashedEmail": "fcab03c6d3079521e7f9665caed0f31fe3dae6b5ccb86e6cb58747a43aa8789f", "played_hours": 1.2, "name": "Sakura", "gender": "Male", "age": 17}, {"experience": "Amateur", "subscribe": true, "hashedEmail": "5afb9b4ba7f0bb42d4e4d72ee21be8a51131a7677f0519b4606fdbf770eec750", "played_hours": 0.1, "name": "Naomi", "gender": "Male", "age": 17}, {"experience": "Beginner", "subscribe": true, "hashedEmail": "e3175c379bbb83c8786d2dd719cf844575aca24d2c81d643dc7f12f6227becf7", "played_hours": 0.8, "name": "Jade", "gender": "Female", "age": 22}, {"experience": "Regular", "subscribe": false, "hashedEmail": "dea781ecb85a9e85c8d1fa62b0c2a98c77a51f5933c1043bef66a4d666f50d58", "played_hours": 0.0, "name": "Ehsan", "gender": "Non-binary", "age": 17}, {"experience": "Amateur", "subscribe": true, "hashedEmail": "bd10e7eab5531d5e82c9eebb929e2703f05367a90b0533074392a5f39a55c5d9", "played_hours": 0.1, "name": "Gabriel", "gender": "Male", "age": 19}, {"experience": "Veteran", "subscribe": false, "hashedEmail": "d3ca24e4d7fe8ffe2a821ebd3b841252950ca53e4d659a5f33b987e2cd42a1ec", "played_hours": 0.1, "name": "Casey", "gender": "Male", "age": 18}, {"experience": "Amateur", "subscribe": false, "hashedEmail": "43768b39e3386b287e3c5598f0b18a27b84126ca92ea1b62f30b29c0cae2229e", "played_hours": 0.0, "name": "Zayn", "gender": "Prefer not to say", "age": 17}, {"experience": "Pro", "subscribe": true, "hashedEmail": "8eae13e0f5823d9c48fe7b89695ea231f96f644f664bcc74c5a07f7d0a1135bd", "played_hours": 0.5, "name": "Gray", "gender": "Male", "age": 12}, {"experience": "Amateur", "subscribe": true, "hashedEmail": "26362473ca8fab46358dbab9bcbcf7114bbcbadef90e6bf9212093f74bde9fe3", "played_hours": 0.0, "name": "Oleg", "gender": "Male", "age": 20}, {"experience": "Amateur", "subscribe": true, "hashedEmail": "25879aecc205544bc6505f9faf768356e0a3b7126057308ae3235f8a514e9a62", "played_hours": 0.0, "name": "Eli", "gender": "Female", "age": 17}, {"experience": "Veteran", "subscribe": true, "hashedEmail": "c1f8e7be2cd956223fe773abc6e34cc123217c78be75d81de6b15504ba03685d", "played_hours": 0.0, "name": "Kaden", "gender": "Non-binary", "age": 24}, {"experience": "Beginner", "subscribe": true, "hashedEmail": "96e190b0bf3923cd8d349eee467c09d1130af143335779251492eb4c2c058a5f", "played_hours": 2.0, "name": "Ibrahim", "gender": "Prefer not to say", "age": 27}, {"experience": "Amateur", "subscribe": false, "hashedEmail": "2917e2dacafed92d017b9f356ce90a442bea6e4ad59dbbb484a920398acb8974", "played_hours": 0.0, "name": "Haider", "gender": "Two-Spirited", "age": 26}, {"experience": "Regular", "subscribe": true, "hashedEmail": "80ab1e9e58f759ee2e5328a4471ae09029b981431c0adbc63c7441e401ea9d4d", "played_hours": 0.0, "name": "Willem", "gender": "Male", "age": 17}, {"experience": "Regular", "subscribe": false, "hashedEmail": "63139b524e44d156daf265875fb8078bb2b24d6b7520a35eda58c2d97bb8d15c", "played_hours": 0.0, "name": "Elias", "gender": "Male", "age": 23}, {"experience": "Veteran", "subscribe": false, "hashedEmail": "c871393f513c68e313874ac9d192a0b8be7bf99a96bff0ab46beb343ee4217d5", "played_hours": 2.7, "name": "Sophia", "gender": "Female", "age": 22}, {"experience": "Veteran", "subscribe": false, "hashedEmail": "87f8fb877026755952b109523cc05b0aab91d7792eb6e64607322b8c6dc0021b", "played_hours": 0.0, "name": "Wren", "gender": "Male", "age": 20}, {"experience": "Amateur", "subscribe": true, "hashedEmail": "fe218a05c6c3fc6326f4f151e8cb75a2a9fa29e22b110d4c311fb58fb211f471", "played_hours": 0.1, "name": "Fatima", "gender": "Male", "age": 17}, {"experience": "Amateur", "subscribe": true, "hashedEmail": "827f9a82b47cdf21098bc7bb1d4241550dc6146ba9ae8b9493bcd2cbd4477dd9", "played_hours": 0.0, "name": "Sean", "gender": "Male", "age": 22}, {"experience": "Regular", "subscribe": true, "hashedEmail": "336adf9b9070abb44eaec22a48b04d8cda6cf0c98a46eef37779a1dcb6f5b4bb", "played_hours": 4.0, "name": "Scarlett", "gender": "Male", "age": 21}, {"experience": "Veteran", "subscribe": true, "hashedEmail": "e44041459da2102dc20147ed6f0db4753547be66fc4ddea037bafca64004de2d", "played_hours": 0.4, "name": "Gianna", "gender": "Male", "age": 18}, {"experience": "Beginner", "subscribe": false, "hashedEmail": "722ab6d91280c439f2780767a1250889e93f75fc0ba0bc48175da022ab3e9ea9", "played_hours": 0.0, "name": "Leyla", "gender": "Female", "age": 17}, {"experience": "Beginner", "subscribe": true, "hashedEmail": "ae8d8a9dcf80b38466f89466201e6d594eb94d6994eda1617f7dfae9cb21bfb3", "played_hours": 1.0, "name": "Ella", "gender": "Female", "age": 17}, {"experience": "Regular", "subscribe": true, "hashedEmail": "7ea2a6532a9a7f33e1ad6067015746bbbbacaabb8cba0f430129f851c0aa59d9", "played_hours": 0.1, "name": "Eleni", "gender": "Male", "age": 24}, {"experience": "Veteran", "subscribe": false, "hashedEmail": "58893f3187db90bf0690c88f06e6aa5f8ea9ff9691ca8e771723dd34e087fd24", "played_hours": 0.0, "name": "Noah", "gender": "Prefer not to say", "age": 20}, {"experience": "Amateur", "subscribe": true, "hashedEmail": "492019854900f31f82ca53ab65a06ccb36ade53a3135e3c9f58e92de8042cb85", "played_hours": 0.0, "name": "River", "gender": "Prefer not to say", "age": 17}, {"experience": "Veteran", "subscribe": false, "hashedEmail": "4c0662a559f9d83b4d84ce3d86e6577c9f7a426c80465c6174321afd96664da5", "played_hours": 0.0, "name": "Selena", "gender": "Male", "age": 46}, {"experience": "Beginner", "subscribe": true, "hashedEmail": "d7e7a5ff16f94d1e793490b521671f7ca56d77820df9b992e5eaecb659b2918b", "played_hours": 0.0, "name": "Logan", "gender": "Male", "age": 23}, {"experience": "Pro", "subscribe": true, "hashedEmail": "e47ae138603b9a7d6e9b97554bac2daf0477b30e0a4f29ed9d3deacc3c7ec155", "played_hours": 0.1, "name": "Hayden", "gender": "Male", "age": 15}, {"experience": "Beginner", "subscribe": true, "hashedEmail": "9c2a5275ada716508a7e66629dfbeaa4c03ca9eb5f30d2132f41de130c367c56", "played_hours": 0.1, "name": "Bella", "gender": "Male", "age": 24}, {"experience": "Amateur", "subscribe": false, "hashedEmail": "8d713786e0bf0371cd928a91d32d1e37b14e14e49744cdebac90885c05c48afa", "played_hours": 0.1, "name": "Bodhi", "gender": "Female", "age": 32}, {"experience": "Beginner", "subscribe": false, "hashedEmail": "e74c60a92c0100e7240be56d66969db85856152b048c639331a3595f901461ae", "played_hours": 7.1, "name": "Arash", "gender": "Male", "age": 17}, {"experience": "Beginner", "subscribe": true, "hashedEmail": "ed3e6d043dee74fad932be44d0600f4502055198c511927b0c906f50b57d9582", "played_hours": 0.0, "name": "Hamish", "gender": "Male", "age": 17}, {"experience": "Regular", "subscribe": true, "hashedEmail": "c57fa94e436cf49a929d0168e47d26fec3d900b321775e280ef136979c01d5a4", "played_hours": 18.5, "name": "Dante", "gender": "Male", "age": 49}, {"experience": "Beginner", "subscribe": true, "hashedEmail": "d51a8c57269fe347b4b7760ec29c420832cb36a11c47569a9200872831910c05", "played_hours": 0.7, "name": "Amelie", "gender": "Female", "age": 24}, {"experience": "Amateur", "subscribe": true, "hashedEmail": "56bae029998e9fef1cf18f614dc0a5b300640494787c10724f70436f4c58d2b4", "played_hours": 0.0, "name": "Peyton", "gender": "Male", "age": 21}, {"experience": "Amateur", "subscribe": true, "hashedEmail": "88d3a5ba1c69571bb403103fe6054b9c607e5ecb1ff8aec9bc525720c75a1aa3", "played_hours": 0.0, "name": "Maria", "gender": "Female", "age": 17}, {"experience": "Amateur", "subscribe": true, "hashedEmail": "f6b7fa3cfaeb2f8d2cedf287cac000e219be75a0278039edc4c69eaf96250683", "played_hours": 0.0, "name": "Aria", "gender": "Two-Spirited", "age": 17}, {"experience": "Amateur", "subscribe": true, "hashedEmail": "fd6563a4e0f6f4273580e5fedbd8dda64990447aea5a33cbb5e894a3867ca44d", "played_hours": 56.1, "name": "Dana", "gender": "Male", "age": 23}, {"experience": "Amateur", "subscribe": false, "hashedEmail": "11bf6125c4264b3a8f3bffa57b33bd598e2ea1ecd6331ad3bc54aa88e22db035", "played_hours": 0.0, "name": "Olivia", "gender": "Female", "age": 23}, {"experience": "Regular", "subscribe": false, "hashedEmail": "ba9b943f7fd9b5078b20ece741c4cb6435418d5d8373b4fe3830487f6036095c", "played_hours": 0.1, "name": "Daisy", "gender": "Prefer not to say", "age": 17}, {"experience": "Beginner", "subscribe": true, "hashedEmail": "7b5c323f9a9e21b6bcc2a8c431e96f9f2155c7b4318a68d3e7d9edd2018095a9", "played_hours": 0.0, "name": "Xenos", "gender": "Two-Spirited", "age": 17}, {"experience": "Beginner", "subscribe": true, "hashedEmail": "fef4e1bed8c3f6dcd7bcd39ab21bd402386155b2ff8c8e53683e1d2793bf1ed1", "played_hours": 1.1, "name": "Caden", "gender": "Male", "age": 20}, {"experience": "Veteran", "subscribe": true, "hashedEmail": "9a559f381d4c432cd528992b9c31f624b5b7074f642328c29d16fd2277bd1cc2", "played_hours": 0.0, "name": "Kazuki", "gender": "Male", "age": 21}, {"experience": "Regular", "subscribe": true, "hashedEmail": "657e5c2da9dad8ec67b8f2875d98c290dc97573d86b77022d3b58ee913ed491c", "played_hours": 0.0, "name": "Jamal", "gender": "Male", "age": 20}, {"experience": "Veteran", "subscribe": true, "hashedEmail": "d711ff0c9d03664676d1ce80ca7ac5e57f7ebbc0d04bd486641c1d857ebb3eda", "played_hours": 0.0, "name": "Haruki", "gender": "Male", "age": 17}, {"experience": "Veteran", "subscribe": true, "hashedEmail": "c7bc394038bc433736fb1ecec22e6490582a5c9c6fb312d397fb71479aa8d422", "played_hours": 0.0, "name": "Jason", "gender": "Male", "age": 17}, {"experience": "Veteran", "subscribe": true, "hashedEmail": "702309b8b646235edbc6025d3d3b9673f502b3d3a05df5cf3890893e559a2d88", "played_hours": 0.0, "name": "Soren", "gender": "Male", "age": 20}, {"experience": "Regular", "subscribe": true, "hashedEmail": "32f753965c7b684cdda8cb19ff9c8734a9afa41a4ddf4a1dfb9594097d78e1a7", "played_hours": 0.0, "name": "Luc", "gender": "Male", "age": 20}, {"experience": "Regular", "subscribe": false, "hashedEmail": "a2a0612e9a7da558cbac2ee3c816740324505a69a6e042c94aa1b67731f9ff01", "played_hours": 0.0, "name": "Cornelius", "gender": "Male", "age": 18}, {"experience": "Beginner", "subscribe": true, "hashedEmail": "6ca8a90e4f5c61bf36baf556d446873c4e894e7a62f91996aa237be64b0e183b", "played_hours": 1.0, "name": "Atlas", "gender": "Female", "age": 17}, {"experience": "Veteran", "subscribe": true, "hashedEmail": "f707d141be44b2bf963eb171dbd14599059b4dda09aa002ba95ead4fa67273a7", "played_hours": 0.1, "name": "Bianca", "gender": "Male", "age": 16}, {"experience": "Beginner", "subscribe": true, "hashedEmail": "9782452b8e41d1f140374eec34c84f464df6ed12e2777e5b4f7150912b8ab78c", "played_hours": 23.7, "name": "Isla", "gender": "Male", "age": 24}, {"experience": "Veteran", "subscribe": false, "hashedEmail": "11006065e9412650e99eea4a4aaaf0399bc338006f85e80cc82d18b49f0e2aa4", "played_hours": 0.1, "name": "Callum", "gender": "Male", "age": 19}, {"experience": "Pro", "subscribe": true, "hashedEmail": "5669c0f4b50dbfe3e2f851e4bb89fa43c55cd1f71ba362ad0f03780cecfcc5e7", "played_hours": 0.0, "name": "Padma", "gender": "Non-binary", "age": 25}, {"experience": "Amateur", "subscribe": false, "hashedEmail": "6fa105fac7f4f37350f21830db78cde153d8edda41d6f4f2d48c9785d605c5e5", "played_hours": 0.1, "name": "Yosef", "gender": "Male", "age": 45}, {"experience": "Veteran", "subscribe": true, "hashedEmail": "360c682d9a10b9010e0d357a2aac315ab31c296367c236de5993b647541868ff", "played_hours": 0.0, "name": "Lily", "gender": "Male", "age": 18}, {"experience": "Amateur", "subscribe": true, "hashedEmail": "2cfed571797b66cc810c32562fc5b0f70b5bec0f5250799245527135bbf9662e", "played_hours": 0.0, "name": "Milo", "gender": "Male", "age": 16}, {"experience": "Amateur", "subscribe": false, "hashedEmail": "704d12809485f62804152be3e15e7092398efb1c24fc4e8ecb73a2c4c8141d96", "played_hours": 0.0, "name": "Hazel", "gender": "Male", "age": 17}, {"experience": "Amateur", "subscribe": true, "hashedEmail": "bda1905e54b6c745bcced9d59ce655a5bfd03c35cc6abdd8d1610e5c416f79d1", "played_hours": 0.0, "name": "Vaughn", "gender": "Male", "age": 17}, {"experience": "Beginner", "subscribe": true, "hashedEmail": "aea049eaa7cb10db386a62990220d205ceb2a4c473cae3ec7bab107278c26559", "played_hours": 0.2, "name": "Aarav", "gender": "Prefer not to say", "age": 17}, {"experience": "Beginner", "subscribe": true, "hashedEmail": "0ce7bfa910d47fc91f21a7b3acd8f33bde6db57912ce0290fa0437ce0b97f387", "played_hours": 0.1, "name": "Osiris", "gender": "Male", "age": 17}, {"experience": "Amateur", "subscribe": true, "hashedEmail": "80294d959b70ac14da3e50daaff8edc888d052c8f82da7b215c00a0a2b59703e", "played_hours": 0.0, "name": "Mikael", "gender": "Male", "age": 19}, {"experience": "Amateur", "subscribe": true, "hashedEmail": "22a78bfd44e46931261d06864b92cf9a8fd77fb02bec66cb71646dd9da222a0d", "played_hours": 1.2, "name": "Aaron", "gender": "Non-binary", "age": 17}, {"experience": "Amateur", "subscribe": true, "hashedEmail": "8af6e04a9067b009303e36cf39f7e7d53f9473e74b4633876ddd79769158b665", "played_hours": 0.1, "name": "Zelda", "gender": "Male", "age": 23}, {"experience": "Regular", "subscribe": true, "hashedEmail": "7d71c49cbbce8dcf0276b2bfecfa2d16f22cb31a4024556d6085884298f2ee8d", "played_hours": 0.1, "name": "Devin", "gender": "Two-Spirited", "age": 99}, {"experience": "Regular", "subscribe": true, "hashedEmail": "ad6390295640af1ed0e45ffc58a53b2d9074b0eea694b16210addd44d7c81f83", "played_hours": 178.2, "name": "Piper", "gender": "Female", "age": 19}, {"experience": "Beginner", "subscribe": true, "hashedEmail": "592c98fb298f1299666a44c06ca4ed6e0bbf33ab982c831665a77f4e97f5272d", "played_hours": 0.0, "name": "Ji-Yeon", "gender": "Male", "age": 22}, {"experience": "Beginner", "subscribe": true, "hashedEmail": "66c0d0e7306c473d4d3107c74dc6887dc73e3fa311f6b382fc2ca6beec75bc0d", "played_hours": 0.0, "name": "Taylor", "gender": "Male", "age": 24}, {"experience": "Veteran", "subscribe": false, "hashedEmail": "f174555ae3ff613d5d0b98f83f26f689619d92ef272f28f3aa236003d3dbb159", "played_hours": 0.0, "name": "Finley", "gender": "Non-binary", "age": 17}, {"experience": "Pro", "subscribe": true, "hashedEmail": "f4f29f2465743ead8c3ce02fc84542afe33ae3c95ef56a42b8f7785550fe9e4a", "played_hours": 0.6, "name": "Arlo", "gender": "Male", "age": 19}, {"experience": "Regular", "subscribe": true, "hashedEmail": "d43af3bed5e9f1f31077233697c18f3f988a217bd0376a5f1a54d14964a38c36", "played_hours": 0.5, "name": "Xia", "gender": "Female", "age": 20}, {"experience": "Regular", "subscribe": true, "hashedEmail": "d44771ed0a8382b0750ab5266bf2f33e1f95dc3d994652e15963141935710caa", "played_hours": 0.0, "name": "Levi", "gender": "Male", "age": 22}, {"experience": "Regular", "subscribe": true, "hashedEmail": "c121e4d197469bea90e21c0495001f4e21824adb98cbc6a40d54e66617cee174", "played_hours": 0.1, "name": "Rupert", "gender": "Male", "age": 21}, {"experience": "Amateur", "subscribe": false, "hashedEmail": "7096b30972a32029244fc6171f21bc5996b51b8d75df7a94f003dead428988f9", "played_hours": 1.0, "name": "Radwan", "gender": "Male", "age": 26}, {"experience": "Beginner", "subscribe": false, "hashedEmail": "42eafe96ed5c1684e3b5cc614d1b01a117173d3ec6898abcf1177d9822bd39f7", "played_hours": 0.3, "name": "Ariana", "gender": "Female", "age": 17}, {"experience": "Veteran", "subscribe": true, "hashedEmail": "9ba67e127e4e70d909f6237644bb4674b17bc6ae5c9e735f88cfc50e22b499c6", "played_hours": 0.1, "name": "Quinton", "gender": "Male", "age": 17}, {"experience": "Veteran", "subscribe": false, "hashedEmail": "4bfad3613c71ace05644bf210195d9fb0d3d9513753ad2f8a16d1a80699bb906", "played_hours": 0.1, "name": "Rocco", "gender": "Male", "age": 17}, {"experience": "Pro", "subscribe": false, "hashedEmail": "060aca80f8cfbf1c91553a72f4d5ec8034764b05ab59fe8e1cf0eee9a7b67967", "played_hours": 0.4, "name": "Lyra", "gender": "Male", "age": 21}, {"experience": "Beginner", "subscribe": false, "hashedEmail": "80afc8e7137de6a232421e926c1e6e64ddeef1d8157c4439746bc00fcf91e8a7", "played_hours": 1.8, "name": "Amelia", "gender": "Male", "age": 32}, {"experience": "Veteran", "subscribe": true, "hashedEmail": "af6b2350478c6bd6af97c91c7eed1d121b82676d1d519ef5b6cfa16dd451fe27", "played_hours": 0.0, "name": "Saif", "gender": "Agender", "age": 20}, {"experience": "Regular", "subscribe": false, "hashedEmail": "7b17513f11968feaf6b02977885c436dc2a4549489ca25ef03022f9fbae19d81", "played_hours": 0.0, "name": "Balthazar", "gender": "Male", "age": 50}, {"experience": "Veteran", "subscribe": true, "hashedEmail": "171d3c323c6430ffe0722c931f4cced5c48935f6804e0ff250964e4c41da55b1", "played_hours": 0.0, "name": "Parker", "gender": "Male", "age": 17}, {"experience": "Amateur", "subscribe": true, "hashedEmail": "55d24216db39c27e1f17cc43d3127cbf8ed76ada6d098202b53ded319855e2c1", "played_hours": 0.3, "name": "Joaquim", "gender": "Male", "age": 17}, {"experience": "Pro", "subscribe": false, "hashedEmail": "e1e5b1d36ab7680b6927fd3cb619c2b5373167750f90f7a21bf67b5d9b0fd73f", "played_hours": 0.0, "name": "Jesse", "gender": "Non-binary", "age": 17}, {"experience": "Veteran", "subscribe": false, "hashedEmail": "a1e0438d568b9c05a93cadaf99969e4d44794d19dea31edd723cbc916f878c33", "played_hours": 2.7, "name": "Jamie", "gender": "Non-binary", "age": 21}, {"experience": "Amateur", "subscribe": true, "hashedEmail": "9955ab948064150d3686ef564389bdc6d6c60bc620a5ce3084b3dec4a7a006a7", "played_hours": 0.4, "name": "Charlie", "gender": "Two-Spirited", "age": 17}, {"experience": "Veteran", "subscribe": true, "hashedEmail": "6b1cdc07fcc1f7ea09509341fd245dd34fdba386f14a493e9107c18604baedc9", "played_hours": 0.1, "name": "Finnian", "gender": "Non-binary", "age": 17}, {"experience": "Amateur", "subscribe": false, "hashedEmail": "93efabc9f7de58f44c457bac715cf8f9f44cd88cc574fc02624cac194d2f0ea5", "played_hours": 2.1, "name": "Sebasti\u00e1n", "gender": "Male", "age": 24}, {"experience": "Amateur", "subscribe": true, "hashedEmail": "42382bb2af563e6979c5b84d288cbb49bb2ef90b1bcf196c2902da4ce20eb7f3", "played_hours": 0.8, "name": "Hunter", "gender": "Female", "age": 22}, {"experience": "Pro", "subscribe": false, "hashedEmail": "f7875ae87a61632030d5c4029ee8cf081be7047b2b4a9c04ab5a706f59786197", "played_hours": 0.2, "name": "Liam", "gender": "Male", "age": 17}, {"experience": "Amateur", "subscribe": true, "hashedEmail": "24d4892c2c3ce11d3e54c3bf31ee218901cac7a2f564911d67424c8fdf0874fe", "played_hours": 32.0, "name": "Sidney", "gender": "Male", "age": 22}, {"experience": "Pro", "subscribe": false, "hashedEmail": "d46bd29a2ed08e3500bd8729085ef4b6f0ca65baf4c756f88b6bedf7a18e0352", "played_hours": 1.7, "name": "Asher", "gender": "Male", "age": 17}, {"experience": "Regular", "subscribe": false, "hashedEmail": "8e98b6db2053af0bc0e62cd55bcea5a08f23986dec3d02ca520ea039517e6744", "played_hours": 0.1, "name": "Sam", "gender": "Male", "age": 18}, {"experience": "Veteran", "subscribe": true, "hashedEmail": "ba24bebe588a34ac546f8559850c65bc90cd9d51b821581bd6e25cff437a1081", "played_hours": 0.1, "name": "Gabriela", "gender": "Female", "age": 44}, {"experience": "Amateur", "subscribe": true, "hashedEmail": "e3f0ad9aadd27f3d1d9197e58546d045018daa767675033d9af9a2b74e763739", "played_hours": 0.0, "name": "Jasper", "gender": "Male", "age": 17}, {"experience": "Beginner", "subscribe": true, "hashedEmail": "8c9d043ebb3689e679a37bfed30ea96272bcd14689ed2d9fcd68a4ae0c1663bc", "played_hours": 0.0, "name": "Lina", "gender": "Female", "age": 17}, {"experience": "Amateur", "subscribe": false, "hashedEmail": "514ebbaa30f0d162127e065ab780892b7930cf8d75944d5eb09c91c02d6026c7", "played_hours": 0.0, "name": "Orion", "gender": "Male", "age": 17}, {"experience": "Amateur", "subscribe": true, "hashedEmail": "644fe4200c19a73768b3fa598afcbd0948f7557925b7f17166285da23af31cc6", "played_hours": 0.0, "name": "Rhys", "gender": "Male", "age": 20}, {"experience": "Amateur", "subscribe": true, "hashedEmail": "b6e9e593b9ec51c5e335457341c324c34a2239531e1890b93ca52ac1dc76b08f", "played_hours": 0.0, "name": "Bailey", "gender": "Female", "age": 17}, {"experience": "Veteran", "subscribe": false, "hashedEmail": "71453e425f07d10da4fa2b349c83e73ccdf0fb3312f778b35c5802c3292c87bd", "played_hours": 0.3, "name": "Pascal", "gender": "Male", "age": 22}, {"experience": "Amateur", "subscribe": false, "hashedEmail": "d572f391d452b76ea2d7e5e53a3d38bfd7499c7399db299bd4fedb06a46ad5bb", "played_hours": 0.0, "name": "Dylan", "gender": "Prefer not to say", "age": 17}, {"experience": "Amateur", "subscribe": false, "hashedEmail": "f19e136ddde68f365afc860c725ccff54307dedd13968e896a9f890c40aea436", "played_hours": 2.3, "name": "Harlow", "gender": "Male", "age": 17}, {"experience": "Pro", "subscribe": true, "hashedEmail": "d9473710057f7d42f36570f0be83817a4eea614029ff90cf50d8889cdd729d11", "played_hours": 0.2, "name": "Ahmed", "gender": "Other", "age": 91}]}}, {"mode": "vega-lite"});
</script>



Figure 2.4: Age vs. Time Played plot

#### **2. Visualizing Categorical Variables**

Bar graphs were created for Experience vs. Hours Played and Gender vs. Hours Played to show any major variations among categories that could help provide a basis for our final prediction and analysis. Observation of the Experience vs. Hours Played plot suggests that players with regular gaming experience had a greater average number of hours played. The Gender vs. Hours Played plot shows that participants who are non-binary had the most hours played on average. However, this may not be representative as the mean data was graphed instead of raw data to prevent major gaps in data. Doing so only determines the average and does not account for the number of participants in each category.


```python
experience_aggregated = player_tidy.groupby("experience")["played_hours"].mean().reset_index()

experience_plot= alt.Chart(experience_aggregated, title = "Experience Level vs. Hours Played").mark_bar().encode(
    x= alt.X('experience').title('Experience Level'),
    y= alt.Y('played_hours').title('Time Played (hrs)'),
    color=alt.Color('experience', legend=alt.Legend(title='Experience'), scale=alt.Scale(scheme='lightmulti'))
).properties(
        width = 200,
        height = 300
).configure_axis(
    labelAngle=-45
)
                                                                                   
experience_plot   
```





<style>
  #altair-viz-a6ad18642d9947aaa73df443223c9f07.vega-embed {
    width: 100%;
    display: flex;
  }

  #altair-viz-a6ad18642d9947aaa73df443223c9f07.vega-embed details,
  #altair-viz-a6ad18642d9947aaa73df443223c9f07.vega-embed details summary {
    position: relative;
  }
</style>
<div id="altair-viz-a6ad18642d9947aaa73df443223c9f07"></div>
<script type="text/javascript">
  var VEGA_DEBUG = (typeof VEGA_DEBUG == "undefined") ? {} : VEGA_DEBUG;
  (function(spec, embedOpt){
    let outputDiv = document.currentScript.previousElementSibling;
    if (outputDiv.id !== "altair-viz-a6ad18642d9947aaa73df443223c9f07") {
      outputDiv = document.getElementById("altair-viz-a6ad18642d9947aaa73df443223c9f07");
    }
    const paths = {
      "vega": "https://cdn.jsdelivr.net/npm/vega@5?noext",
      "vega-lib": "https://cdn.jsdelivr.net/npm/vega-lib?noext",
      "vega-lite": "https://cdn.jsdelivr.net/npm/vega-lite@5.20.1?noext",
      "vega-embed": "https://cdn.jsdelivr.net/npm/vega-embed@6?noext",
    };

    function maybeLoadScript(lib, version) {
      var key = `${lib.replace("-", "")}_version`;
      return (VEGA_DEBUG[key] == version) ?
        Promise.resolve(paths[lib]) :
        new Promise(function(resolve, reject) {
          var s = document.createElement('script');
          document.getElementsByTagName("head")[0].appendChild(s);
          s.async = true;
          s.onload = () => {
            VEGA_DEBUG[key] = version;
            return resolve(paths[lib]);
          };
          s.onerror = () => reject(`Error loading script: ${paths[lib]}`);
          s.src = paths[lib];
        });
    }

    function showError(err) {
      outputDiv.innerHTML = `<div class="error" style="color:red;">${err}</div>`;
      throw err;
    }

    function displayChart(vegaEmbed) {
      vegaEmbed(outputDiv, spec, embedOpt)
        .catch(err => showError(`Javascript Error: ${err.message}<br>This usually means there's a typo in your chart specification. See the javascript console for the full traceback.`));
    }

    if(typeof define === "function" && define.amd) {
      requirejs.config({paths});
      require(["vega-embed"], displayChart, err => showError(`Error loading script: ${err.message}`));
    } else {
      maybeLoadScript("vega", "5")
        .then(() => maybeLoadScript("vega-lite", "5.20.1"))
        .then(() => maybeLoadScript("vega-embed", "6"))
        .catch(showError)
        .then(() => displayChart(vegaEmbed));
    }
  })({"config": {"view": {"continuousWidth": 300, "continuousHeight": 300}, "axis": {"labelAngle": -45}}, "data": {"name": "data-94672ee44445e614363a70ad0ecea40e"}, "mark": {"type": "bar"}, "encoding": {"color": {"field": "experience", "legend": {"title": "Experience"}, "scale": {"scheme": "lightmulti"}, "type": "nominal"}, "x": {"field": "experience", "title": "Experience Level", "type": "nominal"}, "y": {"field": "played_hours", "title": "Time Played (hrs)", "type": "quantitative"}}, "height": 300, "title": "Experience Level vs. Hours Played", "width": 200, "$schema": "https://vega.github.io/schema/vega-lite/v5.20.1.json", "datasets": {"data-94672ee44445e614363a70ad0ecea40e": [{"experience": "Amateur", "played_hours": 6.017460317460317}, {"experience": "Beginner", "played_hours": 1.2485714285714287}, {"experience": "Pro", "played_hours": 2.6}, {"experience": "Regular", "played_hours": 18.208333333333332}, {"experience": "Veteran", "played_hours": 0.6479166666666667}]}}, {"mode": "vega-lite"});
</script>



Figure 2.5: Experience vs. Time Played plot


```python
gender_aggregated = player_tidy.groupby("gender")["played_hours"].mean().reset_index()

gender_plot= alt.Chart(gender_aggregated, title = "Gender vs. Hours Played").mark_bar().encode(
    x= alt.X('gender').title('Gender'),
    y= alt.Y('played_hours').title('Time Played (hrs)'),
    color=alt.Color('gender', legend=alt.Legend(title='Gender'), scale=alt.Scale(scheme='lightmulti')
)).properties(
        width = 200,
        height = 300
).configure_axis(
    labelAngle=-45
)
                                                                                   
gender_plot
```





<style>
  #altair-viz-6469fc0b36974bdc96bb5fa12be6f290.vega-embed {
    width: 100%;
    display: flex;
  }

  #altair-viz-6469fc0b36974bdc96bb5fa12be6f290.vega-embed details,
  #altair-viz-6469fc0b36974bdc96bb5fa12be6f290.vega-embed details summary {
    position: relative;
  }
</style>
<div id="altair-viz-6469fc0b36974bdc96bb5fa12be6f290"></div>
<script type="text/javascript">
  var VEGA_DEBUG = (typeof VEGA_DEBUG == "undefined") ? {} : VEGA_DEBUG;
  (function(spec, embedOpt){
    let outputDiv = document.currentScript.previousElementSibling;
    if (outputDiv.id !== "altair-viz-6469fc0b36974bdc96bb5fa12be6f290") {
      outputDiv = document.getElementById("altair-viz-6469fc0b36974bdc96bb5fa12be6f290");
    }
    const paths = {
      "vega": "https://cdn.jsdelivr.net/npm/vega@5?noext",
      "vega-lib": "https://cdn.jsdelivr.net/npm/vega-lib?noext",
      "vega-lite": "https://cdn.jsdelivr.net/npm/vega-lite@5.20.1?noext",
      "vega-embed": "https://cdn.jsdelivr.net/npm/vega-embed@6?noext",
    };

    function maybeLoadScript(lib, version) {
      var key = `${lib.replace("-", "")}_version`;
      return (VEGA_DEBUG[key] == version) ?
        Promise.resolve(paths[lib]) :
        new Promise(function(resolve, reject) {
          var s = document.createElement('script');
          document.getElementsByTagName("head")[0].appendChild(s);
          s.async = true;
          s.onload = () => {
            VEGA_DEBUG[key] = version;
            return resolve(paths[lib]);
          };
          s.onerror = () => reject(`Error loading script: ${paths[lib]}`);
          s.src = paths[lib];
        });
    }

    function showError(err) {
      outputDiv.innerHTML = `<div class="error" style="color:red;">${err}</div>`;
      throw err;
    }

    function displayChart(vegaEmbed) {
      vegaEmbed(outputDiv, spec, embedOpt)
        .catch(err => showError(`Javascript Error: ${err.message}<br>This usually means there's a typo in your chart specification. See the javascript console for the full traceback.`));
    }

    if(typeof define === "function" && define.amd) {
      requirejs.config({paths});
      require(["vega-embed"], displayChart, err => showError(`Error loading script: ${err.message}`));
    } else {
      maybeLoadScript("vega", "5")
        .then(() => maybeLoadScript("vega-lite", "5.20.1"))
        .then(() => maybeLoadScript("vega-embed", "6"))
        .catch(showError)
        .then(() => displayChart(vegaEmbed));
    }
  })({"config": {"view": {"continuousWidth": 300, "continuousHeight": 300}, "axis": {"labelAngle": -45}}, "data": {"name": "data-fabbc66813a829705bdeb4e32cef05bd"}, "mark": {"type": "bar"}, "encoding": {"color": {"field": "gender", "legend": {"title": "Gender"}, "scale": {"scheme": "lightmulti"}, "type": "nominal"}, "x": {"field": "gender", "title": "Gender", "type": "nominal"}, "y": {"field": "played_hours", "title": "Time Played (hrs)", "type": "quantitative"}}, "height": 300, "title": "Gender vs. Hours Played", "width": 200, "$schema": "https://vega.github.io/schema/vega-lite/v5.20.1.json", "datasets": {"data-fabbc66813a829705bdeb4e32cef05bd": [{"gender": "Agender", "played_hours": 6.25}, {"gender": "Female", "played_hours": 10.635135135135135}, {"gender": "Male", "played_hours": 4.12741935483871}, {"gender": "Non-binary", "played_hours": 14.879999999999999}, {"gender": "Other", "played_hours": 0.2}, {"gender": "Prefer not to say", "played_hours": 0.3727272727272727}, {"gender": "Two-Spirited", "played_hours": 0.08333333333333333}]}}, {"mode": "vega-lite"});
</script>



Figure 2.6: Gender vs. Time Played plot


```python
# Visualizing the gender distribution across experience levels using raw data

experience_gendered_plot= alt.Chart(player_tidy, title = "Experience and Gender vs. Time Played").mark_bar().encode(
    x= alt.X('experience').title('Player Experience'),
    y= alt.Y('played_hours').title('Time Played (hrs)'),
    color=alt.Color('gender', legend=alt.Legend(title='Gender'), scale=alt.Scale(scheme='lightmulti')
)).properties(
        width = 200,
        height = 300
).configure_axis(
    labelAngle=-45
)

experience_gendered_plot
```





<style>
  #altair-viz-7f70609dcd3f45aa962eedee905b038d.vega-embed {
    width: 100%;
    display: flex;
  }

  #altair-viz-7f70609dcd3f45aa962eedee905b038d.vega-embed details,
  #altair-viz-7f70609dcd3f45aa962eedee905b038d.vega-embed details summary {
    position: relative;
  }
</style>
<div id="altair-viz-7f70609dcd3f45aa962eedee905b038d"></div>
<script type="text/javascript">
  var VEGA_DEBUG = (typeof VEGA_DEBUG == "undefined") ? {} : VEGA_DEBUG;
  (function(spec, embedOpt){
    let outputDiv = document.currentScript.previousElementSibling;
    if (outputDiv.id !== "altair-viz-7f70609dcd3f45aa962eedee905b038d") {
      outputDiv = document.getElementById("altair-viz-7f70609dcd3f45aa962eedee905b038d");
    }
    const paths = {
      "vega": "https://cdn.jsdelivr.net/npm/vega@5?noext",
      "vega-lib": "https://cdn.jsdelivr.net/npm/vega-lib?noext",
      "vega-lite": "https://cdn.jsdelivr.net/npm/vega-lite@5.20.1?noext",
      "vega-embed": "https://cdn.jsdelivr.net/npm/vega-embed@6?noext",
    };

    function maybeLoadScript(lib, version) {
      var key = `${lib.replace("-", "")}_version`;
      return (VEGA_DEBUG[key] == version) ?
        Promise.resolve(paths[lib]) :
        new Promise(function(resolve, reject) {
          var s = document.createElement('script');
          document.getElementsByTagName("head")[0].appendChild(s);
          s.async = true;
          s.onload = () => {
            VEGA_DEBUG[key] = version;
            return resolve(paths[lib]);
          };
          s.onerror = () => reject(`Error loading script: ${paths[lib]}`);
          s.src = paths[lib];
        });
    }

    function showError(err) {
      outputDiv.innerHTML = `<div class="error" style="color:red;">${err}</div>`;
      throw err;
    }

    function displayChart(vegaEmbed) {
      vegaEmbed(outputDiv, spec, embedOpt)
        .catch(err => showError(`Javascript Error: ${err.message}<br>This usually means there's a typo in your chart specification. See the javascript console for the full traceback.`));
    }

    if(typeof define === "function" && define.amd) {
      requirejs.config({paths});
      require(["vega-embed"], displayChart, err => showError(`Error loading script: ${err.message}`));
    } else {
      maybeLoadScript("vega", "5")
        .then(() => maybeLoadScript("vega-lite", "5.20.1"))
        .then(() => maybeLoadScript("vega-embed", "6"))
        .catch(showError)
        .then(() => displayChart(vegaEmbed));
    }
  })({"config": {"view": {"continuousWidth": 300, "continuousHeight": 300}, "axis": {"labelAngle": -45}}, "data": {"name": "data-dc39170511f3ba1e9a8571eea42c5369"}, "mark": {"type": "bar"}, "encoding": {"color": {"field": "gender", "legend": {"title": "Gender"}, "scale": {"scheme": "lightmulti"}, "type": "nominal"}, "x": {"field": "experience", "title": "Player Experience", "type": "nominal"}, "y": {"field": "played_hours", "title": "Time Played (hrs)", "type": "quantitative"}}, "height": 300, "title": "Experience and Gender vs. Time Played", "width": 200, "$schema": "https://vega.github.io/schema/vega-lite/v5.20.1.json", "datasets": {"data-dc39170511f3ba1e9a8571eea42c5369": [{"experience": "Pro", "subscribe": true, "hashedEmail": "f6daba428a5e19a3d47574858c13550499be23603422e6a0ee9728f8b53e192d", "played_hours": 30.3, "name": "Morgan", "gender": "Male", "age": 9}, {"experience": "Veteran", "subscribe": true, "hashedEmail": "f3c813577c458ba0dfef80996f8f32c93b6e8af1fa939732842f2312358a88e9", "played_hours": 3.8, "name": "Christian", "gender": "Male", "age": 17}, {"experience": "Veteran", "subscribe": false, "hashedEmail": "b674dd7ee0d24096d1c019615ce4d12b20fcbff12d79d3c5a9d2118eb7ccbb28", "played_hours": 0.0, "name": "Blake", "gender": "Male", "age": 17}, {"experience": "Amateur", "subscribe": true, "hashedEmail": "23fe711e0e3b77f1da7aa221ab1192afe21648d47d2b4fa7a5a659ff443a0eb5", "played_hours": 0.7, "name": "Flora", "gender": "Female", "age": 21}, {"experience": "Regular", "subscribe": true, "hashedEmail": "7dc01f10bf20671ecfccdac23812b1b415acd42c2147cb0af4d48fcce2420f3e", "played_hours": 0.1, "name": "Kylie", "gender": "Male", "age": 21}, {"experience": "Amateur", "subscribe": true, "hashedEmail": "f58aad5996a435f16b0284a3b267f973f9af99e7a89bee0430055a44fa92f977", "played_hours": 0.0, "name": "Adrian", "gender": "Female", "age": 17}, {"experience": "Regular", "subscribe": true, "hashedEmail": "8e594b8953193b26f498db95a508b03c6fe1c24bb5251d392c18a0da9a722807", "played_hours": 0.0, "name": "Luna", "gender": "Female", "age": 19}, {"experience": "Amateur", "subscribe": false, "hashedEmail": "1d2371d8a35c8831034b25bda8764539ab7db0f63938696917c447128a2540dd", "played_hours": 0.0, "name": "Emerson", "gender": "Male", "age": 21}, {"experience": "Amateur", "subscribe": true, "hashedEmail": "8b71f4d66a38389b7528bb38ba6eb71157733df7d1740371852a797ae97d82d1", "played_hours": 0.1, "name": "Natalie", "gender": "Male", "age": 17}, {"experience": "Veteran", "subscribe": true, "hashedEmail": "bbe2d83de678f519c4b3daa7265e683b4fe2d814077f9094afd11d8f217039ec", "played_hours": 0.0, "name": "Nyla", "gender": "Female", "age": 22}, {"experience": "Veteran", "subscribe": true, "hashedEmail": "7a4686586d290c67179275c7c3dfb4ea02f4d317d9ee0e2cee98baa27877a875", "played_hours": 1.6, "name": "Lane", "gender": "Female", "age": 23}, {"experience": "Pro", "subscribe": true, "hashedEmail": "4caa42e1b20511552434978171dcf7283fb6eb857eb871327e39bfc328002309", "played_hours": 0.0, "name": "Daniela", "gender": "Male", "age": 17}, {"experience": "Beginner", "subscribe": true, "hashedEmail": "4bed6f49b672974f706aa7f020b4f29020326bf594520593557cd381a51559b8", "played_hours": 1.5, "name": "Sarah", "gender": "Female", "age": 25}, {"experience": "Amateur", "subscribe": true, "hashedEmail": "3caa832978e0596779f4ee7c686c4592fb6de893925025d25bf26be9a8cd03f5", "played_hours": 0.2, "name": "Thatcher", "gender": "Male", "age": 22}, {"experience": "Veteran", "subscribe": true, "hashedEmail": "6f9acf8ea9956fe817895c78d10e1e25c11aba335a451e5b0322b073ee5008c4", "played_hours": 0.0, "name": "Niamh", "gender": "Non-binary", "age": 17}, {"experience": "Amateur", "subscribe": false, "hashedEmail": "2313a06afe47eacc28ff55adf6f072e7d12b0d12d7cbae29656f9029ec72bb53", "played_hours": 0.0, "name": "Quinlan", "gender": "Male", "age": 22}, {"experience": "Beginner", "subscribe": true, "hashedEmail": "9db37a1d381697f6c83e3b97b276e38bb9d9c811ba4596edb75d4dbfea6415b0", "played_hours": 0.0, "name": "Elodie", "gender": "Female", "age": 17}, {"experience": "Amateur", "subscribe": true, "hashedEmail": "a175d4741dc84e6baf77901f6e8e0a06f54809a34e6b5211159bced346f7fb3e", "played_hours": 48.4, "name": "Xander", "gender": "Female", "age": 17}, {"experience": "Amateur", "subscribe": true, "hashedEmail": "ab1f44f93c3b828f55458971db393052d9711df3e0e7ff69540bfebfcec555ff", "played_hours": 0.5, "name": "Marley", "gender": "Male", "age": 17}, {"experience": "Regular", "subscribe": true, "hashedEmail": "20ae3f8b5323674fe6e537bc91928841cfc2a00c1b36522fd25370bb6fa89d36", "played_hours": 0.6, "name": "Ryker", "gender": "Male", "age": 19}, {"experience": "Regular", "subscribe": true, "hashedEmail": "bc704ff2bc676dbf48ee41b9e11481c1387bf758ad318f2428f336e3fecc6660", "played_hours": 0.3, "name": "Andy", "gender": "Male", "age": 8}, {"experience": "Amateur", "subscribe": false, "hashedEmail": "200db0417ee70863c7e2a0f214c737476fb86de5869d0b907a077d726357e687", "played_hours": 0.1, "name": "Anastasia", "gender": "Female", "age": 17}, {"experience": "Beginner", "subscribe": true, "hashedEmail": "f9ac013b2f0bc2bd4928a6a0fc8a0aae8b5c4f2670cf9e18f547b7e72034c965", "played_hours": 1.0, "name": "Leah", "gender": "Male", "age": 17}, {"experience": "Beginner", "subscribe": true, "hashedEmail": "89c8e07d6a2aa102d9cd05086d51b2e41195c9c807dd976a06f4262ff36d0cca", "played_hours": 0.0, "name": "Ren", "gender": "Male", "age": 17}, {"experience": "Amateur", "subscribe": true, "hashedEmail": "119f01b9877fc5ea0073d05602a353b91c4b48e4cf02f42bb8d661b46a34b760", "played_hours": 0.7, "name": "Hugo", "gender": "Female", "age": 21}, {"experience": "Regular", "subscribe": true, "hashedEmail": "5baba1651a0b92788bc0d6dcdf00be64af1cf9f0015bbeed204ddabd1d872e83", "played_hours": 0.6, "name": "Kendall", "gender": "Female", "age": 28}, {"experience": "Regular", "subscribe": true, "hashedEmail": "50cec73a632e4be7b155c3df5165de28b2c5baf092abcb7f509f5645776a56c2", "played_hours": 0.0, "name": "Iman", "gender": "Male", "age": 17}, {"experience": "Veteran", "subscribe": false, "hashedEmail": "f8acd26a5e452b682b9f8b20108caef1ee2e745efe08e95806980bd2388a3fea", "played_hours": 0.0, "name": "Finn", "gender": "Male", "age": 23}, {"experience": "Amateur", "subscribe": true, "hashedEmail": "4b01bce3f141289709e8278b02ba5d2aaa7105d7ccb9c7deb37670a80e332774", "played_hours": 1.8, "name": "Luca", "gender": "Male", "age": 23}, {"experience": "Veteran", "subscribe": false, "hashedEmail": "951e54f7376e2b2f0915e9e3646c701af4a2fe839385b13f9e0084b08f8070bd", "played_hours": 0.1, "name": "Vivienne", "gender": "Male", "age": 18}, {"experience": "Amateur", "subscribe": true, "hashedEmail": "710148466b44cb02ba894aa9005a4892e619250ebd01153055d6c7578fc1ea10", "played_hours": 0.1, "name": "Ayman", "gender": "Male", "age": 23}, {"experience": "Veteran", "subscribe": true, "hashedEmail": "f1b432523542f90c61176a555ccb2144468d76c91a32d74082ab8c101f9d25b6", "played_hours": 0.1, "name": "London", "gender": "Male", "age": 21}, {"experience": "Amateur", "subscribe": true, "hashedEmail": "1683a3e0aed65119f83540274ff6f965fdf66890613a80f88572dfb1d9f1d2ad", "played_hours": 0.0, "name": "Farid", "gender": "Male", "age": 17}, {"experience": "Amateur", "subscribe": false, "hashedEmail": "df6a1201c9c638aff1df8aeaf459a5b0a00aa04824936ee0305f5c275352c647", "played_hours": 0.0, "name": "Vasco", "gender": "Prefer not to say", "age": 33}, {"experience": "Beginner", "subscribe": true, "hashedEmail": "f459ce1862ec9a43b6c714810390dfd632ed104eb11378b3a2a134b1b107bc75", "played_hours": 0.6, "name": "Jabari", "gender": "Male", "age": 26}, {"experience": "Veteran", "subscribe": true, "hashedEmail": "5a340c0e3d1aa3e579efc625bd3e5bca7fc25f7115b68e9411f457464bfd3df4", "played_hours": 0.4, "name": "Zoe", "gender": "Male", "age": 20}, {"experience": "Veteran", "subscribe": false, "hashedEmail": "88247d9a46fc214a12485dcbcbb03a8ddebfe8c1ec5fe209cd660147625c8e62", "played_hours": 1.4, "name": "Aiden", "gender": "Prefer not to say", "age": 25}, {"experience": "Amateur", "subscribe": true, "hashedEmail": "e3e1bef1ce259c995332635c0ec630a575713451cbe742d7ca93e4c03d0826df", "played_hours": 0.2, "name": "Kennedy", "gender": "Male", "age": 17}, {"experience": "Veteran", "subscribe": true, "hashedEmail": "d782933acd14c834e53dea816005a3583cb87710f7347a7a862cb4a43cc21692", "played_hours": 0.0, "name": "Ishaan", "gender": "Male", "age": 17}, {"experience": "Amateur", "subscribe": true, "hashedEmail": "6ef84a204d64edc3b3779127b13f298d0c70f96568486f785271f4c81ec0fe72", "played_hours": 0.0, "name": "Vivian", "gender": "Male", "age": 17}, {"experience": "Regular", "subscribe": true, "hashedEmail": "0d4d71be33e2bc7266ee4983002bd930f69d304288a8663529c875f40f1750f3", "played_hours": 5.6, "name": "Winslow", "gender": "Male", "age": 17}, {"experience": "Veteran", "subscribe": true, "hashedEmail": "d07befbac08be3d876d026ac0458651067001b39081d24724af3c95be76355e0", "played_hours": 0.1, "name": "Yvette", "gender": "Non-binary", "age": 17}, {"experience": "Amateur", "subscribe": true, "hashedEmail": "75f275366c0dbb8b23957b97aaaf77db5d6517fb846d3d4d209bd391ae3d39f6", "played_hours": 0.3, "name": "Sahil", "gender": "Male", "age": 24}, {"experience": "Veteran", "subscribe": true, "hashedEmail": "126ec350278422ba60ad575d230c19522fd568094b7c0fc17f8cc27fa4c810ab", "played_hours": 0.0, "name": "Mina", "gender": "Non-binary", "age": 21}, {"experience": "Veteran", "subscribe": true, "hashedEmail": "8d2eed1f399e0d77cebb8fcc48ed19ad2fa8e3bb3fa683cb90e0ac6d42677bf2", "played_hours": 2.2, "name": "Cyrus", "gender": "Male", "age": 24}, {"experience": "Beginner", "subscribe": false, "hashedEmail": "fa7d496b2f74c51ec70395bd8397b49f97a3ce8d7ba7e08887d82ec0008137a7", "played_hours": 0.0, "name": "Umar", "gender": "Male", "age": 24}, {"experience": "Veteran", "subscribe": true, "hashedEmail": "577aa5f15468252b1c6f32dcd515012923476292e30f95e6b4128c770e993f92", "played_hours": 0.1, "name": "Winston", "gender": "Male", "age": 17}, {"experience": "Regular", "subscribe": false, "hashedEmail": "453774822d52d6891593948224570a750c4334616ff8aa74cd61fad9d4855752", "played_hours": 0.0, "name": "Edmund", "gender": "Prefer not to say", "age": 23}, {"experience": "Veteran", "subscribe": true, "hashedEmail": "b3510c708bd50bf9f75e6e02bb6fe14edb705e0ea671ee769a45c613750e8b58", "played_hours": 12.5, "name": "Isidore", "gender": "Agender", "age": 27}, {"experience": "Beginner", "subscribe": true, "hashedEmail": "d13020f8d53c08c95e64f2254424a65c9c479fcfd866b21b850d200a2689a8b5", "played_hours": 0.4, "name": "Omkar", "gender": "Prefer not to say", "age": 22}, {"experience": "Veteran", "subscribe": true, "hashedEmail": "82d2615c56f8bdb5e56c603d3c90096649eb944fe47e1c827219d8af0b9fc94a", "played_hours": 0.6, "name": "Th\u00e9o", "gender": "Male", "age": 21}, {"experience": "Regular", "subscribe": true, "hashedEmail": "b622593d2ef8b337dc554acb307d04a88114f2bf453b18fb5d2c80052aeb2319", "played_hours": 218.1, "name": "Akio", "gender": "Non-binary", "age": 20}, {"experience": "Amateur", "subscribe": false, "hashedEmail": "5c27e8b9fed2816b006dc8397ec04470b59339fd591a46a3eb7951b939b72984", "played_hours": 0.9, "name": "Pablo", "gender": "Male", "age": 18}, {"experience": "Amateur", "subscribe": true, "hashedEmail": "fc0224c81384770e93ca717f32713960144bf0b52ff67639433a5c06a653a882", "played_hours": 0.2, "name": "Gemna", "gender": "Male", "age": 27}, {"experience": "Beginner", "subscribe": false, "hashedEmail": "5e5c25a773be7a62638a163d773534e575a5ad5782104723e53cb676a30fa60b", "played_hours": 0.0, "name": "Jude", "gender": "Female", "age": 42}, {"experience": "Regular", "subscribe": true, "hashedEmail": "e8df74a0605dedc2d6ee2d2651019f9006965f8b70223d5bcf9c26337eb6df05", "played_hours": 0.0, "name": "Kai", "gender": "Male", "age": 20}, {"experience": "Amateur", "subscribe": true, "hashedEmail": "8e0aac3020b3fd9cdef4840b533b4b105aaf1ce1f6f2df3f328ba2a44cecfdc1", "played_hours": 2.9, "name": "Rafael", "gender": "Male", "age": 11}, {"experience": "Regular", "subscribe": true, "hashedEmail": "dadce3d41f822c6303ac17f48b63699d7437cb7392acc63584628e5cd0346b5f", "played_hours": 0.0, "name": "Bijan", "gender": "Male", "age": 17}, {"experience": "Regular", "subscribe": true, "hashedEmail": "f2826fb8dbce4d450348f99cb27ade184b713998d9679780442efaaf218038f2", "played_hours": 3.6, "name": "Zane", "gender": "Male", "age": 10}, {"experience": "Veteran", "subscribe": true, "hashedEmail": "ca20f724571080b997e0efa874b9611e9f280c1af5f68ff6231a9e5b5d79bcfe", "played_hours": 0.2, "name": "Edward", "gender": "Male", "age": 38}, {"experience": "Veteran", "subscribe": true, "hashedEmail": "055d1a2002f6308a95b03b8d17af28f43e9f91ca8b1e1fc439bf4d08b22e7c0f", "played_hours": 0.0, "name": "Frankie", "gender": "Male", "age": 17}, {"experience": "Regular", "subscribe": true, "hashedEmail": "0088b5e134c3f0498a18c7ea6b8d77b4b0ff1636fc93355ccc95b45423367832", "played_hours": 1.5, "name": "Isaac", "gender": "Male", "age": 20}, {"experience": "Pro", "subscribe": true, "hashedEmail": "0d70dd9cac34d646c810b1846fe6a85b9e288a76f5dcab9c1ff1a0e7ca200b3a", "played_hours": 1.0, "name": "Knox", "gender": "Male", "age": 17}, {"experience": "Pro", "subscribe": true, "hashedEmail": "90f1495942837b1cde67cc9e3119421e38183502a4c6dee304df3bf0c21e0dd0", "played_hours": 0.2, "name": "Tristan", "gender": "Male", "age": 17}, {"experience": "Amateur", "subscribe": true, "hashedEmail": "7c0ae28a5f85a515a8063f9ed989aa26c5ebcc64f6b7be2948c0b300c2c9bd47", "played_hours": 0.1, "name": "Evangeline", "gender": "Male", "age": 23}, {"experience": "Veteran", "subscribe": true, "hashedEmail": "dc73467f73263dd4a07838330dd1cc115aa3f8b03538911ee6aac048405939c4", "played_hours": 0.1, "name": "Felix", "gender": "Male", "age": 21}, {"experience": "Veteran", "subscribe": false, "hashedEmail": "70db3a16ef58cf8bf6d8658c426ba4a5fcd7523a0abdd413f14466c41181215d", "played_hours": 0.1, "name": "Lana", "gender": "Male", "age": 22}, {"experience": "Amateur", "subscribe": true, "hashedEmail": "18936844e06b6c7871dce06384e2d142dd86756941641ef39cf40a9967ea14e3", "played_hours": 17.2, "name": "Kyrie", "gender": "Male", "age": 14}, {"experience": "Regular", "subscribe": true, "hashedEmail": "5e0beb10f6163a508622ef25220d780bdd012a89dee571db77fc502980c0e57d", "played_hours": 0.1, "name": "Ophelia", "gender": "Male", "age": 15}, {"experience": "Regular", "subscribe": true, "hashedEmail": "e2d5e72a6486ad8f83dd71163f44f88138612b9f40c17e9455910fb06bb45735", "played_hours": 0.0, "name": "Magnus", "gender": "Male", "age": 21}, {"experience": "Regular", "subscribe": true, "hashedEmail": "71e724778a28bb0ebbdacb1328944dfef427525466b012b66e7554a65e401a16", "played_hours": 0.2, "name": "Carmen", "gender": "Male", "age": 14}, {"experience": "Amateur", "subscribe": true, "hashedEmail": "36d9cbb4c6bc0c1a6911436d2da0d09ec625e43e6552f575d4acc9cf487c4686", "played_hours": 53.9, "name": "Alex", "gender": "Male", "age": 17}, {"experience": "Veteran", "subscribe": true, "hashedEmail": "1edebbf13898dbe99da5ee743b1fd9cbfdc6d69f1180dd6261da662bacb1a7e5", "played_hours": 0.0, "name": "Will", "gender": "Male", "age": 17}, {"experience": "Veteran", "subscribe": true, "hashedEmail": "a56b4b044e562fcf7765387d53c9e6543c42595fb4318627989942ab5979f9d6", "played_hours": 0.0, "name": "Hadi", "gender": "Male", "age": 22}, {"experience": "Regular", "subscribe": true, "hashedEmail": "bfce39c89d6549f2bb94d8064d3ce69dc3d7e72b38f431d8aa0c4bf95ccee6bf", "played_hours": 223.1, "name": "Hiroshi", "gender": "Male", "age": 17}, {"experience": "Amateur", "subscribe": true, "hashedEmail": "95aa10ff79645508dcff5c08da02a8f6ddd9016b44fb469347e5739b8865c613", "played_hours": 0.5, "name": "Freya", "gender": "Male", "age": 21}, {"experience": "Amateur", "subscribe": true, "hashedEmail": "fb0005032363ec3b30c2ae668f78f5076b7e77de0c6a249e924eee608cd0a1fa", "played_hours": 3.5, "name": "Madison", "gender": "Female", "age": 21}, {"experience": "Regular", "subscribe": true, "hashedEmail": "e21a324ccf5c873bafe82e47d5137b36aa312ee4803eeb5cbc6cf945f9bb3f38", "played_hours": 0.0, "name": "Faye", "gender": "Male", "age": 17}, {"experience": "Regular", "subscribe": true, "hashedEmail": "65c53ff7acdd69fd42b2a3b04e44870ea12b55b93a7ea1d6855c21a861b5a373", "played_hours": 0.0, "name": "Juniper", "gender": "Non-binary", "age": 22}, {"experience": "Amateur", "subscribe": true, "hashedEmail": "dbb20960cd4db4900dde7832e349dae46f7688583c8138b34785d9c7e509b5b9", "played_hours": 0.0, "name": "Jia", "gender": "Female", "age": 26}, {"experience": "Veteran", "subscribe": true, "hashedEmail": "2cbbfa45451a38b85663b7a9a3fffed12af1ba063ec03613d4c9e3873090cd05", "played_hours": 0.0, "name": "Alaric", "gender": "Female", "age": 17}, {"experience": "Veteran", "subscribe": true, "hashedEmail": "cb00c16dc2043f435a7a8c2a473656e4119ffa7173bab7ec7455715173912498", "played_hours": 1.0, "name": "Suki", "gender": "Non-binary", "age": 17}, {"experience": "Beginner", "subscribe": false, "hashedEmail": "1a2b92f18f36b0b59b41d648d10a9b8b20a2adff550ddbcb8cec2f47d4d881d0", "played_hours": 0.2, "name": "Aurora", "gender": "Female", "age": 37}, {"experience": "Beginner", "subscribe": false, "hashedEmail": "4535690bb1e71073b59d049bd8055089c25573510f13aa0cbc169dad87fb2279", "played_hours": 0.0, "name": "Akira", "gender": "Male", "age": 28}, {"experience": "Beginner", "subscribe": true, "hashedEmail": "cb3c5734effd1e0218ba26ed8f3e515149824105c76bbf61782be8529281bff4", "played_hours": 0.0, "name": "Zara", "gender": "Female", "age": 17}, {"experience": "Amateur", "subscribe": false, "hashedEmail": "dda564c24927417948dbc5f9a13d4ec70d1382b1c3f401bd31adb7d4364edf39", "played_hours": 0.0, "name": "Violet", "gender": "Male", "age": 21}, {"experience": "Amateur", "subscribe": false, "hashedEmail": "9253d1969af1ff941ac9b2a4b2c61158932898827ac710d5bf156a0e6a06742b", "played_hours": 0.0, "name": "Ziad", "gender": "Two-Spirited", "age": 23}, {"experience": "Beginner", "subscribe": true, "hashedEmail": "d48302dee689942b60f7e9756eba99d0be030df0ab6f553904a9dbbc44d0b5d5", "played_hours": 0.1, "name": "Jonas", "gender": "Male", "age": 17}, {"experience": "Beginner", "subscribe": true, "hashedEmail": "a1094a440899e69e804f888f44d1154ec0b7675d05d97779a4a3aad97e31d4d8", "played_hours": 0.0, "name": "Maya", "gender": "Female", "age": 17}, {"experience": "Beginner", "subscribe": true, "hashedEmail": "3c8df87af184ec13db53ee11ace9d71414336fa8462d92ade48f5d422bf985d1", "played_hours": 0.0, "name": "Nico", "gender": "Female", "age": 23}, {"experience": "Amateur", "subscribe": true, "hashedEmail": "f8f5477f5a2e53616ae37421b1c660b971192bd8ff77e3398304c7ae42581fdc", "played_hours": 150.0, "name": "Delara", "gender": "Female", "age": 16}, {"experience": "Beginner", "subscribe": true, "hashedEmail": "eeb961422a3f9841018d4eb729ddc40ef103cc1205577d908b5ee43d4810bee6", "played_hours": 0.0, "name": "Nadia", "gender": "Non-binary", "age": 17}, {"experience": "Pro", "subscribe": true, "hashedEmail": "fcab03c6d3079521e7f9665caed0f31fe3dae6b5ccb86e6cb58747a43aa8789f", "played_hours": 1.2, "name": "Sakura", "gender": "Male", "age": 17}, {"experience": "Amateur", "subscribe": true, "hashedEmail": "5afb9b4ba7f0bb42d4e4d72ee21be8a51131a7677f0519b4606fdbf770eec750", "played_hours": 0.1, "name": "Naomi", "gender": "Male", "age": 17}, {"experience": "Beginner", "subscribe": true, "hashedEmail": "e3175c379bbb83c8786d2dd719cf844575aca24d2c81d643dc7f12f6227becf7", "played_hours": 0.8, "name": "Jade", "gender": "Female", "age": 22}, {"experience": "Regular", "subscribe": false, "hashedEmail": "dea781ecb85a9e85c8d1fa62b0c2a98c77a51f5933c1043bef66a4d666f50d58", "played_hours": 0.0, "name": "Ehsan", "gender": "Non-binary", "age": 17}, {"experience": "Amateur", "subscribe": true, "hashedEmail": "bd10e7eab5531d5e82c9eebb929e2703f05367a90b0533074392a5f39a55c5d9", "played_hours": 0.1, "name": "Gabriel", "gender": "Male", "age": 19}, {"experience": "Veteran", "subscribe": false, "hashedEmail": "d3ca24e4d7fe8ffe2a821ebd3b841252950ca53e4d659a5f33b987e2cd42a1ec", "played_hours": 0.1, "name": "Casey", "gender": "Male", "age": 18}, {"experience": "Amateur", "subscribe": false, "hashedEmail": "43768b39e3386b287e3c5598f0b18a27b84126ca92ea1b62f30b29c0cae2229e", "played_hours": 0.0, "name": "Zayn", "gender": "Prefer not to say", "age": 17}, {"experience": "Pro", "subscribe": true, "hashedEmail": "8eae13e0f5823d9c48fe7b89695ea231f96f644f664bcc74c5a07f7d0a1135bd", "played_hours": 0.5, "name": "Gray", "gender": "Male", "age": 12}, {"experience": "Amateur", "subscribe": true, "hashedEmail": "26362473ca8fab46358dbab9bcbcf7114bbcbadef90e6bf9212093f74bde9fe3", "played_hours": 0.0, "name": "Oleg", "gender": "Male", "age": 20}, {"experience": "Amateur", "subscribe": true, "hashedEmail": "25879aecc205544bc6505f9faf768356e0a3b7126057308ae3235f8a514e9a62", "played_hours": 0.0, "name": "Eli", "gender": "Female", "age": 17}, {"experience": "Veteran", "subscribe": true, "hashedEmail": "c1f8e7be2cd956223fe773abc6e34cc123217c78be75d81de6b15504ba03685d", "played_hours": 0.0, "name": "Kaden", "gender": "Non-binary", "age": 24}, {"experience": "Beginner", "subscribe": true, "hashedEmail": "96e190b0bf3923cd8d349eee467c09d1130af143335779251492eb4c2c058a5f", "played_hours": 2.0, "name": "Ibrahim", "gender": "Prefer not to say", "age": 27}, {"experience": "Amateur", "subscribe": false, "hashedEmail": "2917e2dacafed92d017b9f356ce90a442bea6e4ad59dbbb484a920398acb8974", "played_hours": 0.0, "name": "Haider", "gender": "Two-Spirited", "age": 26}, {"experience": "Regular", "subscribe": true, "hashedEmail": "80ab1e9e58f759ee2e5328a4471ae09029b981431c0adbc63c7441e401ea9d4d", "played_hours": 0.0, "name": "Willem", "gender": "Male", "age": 17}, {"experience": "Regular", "subscribe": false, "hashedEmail": "63139b524e44d156daf265875fb8078bb2b24d6b7520a35eda58c2d97bb8d15c", "played_hours": 0.0, "name": "Elias", "gender": "Male", "age": 23}, {"experience": "Veteran", "subscribe": false, "hashedEmail": "c871393f513c68e313874ac9d192a0b8be7bf99a96bff0ab46beb343ee4217d5", "played_hours": 2.7, "name": "Sophia", "gender": "Female", "age": 22}, {"experience": "Veteran", "subscribe": false, "hashedEmail": "87f8fb877026755952b109523cc05b0aab91d7792eb6e64607322b8c6dc0021b", "played_hours": 0.0, "name": "Wren", "gender": "Male", "age": 20}, {"experience": "Amateur", "subscribe": true, "hashedEmail": "fe218a05c6c3fc6326f4f151e8cb75a2a9fa29e22b110d4c311fb58fb211f471", "played_hours": 0.1, "name": "Fatima", "gender": "Male", "age": 17}, {"experience": "Amateur", "subscribe": true, "hashedEmail": "827f9a82b47cdf21098bc7bb1d4241550dc6146ba9ae8b9493bcd2cbd4477dd9", "played_hours": 0.0, "name": "Sean", "gender": "Male", "age": 22}, {"experience": "Regular", "subscribe": true, "hashedEmail": "336adf9b9070abb44eaec22a48b04d8cda6cf0c98a46eef37779a1dcb6f5b4bb", "played_hours": 4.0, "name": "Scarlett", "gender": "Male", "age": 21}, {"experience": "Veteran", "subscribe": true, "hashedEmail": "e44041459da2102dc20147ed6f0db4753547be66fc4ddea037bafca64004de2d", "played_hours": 0.4, "name": "Gianna", "gender": "Male", "age": 18}, {"experience": "Beginner", "subscribe": false, "hashedEmail": "722ab6d91280c439f2780767a1250889e93f75fc0ba0bc48175da022ab3e9ea9", "played_hours": 0.0, "name": "Leyla", "gender": "Female", "age": 17}, {"experience": "Beginner", "subscribe": true, "hashedEmail": "ae8d8a9dcf80b38466f89466201e6d594eb94d6994eda1617f7dfae9cb21bfb3", "played_hours": 1.0, "name": "Ella", "gender": "Female", "age": 17}, {"experience": "Regular", "subscribe": true, "hashedEmail": "7ea2a6532a9a7f33e1ad6067015746bbbbacaabb8cba0f430129f851c0aa59d9", "played_hours": 0.1, "name": "Eleni", "gender": "Male", "age": 24}, {"experience": "Veteran", "subscribe": false, "hashedEmail": "58893f3187db90bf0690c88f06e6aa5f8ea9ff9691ca8e771723dd34e087fd24", "played_hours": 0.0, "name": "Noah", "gender": "Prefer not to say", "age": 20}, {"experience": "Amateur", "subscribe": true, "hashedEmail": "492019854900f31f82ca53ab65a06ccb36ade53a3135e3c9f58e92de8042cb85", "played_hours": 0.0, "name": "River", "gender": "Prefer not to say", "age": 17}, {"experience": "Veteran", "subscribe": false, "hashedEmail": "4c0662a559f9d83b4d84ce3d86e6577c9f7a426c80465c6174321afd96664da5", "played_hours": 0.0, "name": "Selena", "gender": "Male", "age": 46}, {"experience": "Beginner", "subscribe": true, "hashedEmail": "d7e7a5ff16f94d1e793490b521671f7ca56d77820df9b992e5eaecb659b2918b", "played_hours": 0.0, "name": "Logan", "gender": "Male", "age": 23}, {"experience": "Pro", "subscribe": true, "hashedEmail": "e47ae138603b9a7d6e9b97554bac2daf0477b30e0a4f29ed9d3deacc3c7ec155", "played_hours": 0.1, "name": "Hayden", "gender": "Male", "age": 15}, {"experience": "Beginner", "subscribe": true, "hashedEmail": "9c2a5275ada716508a7e66629dfbeaa4c03ca9eb5f30d2132f41de130c367c56", "played_hours": 0.1, "name": "Bella", "gender": "Male", "age": 24}, {"experience": "Amateur", "subscribe": false, "hashedEmail": "8d713786e0bf0371cd928a91d32d1e37b14e14e49744cdebac90885c05c48afa", "played_hours": 0.1, "name": "Bodhi", "gender": "Female", "age": 32}, {"experience": "Beginner", "subscribe": false, "hashedEmail": "e74c60a92c0100e7240be56d66969db85856152b048c639331a3595f901461ae", "played_hours": 7.1, "name": "Arash", "gender": "Male", "age": 17}, {"experience": "Beginner", "subscribe": true, "hashedEmail": "ed3e6d043dee74fad932be44d0600f4502055198c511927b0c906f50b57d9582", "played_hours": 0.0, "name": "Hamish", "gender": "Male", "age": 17}, {"experience": "Regular", "subscribe": true, "hashedEmail": "c57fa94e436cf49a929d0168e47d26fec3d900b321775e280ef136979c01d5a4", "played_hours": 18.5, "name": "Dante", "gender": "Male", "age": 49}, {"experience": "Beginner", "subscribe": true, "hashedEmail": "d51a8c57269fe347b4b7760ec29c420832cb36a11c47569a9200872831910c05", "played_hours": 0.7, "name": "Amelie", "gender": "Female", "age": 24}, {"experience": "Amateur", "subscribe": true, "hashedEmail": "56bae029998e9fef1cf18f614dc0a5b300640494787c10724f70436f4c58d2b4", "played_hours": 0.0, "name": "Peyton", "gender": "Male", "age": 21}, {"experience": "Amateur", "subscribe": true, "hashedEmail": "88d3a5ba1c69571bb403103fe6054b9c607e5ecb1ff8aec9bc525720c75a1aa3", "played_hours": 0.0, "name": "Maria", "gender": "Female", "age": 17}, {"experience": "Amateur", "subscribe": true, "hashedEmail": "f6b7fa3cfaeb2f8d2cedf287cac000e219be75a0278039edc4c69eaf96250683", "played_hours": 0.0, "name": "Aria", "gender": "Two-Spirited", "age": 17}, {"experience": "Amateur", "subscribe": true, "hashedEmail": "fd6563a4e0f6f4273580e5fedbd8dda64990447aea5a33cbb5e894a3867ca44d", "played_hours": 56.1, "name": "Dana", "gender": "Male", "age": 23}, {"experience": "Amateur", "subscribe": false, "hashedEmail": "11bf6125c4264b3a8f3bffa57b33bd598e2ea1ecd6331ad3bc54aa88e22db035", "played_hours": 0.0, "name": "Olivia", "gender": "Female", "age": 23}, {"experience": "Regular", "subscribe": false, "hashedEmail": "ba9b943f7fd9b5078b20ece741c4cb6435418d5d8373b4fe3830487f6036095c", "played_hours": 0.1, "name": "Daisy", "gender": "Prefer not to say", "age": 17}, {"experience": "Beginner", "subscribe": true, "hashedEmail": "7b5c323f9a9e21b6bcc2a8c431e96f9f2155c7b4318a68d3e7d9edd2018095a9", "played_hours": 0.0, "name": "Xenos", "gender": "Two-Spirited", "age": 17}, {"experience": "Beginner", "subscribe": true, "hashedEmail": "fef4e1bed8c3f6dcd7bcd39ab21bd402386155b2ff8c8e53683e1d2793bf1ed1", "played_hours": 1.1, "name": "Caden", "gender": "Male", "age": 20}, {"experience": "Veteran", "subscribe": true, "hashedEmail": "9a559f381d4c432cd528992b9c31f624b5b7074f642328c29d16fd2277bd1cc2", "played_hours": 0.0, "name": "Kazuki", "gender": "Male", "age": 21}, {"experience": "Regular", "subscribe": true, "hashedEmail": "657e5c2da9dad8ec67b8f2875d98c290dc97573d86b77022d3b58ee913ed491c", "played_hours": 0.0, "name": "Jamal", "gender": "Male", "age": 20}, {"experience": "Veteran", "subscribe": true, "hashedEmail": "d711ff0c9d03664676d1ce80ca7ac5e57f7ebbc0d04bd486641c1d857ebb3eda", "played_hours": 0.0, "name": "Haruki", "gender": "Male", "age": 17}, {"experience": "Veteran", "subscribe": true, "hashedEmail": "c7bc394038bc433736fb1ecec22e6490582a5c9c6fb312d397fb71479aa8d422", "played_hours": 0.0, "name": "Jason", "gender": "Male", "age": 17}, {"experience": "Veteran", "subscribe": true, "hashedEmail": "702309b8b646235edbc6025d3d3b9673f502b3d3a05df5cf3890893e559a2d88", "played_hours": 0.0, "name": "Soren", "gender": "Male", "age": 20}, {"experience": "Regular", "subscribe": true, "hashedEmail": "32f753965c7b684cdda8cb19ff9c8734a9afa41a4ddf4a1dfb9594097d78e1a7", "played_hours": 0.0, "name": "Luc", "gender": "Male", "age": 20}, {"experience": "Regular", "subscribe": false, "hashedEmail": "a2a0612e9a7da558cbac2ee3c816740324505a69a6e042c94aa1b67731f9ff01", "played_hours": 0.0, "name": "Cornelius", "gender": "Male", "age": 18}, {"experience": "Beginner", "subscribe": true, "hashedEmail": "6ca8a90e4f5c61bf36baf556d446873c4e894e7a62f91996aa237be64b0e183b", "played_hours": 1.0, "name": "Atlas", "gender": "Female", "age": 17}, {"experience": "Veteran", "subscribe": true, "hashedEmail": "f707d141be44b2bf963eb171dbd14599059b4dda09aa002ba95ead4fa67273a7", "played_hours": 0.1, "name": "Bianca", "gender": "Male", "age": 16}, {"experience": "Beginner", "subscribe": true, "hashedEmail": "9782452b8e41d1f140374eec34c84f464df6ed12e2777e5b4f7150912b8ab78c", "played_hours": 23.7, "name": "Isla", "gender": "Male", "age": 24}, {"experience": "Veteran", "subscribe": false, "hashedEmail": "11006065e9412650e99eea4a4aaaf0399bc338006f85e80cc82d18b49f0e2aa4", "played_hours": 0.1, "name": "Callum", "gender": "Male", "age": 19}, {"experience": "Pro", "subscribe": true, "hashedEmail": "5669c0f4b50dbfe3e2f851e4bb89fa43c55cd1f71ba362ad0f03780cecfcc5e7", "played_hours": 0.0, "name": "Padma", "gender": "Non-binary", "age": 25}, {"experience": "Amateur", "subscribe": false, "hashedEmail": "6fa105fac7f4f37350f21830db78cde153d8edda41d6f4f2d48c9785d605c5e5", "played_hours": 0.1, "name": "Yosef", "gender": "Male", "age": 45}, {"experience": "Veteran", "subscribe": true, "hashedEmail": "360c682d9a10b9010e0d357a2aac315ab31c296367c236de5993b647541868ff", "played_hours": 0.0, "name": "Lily", "gender": "Male", "age": 18}, {"experience": "Amateur", "subscribe": true, "hashedEmail": "2cfed571797b66cc810c32562fc5b0f70b5bec0f5250799245527135bbf9662e", "played_hours": 0.0, "name": "Milo", "gender": "Male", "age": 16}, {"experience": "Amateur", "subscribe": false, "hashedEmail": "704d12809485f62804152be3e15e7092398efb1c24fc4e8ecb73a2c4c8141d96", "played_hours": 0.0, "name": "Hazel", "gender": "Male", "age": 17}, {"experience": "Amateur", "subscribe": true, "hashedEmail": "bda1905e54b6c745bcced9d59ce655a5bfd03c35cc6abdd8d1610e5c416f79d1", "played_hours": 0.0, "name": "Vaughn", "gender": "Male", "age": 17}, {"experience": "Beginner", "subscribe": true, "hashedEmail": "aea049eaa7cb10db386a62990220d205ceb2a4c473cae3ec7bab107278c26559", "played_hours": 0.2, "name": "Aarav", "gender": "Prefer not to say", "age": 17}, {"experience": "Beginner", "subscribe": true, "hashedEmail": "0ce7bfa910d47fc91f21a7b3acd8f33bde6db57912ce0290fa0437ce0b97f387", "played_hours": 0.1, "name": "Osiris", "gender": "Male", "age": 17}, {"experience": "Amateur", "subscribe": true, "hashedEmail": "80294d959b70ac14da3e50daaff8edc888d052c8f82da7b215c00a0a2b59703e", "played_hours": 0.0, "name": "Mikael", "gender": "Male", "age": 19}, {"experience": "Amateur", "subscribe": true, "hashedEmail": "22a78bfd44e46931261d06864b92cf9a8fd77fb02bec66cb71646dd9da222a0d", "played_hours": 1.2, "name": "Aaron", "gender": "Non-binary", "age": 17}, {"experience": "Amateur", "subscribe": true, "hashedEmail": "8af6e04a9067b009303e36cf39f7e7d53f9473e74b4633876ddd79769158b665", "played_hours": 0.1, "name": "Zelda", "gender": "Male", "age": 23}, {"experience": "Regular", "subscribe": true, "hashedEmail": "7d71c49cbbce8dcf0276b2bfecfa2d16f22cb31a4024556d6085884298f2ee8d", "played_hours": 0.1, "name": "Devin", "gender": "Two-Spirited", "age": 99}, {"experience": "Regular", "subscribe": true, "hashedEmail": "ad6390295640af1ed0e45ffc58a53b2d9074b0eea694b16210addd44d7c81f83", "played_hours": 178.2, "name": "Piper", "gender": "Female", "age": 19}, {"experience": "Beginner", "subscribe": true, "hashedEmail": "592c98fb298f1299666a44c06ca4ed6e0bbf33ab982c831665a77f4e97f5272d", "played_hours": 0.0, "name": "Ji-Yeon", "gender": "Male", "age": 22}, {"experience": "Beginner", "subscribe": true, "hashedEmail": "66c0d0e7306c473d4d3107c74dc6887dc73e3fa311f6b382fc2ca6beec75bc0d", "played_hours": 0.0, "name": "Taylor", "gender": "Male", "age": 24}, {"experience": "Veteran", "subscribe": false, "hashedEmail": "f174555ae3ff613d5d0b98f83f26f689619d92ef272f28f3aa236003d3dbb159", "played_hours": 0.0, "name": "Finley", "gender": "Non-binary", "age": 17}, {"experience": "Pro", "subscribe": true, "hashedEmail": "f4f29f2465743ead8c3ce02fc84542afe33ae3c95ef56a42b8f7785550fe9e4a", "played_hours": 0.6, "name": "Arlo", "gender": "Male", "age": 19}, {"experience": "Regular", "subscribe": true, "hashedEmail": "d43af3bed5e9f1f31077233697c18f3f988a217bd0376a5f1a54d14964a38c36", "played_hours": 0.5, "name": "Xia", "gender": "Female", "age": 20}, {"experience": "Regular", "subscribe": true, "hashedEmail": "d44771ed0a8382b0750ab5266bf2f33e1f95dc3d994652e15963141935710caa", "played_hours": 0.0, "name": "Levi", "gender": "Male", "age": 22}, {"experience": "Regular", "subscribe": true, "hashedEmail": "c121e4d197469bea90e21c0495001f4e21824adb98cbc6a40d54e66617cee174", "played_hours": 0.1, "name": "Rupert", "gender": "Male", "age": 21}, {"experience": "Amateur", "subscribe": false, "hashedEmail": "7096b30972a32029244fc6171f21bc5996b51b8d75df7a94f003dead428988f9", "played_hours": 1.0, "name": "Radwan", "gender": "Male", "age": 26}, {"experience": "Beginner", "subscribe": false, "hashedEmail": "42eafe96ed5c1684e3b5cc614d1b01a117173d3ec6898abcf1177d9822bd39f7", "played_hours": 0.3, "name": "Ariana", "gender": "Female", "age": 17}, {"experience": "Veteran", "subscribe": true, "hashedEmail": "9ba67e127e4e70d909f6237644bb4674b17bc6ae5c9e735f88cfc50e22b499c6", "played_hours": 0.1, "name": "Quinton", "gender": "Male", "age": 17}, {"experience": "Veteran", "subscribe": false, "hashedEmail": "4bfad3613c71ace05644bf210195d9fb0d3d9513753ad2f8a16d1a80699bb906", "played_hours": 0.1, "name": "Rocco", "gender": "Male", "age": 17}, {"experience": "Pro", "subscribe": false, "hashedEmail": "060aca80f8cfbf1c91553a72f4d5ec8034764b05ab59fe8e1cf0eee9a7b67967", "played_hours": 0.4, "name": "Lyra", "gender": "Male", "age": 21}, {"experience": "Beginner", "subscribe": false, "hashedEmail": "80afc8e7137de6a232421e926c1e6e64ddeef1d8157c4439746bc00fcf91e8a7", "played_hours": 1.8, "name": "Amelia", "gender": "Male", "age": 32}, {"experience": "Veteran", "subscribe": true, "hashedEmail": "af6b2350478c6bd6af97c91c7eed1d121b82676d1d519ef5b6cfa16dd451fe27", "played_hours": 0.0, "name": "Saif", "gender": "Agender", "age": 20}, {"experience": "Regular", "subscribe": false, "hashedEmail": "7b17513f11968feaf6b02977885c436dc2a4549489ca25ef03022f9fbae19d81", "played_hours": 0.0, "name": "Balthazar", "gender": "Male", "age": 50}, {"experience": "Veteran", "subscribe": true, "hashedEmail": "171d3c323c6430ffe0722c931f4cced5c48935f6804e0ff250964e4c41da55b1", "played_hours": 0.0, "name": "Parker", "gender": "Male", "age": 17}, {"experience": "Amateur", "subscribe": true, "hashedEmail": "55d24216db39c27e1f17cc43d3127cbf8ed76ada6d098202b53ded319855e2c1", "played_hours": 0.3, "name": "Joaquim", "gender": "Male", "age": 17}, {"experience": "Pro", "subscribe": false, "hashedEmail": "e1e5b1d36ab7680b6927fd3cb619c2b5373167750f90f7a21bf67b5d9b0fd73f", "played_hours": 0.0, "name": "Jesse", "gender": "Non-binary", "age": 17}, {"experience": "Veteran", "subscribe": false, "hashedEmail": "a1e0438d568b9c05a93cadaf99969e4d44794d19dea31edd723cbc916f878c33", "played_hours": 2.7, "name": "Jamie", "gender": "Non-binary", "age": 21}, {"experience": "Amateur", "subscribe": true, "hashedEmail": "9955ab948064150d3686ef564389bdc6d6c60bc620a5ce3084b3dec4a7a006a7", "played_hours": 0.4, "name": "Charlie", "gender": "Two-Spirited", "age": 17}, {"experience": "Veteran", "subscribe": true, "hashedEmail": "6b1cdc07fcc1f7ea09509341fd245dd34fdba386f14a493e9107c18604baedc9", "played_hours": 0.1, "name": "Finnian", "gender": "Non-binary", "age": 17}, {"experience": "Amateur", "subscribe": false, "hashedEmail": "93efabc9f7de58f44c457bac715cf8f9f44cd88cc574fc02624cac194d2f0ea5", "played_hours": 2.1, "name": "Sebasti\u00e1n", "gender": "Male", "age": 24}, {"experience": "Amateur", "subscribe": true, "hashedEmail": "42382bb2af563e6979c5b84d288cbb49bb2ef90b1bcf196c2902da4ce20eb7f3", "played_hours": 0.8, "name": "Hunter", "gender": "Female", "age": 22}, {"experience": "Pro", "subscribe": false, "hashedEmail": "f7875ae87a61632030d5c4029ee8cf081be7047b2b4a9c04ab5a706f59786197", "played_hours": 0.2, "name": "Liam", "gender": "Male", "age": 17}, {"experience": "Amateur", "subscribe": true, "hashedEmail": "24d4892c2c3ce11d3e54c3bf31ee218901cac7a2f564911d67424c8fdf0874fe", "played_hours": 32.0, "name": "Sidney", "gender": "Male", "age": 22}, {"experience": "Pro", "subscribe": false, "hashedEmail": "d46bd29a2ed08e3500bd8729085ef4b6f0ca65baf4c756f88b6bedf7a18e0352", "played_hours": 1.7, "name": "Asher", "gender": "Male", "age": 17}, {"experience": "Regular", "subscribe": false, "hashedEmail": "8e98b6db2053af0bc0e62cd55bcea5a08f23986dec3d02ca520ea039517e6744", "played_hours": 0.1, "name": "Sam", "gender": "Male", "age": 18}, {"experience": "Veteran", "subscribe": true, "hashedEmail": "ba24bebe588a34ac546f8559850c65bc90cd9d51b821581bd6e25cff437a1081", "played_hours": 0.1, "name": "Gabriela", "gender": "Female", "age": 44}, {"experience": "Amateur", "subscribe": true, "hashedEmail": "e3f0ad9aadd27f3d1d9197e58546d045018daa767675033d9af9a2b74e763739", "played_hours": 0.0, "name": "Jasper", "gender": "Male", "age": 17}, {"experience": "Beginner", "subscribe": true, "hashedEmail": "8c9d043ebb3689e679a37bfed30ea96272bcd14689ed2d9fcd68a4ae0c1663bc", "played_hours": 0.0, "name": "Lina", "gender": "Female", "age": 17}, {"experience": "Amateur", "subscribe": false, "hashedEmail": "514ebbaa30f0d162127e065ab780892b7930cf8d75944d5eb09c91c02d6026c7", "played_hours": 0.0, "name": "Orion", "gender": "Male", "age": 17}, {"experience": "Amateur", "subscribe": true, "hashedEmail": "644fe4200c19a73768b3fa598afcbd0948f7557925b7f17166285da23af31cc6", "played_hours": 0.0, "name": "Rhys", "gender": "Male", "age": 20}, {"experience": "Amateur", "subscribe": true, "hashedEmail": "b6e9e593b9ec51c5e335457341c324c34a2239531e1890b93ca52ac1dc76b08f", "played_hours": 0.0, "name": "Bailey", "gender": "Female", "age": 17}, {"experience": "Veteran", "subscribe": false, "hashedEmail": "71453e425f07d10da4fa2b349c83e73ccdf0fb3312f778b35c5802c3292c87bd", "played_hours": 0.3, "name": "Pascal", "gender": "Male", "age": 22}, {"experience": "Amateur", "subscribe": false, "hashedEmail": "d572f391d452b76ea2d7e5e53a3d38bfd7499c7399db299bd4fedb06a46ad5bb", "played_hours": 0.0, "name": "Dylan", "gender": "Prefer not to say", "age": 17}, {"experience": "Amateur", "subscribe": false, "hashedEmail": "f19e136ddde68f365afc860c725ccff54307dedd13968e896a9f890c40aea436", "played_hours": 2.3, "name": "Harlow", "gender": "Male", "age": 17}, {"experience": "Pro", "subscribe": true, "hashedEmail": "d9473710057f7d42f36570f0be83817a4eea614029ff90cf50d8889cdd729d11", "played_hours": 0.2, "name": "Ahmed", "gender": "Other", "age": 91}]}}, {"mode": "vega-lite"});
</script>



Figure 2.7: Experience and Gender vs. Time Played Plot

### **Analysis Model**


```python
# # Importing additional packages needed for performing a KNN Regression

import matplotlib.pyplot as plt 
import altair as alt
import pandas as pd
import numpy as np
from sklearn.model_selection import GridSearchCV
from sklearn.compose import make_column_transformer
from sklearn.pipeline import make_pipeline
from sklearn import set_config
from sklearn.preprocessing import OneHotEncoder, StandardScaler
```


```python
player_tidy = player_data.iloc[:, [0,3,6]]

new = {
    'Veteran':5,
    'Pro':4,
    'Regular':3,
    'Amateur':2,
    'Beginner':1
}

player_tidy['experience'] = player_tidy['experience'].replace(new)

player_tidy
```

    /tmp/ipykernel_107/4019014021.py:11: FutureWarning: Downcasting behavior in `replace` is deprecated and will be removed in a future version. To retain the old behavior, explicitly call `result.infer_objects(copy=False)`. To opt-in to the future behavior, set `pd.set_option('future.no_silent_downcasting', True)`
      player_tidy['experience'] = player_tidy['experience'].replace(new)
    /tmp/ipykernel_107/4019014021.py:11: SettingWithCopyWarning: 
    A value is trying to be set on a copy of a slice from a DataFrame.
    Try using .loc[row_indexer,col_indexer] = value instead
    
    See the caveats in the documentation: https://pandas.pydata.org/pandas-docs/stable/user_guide/indexing.html#returning-a-view-versus-a-copy
      player_tidy['experience'] = player_tidy['experience'].replace(new)





<div>
<style scoped>
    .dataframe tbody tr th:only-of-type {
        vertical-align: middle;
    }

    .dataframe tbody tr th {
        vertical-align: top;
    }

    .dataframe thead th {
        text-align: right;
    }
</style>
<table border="1" class="dataframe">
  <thead>
    <tr style="text-align: right;">
      <th></th>
      <th>experience</th>
      <th>played_hours</th>
      <th>age</th>
    </tr>
  </thead>
  <tbody>
    <tr>
      <th>0</th>
      <td>4</td>
      <td>30.3</td>
      <td>9</td>
    </tr>
    <tr>
      <th>1</th>
      <td>5</td>
      <td>3.8</td>
      <td>17</td>
    </tr>
    <tr>
      <th>2</th>
      <td>5</td>
      <td>0.0</td>
      <td>17</td>
    </tr>
    <tr>
      <th>3</th>
      <td>2</td>
      <td>0.7</td>
      <td>21</td>
    </tr>
    <tr>
      <th>4</th>
      <td>3</td>
      <td>0.1</td>
      <td>21</td>
    </tr>
    <tr>
      <th>...</th>
      <td>...</td>
      <td>...</td>
      <td>...</td>
    </tr>
    <tr>
      <th>191</th>
      <td>2</td>
      <td>0.0</td>
      <td>17</td>
    </tr>
    <tr>
      <th>192</th>
      <td>5</td>
      <td>0.3</td>
      <td>22</td>
    </tr>
    <tr>
      <th>193</th>
      <td>2</td>
      <td>0.0</td>
      <td>17</td>
    </tr>
    <tr>
      <th>194</th>
      <td>2</td>
      <td>2.3</td>
      <td>17</td>
    </tr>
    <tr>
      <th>195</th>
      <td>4</td>
      <td>0.2</td>
      <td>91</td>
    </tr>
  </tbody>
</table>
<p>196 rows × 3 columns</p>
</div>




```python
# Split the data sets into training and testing data
from sklearn.model_selection import train_test_split

player_train, player_test = train_test_split(
    player_tidy, train_size=0.75,
    random_state = 2000     # setting the random state to ensure the results are reproducible
)
```


```python
# import the K-NN regression model
from sklearn.neighbors import KNeighborsRegressor
```


```python
# import the K-NN regression model
from sklearn.neighbors import KNeighborsRegressor

# preprocess the data, make the pipeline
preprocessor = make_column_transformer((StandardScaler(), ['age', 'experience']))
pipeline = make_pipeline(preprocessor, KNeighborsRegressor())

pipeline
```




<style>#sk-container-id-5 {
  /* Definition of color scheme common for light and dark mode */
  --sklearn-color-text: black;
  --sklearn-color-line: gray;
  /* Definition of color scheme for unfitted estimators */
  --sklearn-color-unfitted-level-0: #fff5e6;
  --sklearn-color-unfitted-level-1: #f6e4d2;
  --sklearn-color-unfitted-level-2: #ffe0b3;
  --sklearn-color-unfitted-level-3: chocolate;
  /* Definition of color scheme for fitted estimators */
  --sklearn-color-fitted-level-0: #f0f8ff;
  --sklearn-color-fitted-level-1: #d4ebff;
  --sklearn-color-fitted-level-2: #b3dbfd;
  --sklearn-color-fitted-level-3: cornflowerblue;

  /* Specific color for light theme */
  --sklearn-color-text-on-default-background: var(--sg-text-color, var(--theme-code-foreground, var(--jp-content-font-color1, black)));
  --sklearn-color-background: var(--sg-background-color, var(--theme-background, var(--jp-layout-color0, white)));
  --sklearn-color-border-box: var(--sg-text-color, var(--theme-code-foreground, var(--jp-content-font-color1, black)));
  --sklearn-color-icon: #696969;

  @media (prefers-color-scheme: dark) {
    /* Redefinition of color scheme for dark theme */
    --sklearn-color-text-on-default-background: var(--sg-text-color, var(--theme-code-foreground, var(--jp-content-font-color1, white)));
    --sklearn-color-background: var(--sg-background-color, var(--theme-background, var(--jp-layout-color0, #111)));
    --sklearn-color-border-box: var(--sg-text-color, var(--theme-code-foreground, var(--jp-content-font-color1, white)));
    --sklearn-color-icon: #878787;
  }
}

#sk-container-id-5 {
  color: var(--sklearn-color-text);
}

#sk-container-id-5 pre {
  padding: 0;
}

#sk-container-id-5 input.sk-hidden--visually {
  border: 0;
  clip: rect(1px 1px 1px 1px);
  clip: rect(1px, 1px, 1px, 1px);
  height: 1px;
  margin: -1px;
  overflow: hidden;
  padding: 0;
  position: absolute;
  width: 1px;
}

#sk-container-id-5 div.sk-dashed-wrapped {
  border: 1px dashed var(--sklearn-color-line);
  margin: 0 0.4em 0.5em 0.4em;
  box-sizing: border-box;
  padding-bottom: 0.4em;
  background-color: var(--sklearn-color-background);
}

#sk-container-id-5 div.sk-container {
  /* jupyter's `normalize.less` sets `[hidden] { display: none; }`
     but bootstrap.min.css set `[hidden] { display: none !important; }`
     so we also need the `!important` here to be able to override the
     default hidden behavior on the sphinx rendered scikit-learn.org.
     See: https://github.com/scikit-learn/scikit-learn/issues/21755 */
  display: inline-block !important;
  position: relative;
}

#sk-container-id-5 div.sk-text-repr-fallback {
  display: none;
}

div.sk-parallel-item,
div.sk-serial,
div.sk-item {
  /* draw centered vertical line to link estimators */
  background-image: linear-gradient(var(--sklearn-color-text-on-default-background), var(--sklearn-color-text-on-default-background));
  background-size: 2px 100%;
  background-repeat: no-repeat;
  background-position: center center;
}

/* Parallel-specific style estimator block */

#sk-container-id-5 div.sk-parallel-item::after {
  content: "";
  width: 100%;
  border-bottom: 2px solid var(--sklearn-color-text-on-default-background);
  flex-grow: 1;
}

#sk-container-id-5 div.sk-parallel {
  display: flex;
  align-items: stretch;
  justify-content: center;
  background-color: var(--sklearn-color-background);
  position: relative;
}

#sk-container-id-5 div.sk-parallel-item {
  display: flex;
  flex-direction: column;
}

#sk-container-id-5 div.sk-parallel-item:first-child::after {
  align-self: flex-end;
  width: 50%;
}

#sk-container-id-5 div.sk-parallel-item:last-child::after {
  align-self: flex-start;
  width: 50%;
}

#sk-container-id-5 div.sk-parallel-item:only-child::after {
  width: 0;
}

/* Serial-specific style estimator block */

#sk-container-id-5 div.sk-serial {
  display: flex;
  flex-direction: column;
  align-items: center;
  background-color: var(--sklearn-color-background);
  padding-right: 1em;
  padding-left: 1em;
}


/* Toggleable style: style used for estimator/Pipeline/ColumnTransformer box that is
clickable and can be expanded/collapsed.
- Pipeline and ColumnTransformer use this feature and define the default style
- Estimators will overwrite some part of the style using the `sk-estimator` class
*/

/* Pipeline and ColumnTransformer style (default) */

#sk-container-id-5 div.sk-toggleable {
  /* Default theme specific background. It is overwritten whether we have a
  specific estimator or a Pipeline/ColumnTransformer */
  background-color: var(--sklearn-color-background);
}

/* Toggleable label */
#sk-container-id-5 label.sk-toggleable__label {
  cursor: pointer;
  display: block;
  width: 100%;
  margin-bottom: 0;
  padding: 0.5em;
  box-sizing: border-box;
  text-align: center;
}

#sk-container-id-5 label.sk-toggleable__label-arrow:before {
  /* Arrow on the left of the label */
  content: "▸";
  float: left;
  margin-right: 0.25em;
  color: var(--sklearn-color-icon);
}

#sk-container-id-5 label.sk-toggleable__label-arrow:hover:before {
  color: var(--sklearn-color-text);
}

/* Toggleable content - dropdown */

#sk-container-id-5 div.sk-toggleable__content {
  max-height: 0;
  max-width: 0;
  overflow: hidden;
  text-align: left;
  /* unfitted */
  background-color: var(--sklearn-color-unfitted-level-0);
}

#sk-container-id-5 div.sk-toggleable__content.fitted {
  /* fitted */
  background-color: var(--sklearn-color-fitted-level-0);
}

#sk-container-id-5 div.sk-toggleable__content pre {
  margin: 0.2em;
  border-radius: 0.25em;
  color: var(--sklearn-color-text);
  /* unfitted */
  background-color: var(--sklearn-color-unfitted-level-0);
}

#sk-container-id-5 div.sk-toggleable__content.fitted pre {
  /* unfitted */
  background-color: var(--sklearn-color-fitted-level-0);
}

#sk-container-id-5 input.sk-toggleable__control:checked~div.sk-toggleable__content {
  /* Expand drop-down */
  max-height: 200px;
  max-width: 100%;
  overflow: auto;
}

#sk-container-id-5 input.sk-toggleable__control:checked~label.sk-toggleable__label-arrow:before {
  content: "▾";
}

/* Pipeline/ColumnTransformer-specific style */

#sk-container-id-5 div.sk-label input.sk-toggleable__control:checked~label.sk-toggleable__label {
  color: var(--sklearn-color-text);
  background-color: var(--sklearn-color-unfitted-level-2);
}

#sk-container-id-5 div.sk-label.fitted input.sk-toggleable__control:checked~label.sk-toggleable__label {
  background-color: var(--sklearn-color-fitted-level-2);
}

/* Estimator-specific style */

/* Colorize estimator box */
#sk-container-id-5 div.sk-estimator input.sk-toggleable__control:checked~label.sk-toggleable__label {
  /* unfitted */
  background-color: var(--sklearn-color-unfitted-level-2);
}

#sk-container-id-5 div.sk-estimator.fitted input.sk-toggleable__control:checked~label.sk-toggleable__label {
  /* fitted */
  background-color: var(--sklearn-color-fitted-level-2);
}

#sk-container-id-5 div.sk-label label.sk-toggleable__label,
#sk-container-id-5 div.sk-label label {
  /* The background is the default theme color */
  color: var(--sklearn-color-text-on-default-background);
}

/* On hover, darken the color of the background */
#sk-container-id-5 div.sk-label:hover label.sk-toggleable__label {
  color: var(--sklearn-color-text);
  background-color: var(--sklearn-color-unfitted-level-2);
}

/* Label box, darken color on hover, fitted */
#sk-container-id-5 div.sk-label.fitted:hover label.sk-toggleable__label.fitted {
  color: var(--sklearn-color-text);
  background-color: var(--sklearn-color-fitted-level-2);
}

/* Estimator label */

#sk-container-id-5 div.sk-label label {
  font-family: monospace;
  font-weight: bold;
  display: inline-block;
  line-height: 1.2em;
}

#sk-container-id-5 div.sk-label-container {
  text-align: center;
}

/* Estimator-specific */
#sk-container-id-5 div.sk-estimator {
  font-family: monospace;
  border: 1px dotted var(--sklearn-color-border-box);
  border-radius: 0.25em;
  box-sizing: border-box;
  margin-bottom: 0.5em;
  /* unfitted */
  background-color: var(--sklearn-color-unfitted-level-0);
}

#sk-container-id-5 div.sk-estimator.fitted {
  /* fitted */
  background-color: var(--sklearn-color-fitted-level-0);
}

/* on hover */
#sk-container-id-5 div.sk-estimator:hover {
  /* unfitted */
  background-color: var(--sklearn-color-unfitted-level-2);
}

#sk-container-id-5 div.sk-estimator.fitted:hover {
  /* fitted */
  background-color: var(--sklearn-color-fitted-level-2);
}

/* Specification for estimator info (e.g. "i" and "?") */

/* Common style for "i" and "?" */

.sk-estimator-doc-link,
a:link.sk-estimator-doc-link,
a:visited.sk-estimator-doc-link {
  float: right;
  font-size: smaller;
  line-height: 1em;
  font-family: monospace;
  background-color: var(--sklearn-color-background);
  border-radius: 1em;
  height: 1em;
  width: 1em;
  text-decoration: none !important;
  margin-left: 1ex;
  /* unfitted */
  border: var(--sklearn-color-unfitted-level-1) 1pt solid;
  color: var(--sklearn-color-unfitted-level-1);
}

.sk-estimator-doc-link.fitted,
a:link.sk-estimator-doc-link.fitted,
a:visited.sk-estimator-doc-link.fitted {
  /* fitted */
  border: var(--sklearn-color-fitted-level-1) 1pt solid;
  color: var(--sklearn-color-fitted-level-1);
}

/* On hover */
div.sk-estimator:hover .sk-estimator-doc-link:hover,
.sk-estimator-doc-link:hover,
div.sk-label-container:hover .sk-estimator-doc-link:hover,
.sk-estimator-doc-link:hover {
  /* unfitted */
  background-color: var(--sklearn-color-unfitted-level-3);
  color: var(--sklearn-color-background);
  text-decoration: none;
}

div.sk-estimator.fitted:hover .sk-estimator-doc-link.fitted:hover,
.sk-estimator-doc-link.fitted:hover,
div.sk-label-container:hover .sk-estimator-doc-link.fitted:hover,
.sk-estimator-doc-link.fitted:hover {
  /* fitted */
  background-color: var(--sklearn-color-fitted-level-3);
  color: var(--sklearn-color-background);
  text-decoration: none;
}

/* Span, style for the box shown on hovering the info icon */
.sk-estimator-doc-link span {
  display: none;
  z-index: 9999;
  position: relative;
  font-weight: normal;
  right: .2ex;
  padding: .5ex;
  margin: .5ex;
  width: min-content;
  min-width: 20ex;
  max-width: 50ex;
  color: var(--sklearn-color-text);
  box-shadow: 2pt 2pt 4pt #999;
  /* unfitted */
  background: var(--sklearn-color-unfitted-level-0);
  border: .5pt solid var(--sklearn-color-unfitted-level-3);
}

.sk-estimator-doc-link.fitted span {
  /* fitted */
  background: var(--sklearn-color-fitted-level-0);
  border: var(--sklearn-color-fitted-level-3);
}

.sk-estimator-doc-link:hover span {
  display: block;
}

/* "?"-specific style due to the `<a>` HTML tag */

#sk-container-id-5 a.estimator_doc_link {
  float: right;
  font-size: 1rem;
  line-height: 1em;
  font-family: monospace;
  background-color: var(--sklearn-color-background);
  border-radius: 1rem;
  height: 1rem;
  width: 1rem;
  text-decoration: none;
  /* unfitted */
  color: var(--sklearn-color-unfitted-level-1);
  border: var(--sklearn-color-unfitted-level-1) 1pt solid;
}

#sk-container-id-5 a.estimator_doc_link.fitted {
  /* fitted */
  border: var(--sklearn-color-fitted-level-1) 1pt solid;
  color: var(--sklearn-color-fitted-level-1);
}

/* On hover */
#sk-container-id-5 a.estimator_doc_link:hover {
  /* unfitted */
  background-color: var(--sklearn-color-unfitted-level-3);
  color: var(--sklearn-color-background);
  text-decoration: none;
}

#sk-container-id-5 a.estimator_doc_link.fitted:hover {
  /* fitted */
  background-color: var(--sklearn-color-fitted-level-3);
}
</style><div id="sk-container-id-5" class="sk-top-container"><div class="sk-text-repr-fallback"><pre>Pipeline(steps=[(&#x27;columntransformer&#x27;,
                 ColumnTransformer(transformers=[(&#x27;standardscaler&#x27;,
                                                  StandardScaler(),
                                                  [&#x27;age&#x27;, &#x27;experience&#x27;])])),
                (&#x27;kneighborsregressor&#x27;, KNeighborsRegressor())])</pre><b>In a Jupyter environment, please rerun this cell to show the HTML representation or trust the notebook. <br />On GitHub, the HTML representation is unable to render, please try loading this page with nbviewer.org.</b></div><div class="sk-container" hidden><div class="sk-item sk-dashed-wrapped"><div class="sk-label-container"><div class="sk-label  sk-toggleable"><input class="sk-toggleable__control sk-hidden--visually" id="sk-estimator-id-21" type="checkbox" ><label for="sk-estimator-id-21" class="sk-toggleable__label  sk-toggleable__label-arrow ">&nbsp;&nbsp;Pipeline<a class="sk-estimator-doc-link " rel="noreferrer" target="_blank" href="https://scikit-learn.org/1.5/modules/generated/sklearn.pipeline.Pipeline.html">?<span>Documentation for Pipeline</span></a><span class="sk-estimator-doc-link ">i<span>Not fitted</span></span></label><div class="sk-toggleable__content "><pre>Pipeline(steps=[(&#x27;columntransformer&#x27;,
                 ColumnTransformer(transformers=[(&#x27;standardscaler&#x27;,
                                                  StandardScaler(),
                                                  [&#x27;age&#x27;, &#x27;experience&#x27;])])),
                (&#x27;kneighborsregressor&#x27;, KNeighborsRegressor())])</pre></div> </div></div><div class="sk-serial"><div class="sk-item sk-dashed-wrapped"><div class="sk-label-container"><div class="sk-label  sk-toggleable"><input class="sk-toggleable__control sk-hidden--visually" id="sk-estimator-id-22" type="checkbox" ><label for="sk-estimator-id-22" class="sk-toggleable__label  sk-toggleable__label-arrow ">&nbsp;columntransformer: ColumnTransformer<a class="sk-estimator-doc-link " rel="noreferrer" target="_blank" href="https://scikit-learn.org/1.5/modules/generated/sklearn.compose.ColumnTransformer.html">?<span>Documentation for columntransformer: ColumnTransformer</span></a></label><div class="sk-toggleable__content "><pre>ColumnTransformer(transformers=[(&#x27;standardscaler&#x27;, StandardScaler(),
                                 [&#x27;age&#x27;, &#x27;experience&#x27;])])</pre></div> </div></div><div class="sk-parallel"><div class="sk-parallel-item"><div class="sk-item"><div class="sk-label-container"><div class="sk-label  sk-toggleable"><input class="sk-toggleable__control sk-hidden--visually" id="sk-estimator-id-23" type="checkbox" ><label for="sk-estimator-id-23" class="sk-toggleable__label  sk-toggleable__label-arrow ">standardscaler</label><div class="sk-toggleable__content "><pre>[&#x27;age&#x27;, &#x27;experience&#x27;]</pre></div> </div></div><div class="sk-serial"><div class="sk-item"><div class="sk-estimator  sk-toggleable"><input class="sk-toggleable__control sk-hidden--visually" id="sk-estimator-id-24" type="checkbox" ><label for="sk-estimator-id-24" class="sk-toggleable__label  sk-toggleable__label-arrow ">&nbsp;StandardScaler<a class="sk-estimator-doc-link " rel="noreferrer" target="_blank" href="https://scikit-learn.org/1.5/modules/generated/sklearn.preprocessing.StandardScaler.html">?<span>Documentation for StandardScaler</span></a></label><div class="sk-toggleable__content "><pre>StandardScaler()</pre></div> </div></div></div></div></div></div></div><div class="sk-item"><div class="sk-estimator  sk-toggleable"><input class="sk-toggleable__control sk-hidden--visually" id="sk-estimator-id-25" type="checkbox" ><label for="sk-estimator-id-25" class="sk-toggleable__label  sk-toggleable__label-arrow ">&nbsp;KNeighborsRegressor<a class="sk-estimator-doc-link " rel="noreferrer" target="_blank" href="https://scikit-learn.org/1.5/modules/generated/sklearn.neighbors.KNeighborsRegressor.html">?<span>Documentation for KNeighborsRegressor</span></a></label><div class="sk-toggleable__content "><pre>KNeighborsRegressor()</pre></div> </div></div></div></div></div></div>




```python
# Define the parameter grid for K tuning
param_grid = {
    'kneighborsregressor__n_neighbors': range(1,5)  # Values to test for n_neighbors
}

# Initialize GridSearchCV
gridsearch = GridSearchCV(
    estimator=pipeline,
    param_grid=param_grid,
    cv=5,  # 5-fold cross-validation
    scoring='neg_mean_squared_error'
)

# Fit the GridSearchCV object
gridsearch.fit(
    player_train[['age', 'experience']],  # Features
    player_train['played_hours']  # Outcome variable
)

# Retrieve cross-validation results
player_results = pd.DataFrame(gridsearch.cv_results_)
player_results['sem_test_score'] = player_results['std_test_score'] / 5**(1/2)
player_results = (
    player_results[[
        'param_kneighborsregressor__n_neighbors',  # Column for n_neighbors
        'mean_test_score',  # Mean test score
        'sem_test_score'  # Standard error of the mean
    ]]
    .rename(columns={'param_kneighborsregressor__n_neighbors': 'n_neighbors'})  # Rename for clarity
)

player_results
# k value with the lowest RMPSE
player_results.nsmallest(1, "mean_test_score")
```




<div>
<style scoped>
    .dataframe tbody tr th:only-of-type {
        vertical-align: middle;
    }

    .dataframe tbody tr th {
        vertical-align: top;
    }

    .dataframe thead th {
        text-align: right;
    }
</style>
<table border="1" class="dataframe">
  <thead>
    <tr style="text-align: right;">
      <th></th>
      <th>n_neighbors</th>
      <th>mean_test_score</th>
      <th>sem_test_score</th>
    </tr>
  </thead>
  <tbody>
    <tr>
      <th>0</th>
      <td>1</td>
      <td>-1156.345575</td>
      <td>420.459611</td>
    </tr>
  </tbody>
</table>
</div>




```python
player_results["mean_test_score"] = -player_results["mean_test_score"]
player_results
```




<div>
<style scoped>
    .dataframe tbody tr th:only-of-type {
        vertical-align: middle;
    }

    .dataframe tbody tr th {
        vertical-align: top;
    }

    .dataframe thead th {
        text-align: right;
    }
</style>
<table border="1" class="dataframe">
  <thead>
    <tr style="text-align: right;">
      <th></th>
      <th>n_neighbors</th>
      <th>mean_test_score</th>
      <th>sem_test_score</th>
    </tr>
  </thead>
  <tbody>
    <tr>
      <th>0</th>
      <td>1</td>
      <td>-1156.345575</td>
      <td>420.459611</td>
    </tr>
    <tr>
      <th>1</th>
      <td>2</td>
      <td>-828.928863</td>
      <td>308.259928</td>
    </tr>
    <tr>
      <th>2</th>
      <td>3</td>
      <td>-738.960184</td>
      <td>308.886884</td>
    </tr>
    <tr>
      <th>3</th>
      <td>4</td>
      <td>-767.195575</td>
      <td>296.049072</td>
    </tr>
  </tbody>
</table>
</div>




```python
# Find the optimal K value (representing the number of nearest neighbours) for the data set

gridsearch.best_params_
```




    {'kneighborsregressor__n_neighbors': 3}




```python
from sklearn.metrics import mean_squared_error

# Create a new column with the predicted values on the testing data set

player_test["predicted"] = gridsearch.predict(player_test)

player_test
```




<div>
<style scoped>
    .dataframe tbody tr th:only-of-type {
        vertical-align: middle;
    }

    .dataframe tbody tr th {
        vertical-align: top;
    }

    .dataframe thead th {
        text-align: right;
    }
</style>
<table border="1" class="dataframe">
  <thead>
    <tr style="text-align: right;">
      <th></th>
      <th>experience</th>
      <th>played_hours</th>
      <th>age</th>
      <th>predicted</th>
    </tr>
  </thead>
  <tbody>
    <tr>
      <th>111</th>
      <td>3</td>
      <td>4.0</td>
      <td>21</td>
      <td>0.066667</td>
    </tr>
    <tr>
      <th>73</th>
      <td>5</td>
      <td>0.0</td>
      <td>22</td>
      <td>1.000000</td>
    </tr>
    <tr>
      <th>3</th>
      <td>2</td>
      <td>0.7</td>
      <td>21</td>
      <td>1.566667</td>
    </tr>
    <tr>
      <th>149</th>
      <td>2</td>
      <td>0.0</td>
      <td>16</td>
      <td>0.200000</td>
    </tr>
    <tr>
      <th>80</th>
      <td>5</td>
      <td>0.0</td>
      <td>17</td>
      <td>0.000000</td>
    </tr>
    <tr>
      <th>172</th>
      <td>5</td>
      <td>0.0</td>
      <td>20</td>
      <td>0.133333</td>
    </tr>
    <tr>
      <th>61</th>
      <td>3</td>
      <td>1.5</td>
      <td>20</td>
      <td>0.166667</td>
    </tr>
    <tr>
      <th>157</th>
      <td>3</td>
      <td>0.1</td>
      <td>99</td>
      <td>6.233333</td>
    </tr>
    <tr>
      <th>65</th>
      <td>5</td>
      <td>0.1</td>
      <td>21</td>
      <td>0.933333</td>
    </tr>
    <tr>
      <th>50</th>
      <td>5</td>
      <td>0.6</td>
      <td>21</td>
      <td>0.933333</td>
    </tr>
    <tr>
      <th>25</th>
      <td>3</td>
      <td>0.6</td>
      <td>28</td>
      <td>0.033333</td>
    </tr>
    <tr>
      <th>67</th>
      <td>2</td>
      <td>17.2</td>
      <td>14</td>
      <td>0.200000</td>
    </tr>
    <tr>
      <th>137</th>
      <td>5</td>
      <td>0.0</td>
      <td>17</td>
      <td>0.000000</td>
    </tr>
    <tr>
      <th>84</th>
      <td>1</td>
      <td>0.0</td>
      <td>17</td>
      <td>2.366667</td>
    </tr>
    <tr>
      <th>134</th>
      <td>1</td>
      <td>1.1</td>
      <td>20</td>
      <td>0.400000</td>
    </tr>
    <tr>
      <th>166</th>
      <td>2</td>
      <td>1.0</td>
      <td>26</td>
      <td>0.166667</td>
    </tr>
    <tr>
      <th>135</th>
      <td>5</td>
      <td>0.0</td>
      <td>21</td>
      <td>0.933333</td>
    </tr>
    <tr>
      <th>47</th>
      <td>3</td>
      <td>0.0</td>
      <td>23</td>
      <td>0.033333</td>
    </tr>
    <tr>
      <th>68</th>
      <td>3</td>
      <td>0.1</td>
      <td>15</td>
      <td>0.066667</td>
    </tr>
    <tr>
      <th>180</th>
      <td>2</td>
      <td>2.1</td>
      <td>24</td>
      <td>0.133333</td>
    </tr>
    <tr>
      <th>27</th>
      <td>5</td>
      <td>0.0</td>
      <td>23</td>
      <td>1.266667</td>
    </tr>
    <tr>
      <th>188</th>
      <td>1</td>
      <td>0.0</td>
      <td>17</td>
      <td>2.366667</td>
    </tr>
    <tr>
      <th>56</th>
      <td>2</td>
      <td>2.9</td>
      <td>11</td>
      <td>0.200000</td>
    </tr>
    <tr>
      <th>2</th>
      <td>5</td>
      <td>0.0</td>
      <td>17</td>
      <td>0.000000</td>
    </tr>
    <tr>
      <th>155</th>
      <td>2</td>
      <td>1.2</td>
      <td>17</td>
      <td>16.200000</td>
    </tr>
    <tr>
      <th>122</th>
      <td>2</td>
      <td>0.1</td>
      <td>32</td>
      <td>0.066667</td>
    </tr>
    <tr>
      <th>82</th>
      <td>1</td>
      <td>0.2</td>
      <td>37</td>
      <td>0.600000</td>
    </tr>
    <tr>
      <th>106</th>
      <td>3</td>
      <td>0.0</td>
      <td>23</td>
      <td>0.033333</td>
    </tr>
    <tr>
      <th>114</th>
      <td>1</td>
      <td>1.0</td>
      <td>17</td>
      <td>2.366667</td>
    </tr>
    <tr>
      <th>66</th>
      <td>5</td>
      <td>0.1</td>
      <td>22</td>
      <td>1.000000</td>
    </tr>
    <tr>
      <th>119</th>
      <td>1</td>
      <td>0.0</td>
      <td>23</td>
      <td>7.900000</td>
    </tr>
    <tr>
      <th>0</th>
      <td>4</td>
      <td>30.3</td>
      <td>9</td>
      <td>0.300000</td>
    </tr>
    <tr>
      <th>113</th>
      <td>1</td>
      <td>0.0</td>
      <td>17</td>
      <td>2.366667</td>
    </tr>
    <tr>
      <th>59</th>
      <td>5</td>
      <td>0.2</td>
      <td>38</td>
      <td>4.200000</td>
    </tr>
    <tr>
      <th>159</th>
      <td>1</td>
      <td>0.0</td>
      <td>22</td>
      <td>0.400000</td>
    </tr>
    <tr>
      <th>38</th>
      <td>5</td>
      <td>0.0</td>
      <td>17</td>
      <td>0.000000</td>
    </tr>
    <tr>
      <th>143</th>
      <td>5</td>
      <td>0.1</td>
      <td>16</td>
      <td>0.000000</td>
    </tr>
    <tr>
      <th>90</th>
      <td>2</td>
      <td>150.0</td>
      <td>16</td>
      <td>0.200000</td>
    </tr>
    <tr>
      <th>176</th>
      <td>4</td>
      <td>0.0</td>
      <td>17</td>
      <td>0.800000</td>
    </tr>
    <tr>
      <th>179</th>
      <td>5</td>
      <td>0.1</td>
      <td>17</td>
      <td>0.000000</td>
    </tr>
    <tr>
      <th>51</th>
      <td>3</td>
      <td>218.1</td>
      <td>20</td>
      <td>0.166667</td>
    </tr>
    <tr>
      <th>13</th>
      <td>2</td>
      <td>0.2</td>
      <td>22</td>
      <td>0.266667</td>
    </tr>
    <tr>
      <th>154</th>
      <td>2</td>
      <td>0.0</td>
      <td>19</td>
      <td>0.033333</td>
    </tr>
    <tr>
      <th>108</th>
      <td>5</td>
      <td>0.0</td>
      <td>20</td>
      <td>0.133333</td>
    </tr>
    <tr>
      <th>175</th>
      <td>2</td>
      <td>0.3</td>
      <td>17</td>
      <td>16.200000</td>
    </tr>
    <tr>
      <th>104</th>
      <td>2</td>
      <td>0.0</td>
      <td>26</td>
      <td>0.166667</td>
    </tr>
    <tr>
      <th>18</th>
      <td>2</td>
      <td>0.5</td>
      <td>17</td>
      <td>16.200000</td>
    </tr>
    <tr>
      <th>140</th>
      <td>3</td>
      <td>0.0</td>
      <td>20</td>
      <td>0.166667</td>
    </tr>
    <tr>
      <th>26</th>
      <td>3</td>
      <td>0.0</td>
      <td>17</td>
      <td>0.000000</td>
    </tr>
  </tbody>
</table>
</div>




```python
# Calculate the root mean square prediction error for the test set

RMSPE_test = mean_squared_error(
    y_true=player_test["played_hours"],
    y_pred=player_test["predicted"]
)**(1/2)

RMSPE_test
```




    np.float64(38.33787816891189)




```python
# Create a grid of evenly spaced values for both 'age' and 'experience'
age_prediction_grid = pd.DataFrame({
    "age": player_tidy['age'],
    "experience": player_tidy['experience']
})

# Predict played hours for each combination in the grid
age_prediction_grid["predicted"] = gridsearch.predict(age_prediction_grid)

# Base plot: scatter plot of actual player data
base_plot = alt.Chart(player_tidy, title="Experience vs Predicted Hours Played").mark_circle(opacity=0.4).encode(
    x=alt.X("age", scale=alt.Scale(zero=False), title="Age"),
    y=alt.Y("played_hours", scale=alt.Scale(domain=[1, 250]), axis=alt.Axis(tickCount=20, format=",.0f"), title="Hours Played"),
    color=alt.Color('experience:N')
)

# Add the predictions as a line
predictions_plot = base_plot + alt.Chart(age_prediction_grid).mark_line(color="red", opacity=0.5).encode(
    x="age",
    y="predicted"
).interactive()

# Display the final plot
predictions_plot
```





<style>
  #altair-viz-d958844924184a748a791d2930039adc.vega-embed {
    width: 100%;
    display: flex;
  }

  #altair-viz-d958844924184a748a791d2930039adc.vega-embed details,
  #altair-viz-d958844924184a748a791d2930039adc.vega-embed details summary {
    position: relative;
  }
</style>
<div id="altair-viz-d958844924184a748a791d2930039adc"></div>
<script type="text/javascript">
  var VEGA_DEBUG = (typeof VEGA_DEBUG == "undefined") ? {} : VEGA_DEBUG;
  (function(spec, embedOpt){
    let outputDiv = document.currentScript.previousElementSibling;
    if (outputDiv.id !== "altair-viz-d958844924184a748a791d2930039adc") {
      outputDiv = document.getElementById("altair-viz-d958844924184a748a791d2930039adc");
    }
    const paths = {
      "vega": "https://cdn.jsdelivr.net/npm/vega@5?noext",
      "vega-lib": "https://cdn.jsdelivr.net/npm/vega-lib?noext",
      "vega-lite": "https://cdn.jsdelivr.net/npm/vega-lite@5.20.1?noext",
      "vega-embed": "https://cdn.jsdelivr.net/npm/vega-embed@6?noext",
    };

    function maybeLoadScript(lib, version) {
      var key = `${lib.replace("-", "")}_version`;
      return (VEGA_DEBUG[key] == version) ?
        Promise.resolve(paths[lib]) :
        new Promise(function(resolve, reject) {
          var s = document.createElement('script');
          document.getElementsByTagName("head")[0].appendChild(s);
          s.async = true;
          s.onload = () => {
            VEGA_DEBUG[key] = version;
            return resolve(paths[lib]);
          };
          s.onerror = () => reject(`Error loading script: ${paths[lib]}`);
          s.src = paths[lib];
        });
    }

    function showError(err) {
      outputDiv.innerHTML = `<div class="error" style="color:red;">${err}</div>`;
      throw err;
    }

    function displayChart(vegaEmbed) {
      vegaEmbed(outputDiv, spec, embedOpt)
        .catch(err => showError(`Javascript Error: ${err.message}<br>This usually means there's a typo in your chart specification. See the javascript console for the full traceback.`));
    }

    if(typeof define === "function" && define.amd) {
      requirejs.config({paths});
      require(["vega-embed"], displayChart, err => showError(`Error loading script: ${err.message}`));
    } else {
      maybeLoadScript("vega", "5")
        .then(() => maybeLoadScript("vega-lite", "5.20.1"))
        .then(() => maybeLoadScript("vega-embed", "6"))
        .catch(showError)
        .then(() => displayChart(vegaEmbed));
    }
  })({"config": {"view": {"continuousWidth": 300, "continuousHeight": 300}}, "layer": [{"data": {"name": "data-a6b11b9ccb5576cf107f0ec98d1200b1"}, "mark": {"type": "circle", "opacity": 0.4}, "encoding": {"color": {"field": "experience", "type": "nominal"}, "x": {"field": "age", "scale": {"zero": false}, "title": "Age", "type": "quantitative"}, "y": {"axis": {"format": ",.0f", "tickCount": 20}, "field": "played_hours", "scale": {"domain": [1, 250]}, "title": "Hours Played", "type": "quantitative"}}, "title": "Experience vs Predicted Hours Played"}, {"data": {"name": "data-bc2d62d0d60db8863840e4d833682ac7"}, "mark": {"type": "line", "color": "red", "opacity": 0.5}, "encoding": {"x": {"field": "age", "type": "quantitative"}, "y": {"field": "predicted", "type": "quantitative"}}, "name": "view_13"}], "params": [{"name": "param_13", "select": {"type": "interval", "encodings": ["x", "y"]}, "bind": "scales", "views": ["view_13"]}], "$schema": "https://vega.github.io/schema/vega-lite/v5.20.1.json", "datasets": {"data-a6b11b9ccb5576cf107f0ec98d1200b1": [{"experience": 4, "played_hours": 30.3, "age": 9}, {"experience": 5, "played_hours": 3.8, "age": 17}, {"experience": 5, "played_hours": 0.0, "age": 17}, {"experience": 2, "played_hours": 0.7, "age": 21}, {"experience": 3, "played_hours": 0.1, "age": 21}, {"experience": 2, "played_hours": 0.0, "age": 17}, {"experience": 3, "played_hours": 0.0, "age": 19}, {"experience": 2, "played_hours": 0.0, "age": 21}, {"experience": 2, "played_hours": 0.1, "age": 17}, {"experience": 5, "played_hours": 0.0, "age": 22}, {"experience": 5, "played_hours": 1.6, "age": 23}, {"experience": 4, "played_hours": 0.0, "age": 17}, {"experience": 1, "played_hours": 1.5, "age": 25}, {"experience": 2, "played_hours": 0.2, "age": 22}, {"experience": 5, "played_hours": 0.0, "age": 17}, {"experience": 2, "played_hours": 0.0, "age": 22}, {"experience": 1, "played_hours": 0.0, "age": 17}, {"experience": 2, "played_hours": 48.4, "age": 17}, {"experience": 2, "played_hours": 0.5, "age": 17}, {"experience": 3, "played_hours": 0.6, "age": 19}, {"experience": 3, "played_hours": 0.3, "age": 8}, {"experience": 2, "played_hours": 0.1, "age": 17}, {"experience": 1, "played_hours": 1.0, "age": 17}, {"experience": 1, "played_hours": 0.0, "age": 17}, {"experience": 2, "played_hours": 0.7, "age": 21}, {"experience": 3, "played_hours": 0.6, "age": 28}, {"experience": 3, "played_hours": 0.0, "age": 17}, {"experience": 5, "played_hours": 0.0, "age": 23}, {"experience": 2, "played_hours": 1.8, "age": 23}, {"experience": 5, "played_hours": 0.1, "age": 18}, {"experience": 2, "played_hours": 0.1, "age": 23}, {"experience": 5, "played_hours": 0.1, "age": 21}, {"experience": 2, "played_hours": 0.0, "age": 17}, {"experience": 2, "played_hours": 0.0, "age": 33}, {"experience": 1, "played_hours": 0.6, "age": 26}, {"experience": 5, "played_hours": 0.4, "age": 20}, {"experience": 5, "played_hours": 1.4, "age": 25}, {"experience": 2, "played_hours": 0.2, "age": 17}, {"experience": 5, "played_hours": 0.0, "age": 17}, {"experience": 2, "played_hours": 0.0, "age": 17}, {"experience": 3, "played_hours": 5.6, "age": 17}, {"experience": 5, "played_hours": 0.1, "age": 17}, {"experience": 2, "played_hours": 0.3, "age": 24}, {"experience": 5, "played_hours": 0.0, "age": 21}, {"experience": 5, "played_hours": 2.2, "age": 24}, {"experience": 1, "played_hours": 0.0, "age": 24}, {"experience": 5, "played_hours": 0.1, "age": 17}, {"experience": 3, "played_hours": 0.0, "age": 23}, {"experience": 5, "played_hours": 12.5, "age": 27}, {"experience": 1, "played_hours": 0.4, "age": 22}, {"experience": 5, "played_hours": 0.6, "age": 21}, {"experience": 3, "played_hours": 218.1, "age": 20}, {"experience": 2, "played_hours": 0.9, "age": 18}, {"experience": 2, "played_hours": 0.2, "age": 27}, {"experience": 1, "played_hours": 0.0, "age": 42}, {"experience": 3, "played_hours": 0.0, "age": 20}, {"experience": 2, "played_hours": 2.9, "age": 11}, {"experience": 3, "played_hours": 0.0, "age": 17}, {"experience": 3, "played_hours": 3.6, "age": 10}, {"experience": 5, "played_hours": 0.2, "age": 38}, {"experience": 5, "played_hours": 0.0, "age": 17}, {"experience": 3, "played_hours": 1.5, "age": 20}, {"experience": 4, "played_hours": 1.0, "age": 17}, {"experience": 4, "played_hours": 0.2, "age": 17}, {"experience": 2, "played_hours": 0.1, "age": 23}, {"experience": 5, "played_hours": 0.1, "age": 21}, {"experience": 5, "played_hours": 0.1, "age": 22}, {"experience": 2, "played_hours": 17.2, "age": 14}, {"experience": 3, "played_hours": 0.1, "age": 15}, {"experience": 3, "played_hours": 0.0, "age": 21}, {"experience": 3, "played_hours": 0.2, "age": 14}, {"experience": 2, "played_hours": 53.9, "age": 17}, {"experience": 5, "played_hours": 0.0, "age": 17}, {"experience": 5, "played_hours": 0.0, "age": 22}, {"experience": 3, "played_hours": 223.1, "age": 17}, {"experience": 2, "played_hours": 0.5, "age": 21}, {"experience": 2, "played_hours": 3.5, "age": 21}, {"experience": 3, "played_hours": 0.0, "age": 17}, {"experience": 3, "played_hours": 0.0, "age": 22}, {"experience": 2, "played_hours": 0.0, "age": 26}, {"experience": 5, "played_hours": 0.0, "age": 17}, {"experience": 5, "played_hours": 1.0, "age": 17}, {"experience": 1, "played_hours": 0.2, "age": 37}, {"experience": 1, "played_hours": 0.0, "age": 28}, {"experience": 1, "played_hours": 0.0, "age": 17}, {"experience": 2, "played_hours": 0.0, "age": 21}, {"experience": 2, "played_hours": 0.0, "age": 23}, {"experience": 1, "played_hours": 0.1, "age": 17}, {"experience": 1, "played_hours": 0.0, "age": 17}, {"experience": 1, "played_hours": 0.0, "age": 23}, {"experience": 2, "played_hours": 150.0, "age": 16}, {"experience": 1, "played_hours": 0.0, "age": 17}, {"experience": 4, "played_hours": 1.2, "age": 17}, {"experience": 2, "played_hours": 0.1, "age": 17}, {"experience": 1, "played_hours": 0.8, "age": 22}, {"experience": 3, "played_hours": 0.0, "age": 17}, {"experience": 2, "played_hours": 0.1, "age": 19}, {"experience": 5, "played_hours": 0.1, "age": 18}, {"experience": 2, "played_hours": 0.0, "age": 17}, {"experience": 4, "played_hours": 0.5, "age": 12}, {"experience": 2, "played_hours": 0.0, "age": 20}, {"experience": 2, "played_hours": 0.0, "age": 17}, {"experience": 5, "played_hours": 0.0, "age": 24}, {"experience": 1, "played_hours": 2.0, "age": 27}, {"experience": 2, "played_hours": 0.0, "age": 26}, {"experience": 3, "played_hours": 0.0, "age": 17}, {"experience": 3, "played_hours": 0.0, "age": 23}, {"experience": 5, "played_hours": 2.7, "age": 22}, {"experience": 5, "played_hours": 0.0, "age": 20}, {"experience": 2, "played_hours": 0.1, "age": 17}, {"experience": 2, "played_hours": 0.0, "age": 22}, {"experience": 3, "played_hours": 4.0, "age": 21}, {"experience": 5, "played_hours": 0.4, "age": 18}, {"experience": 1, "played_hours": 0.0, "age": 17}, {"experience": 1, "played_hours": 1.0, "age": 17}, {"experience": 3, "played_hours": 0.1, "age": 24}, {"experience": 5, "played_hours": 0.0, "age": 20}, {"experience": 2, "played_hours": 0.0, "age": 17}, {"experience": 5, "played_hours": 0.0, "age": 46}, {"experience": 1, "played_hours": 0.0, "age": 23}, {"experience": 4, "played_hours": 0.1, "age": 15}, {"experience": 1, "played_hours": 0.1, "age": 24}, {"experience": 2, "played_hours": 0.1, "age": 32}, {"experience": 1, "played_hours": 7.1, "age": 17}, {"experience": 1, "played_hours": 0.0, "age": 17}, {"experience": 3, "played_hours": 18.5, "age": 49}, {"experience": 1, "played_hours": 0.7, "age": 24}, {"experience": 2, "played_hours": 0.0, "age": 21}, {"experience": 2, "played_hours": 0.0, "age": 17}, {"experience": 2, "played_hours": 0.0, "age": 17}, {"experience": 2, "played_hours": 56.1, "age": 23}, {"experience": 2, "played_hours": 0.0, "age": 23}, {"experience": 3, "played_hours": 0.1, "age": 17}, {"experience": 1, "played_hours": 0.0, "age": 17}, {"experience": 1, "played_hours": 1.1, "age": 20}, {"experience": 5, "played_hours": 0.0, "age": 21}, {"experience": 3, "played_hours": 0.0, "age": 20}, {"experience": 5, "played_hours": 0.0, "age": 17}, {"experience": 5, "played_hours": 0.0, "age": 17}, {"experience": 5, "played_hours": 0.0, "age": 20}, {"experience": 3, "played_hours": 0.0, "age": 20}, {"experience": 3, "played_hours": 0.0, "age": 18}, {"experience": 1, "played_hours": 1.0, "age": 17}, {"experience": 5, "played_hours": 0.1, "age": 16}, {"experience": 1, "played_hours": 23.7, "age": 24}, {"experience": 5, "played_hours": 0.1, "age": 19}, {"experience": 4, "played_hours": 0.0, "age": 25}, {"experience": 2, "played_hours": 0.1, "age": 45}, {"experience": 5, "played_hours": 0.0, "age": 18}, {"experience": 2, "played_hours": 0.0, "age": 16}, {"experience": 2, "played_hours": 0.0, "age": 17}, {"experience": 2, "played_hours": 0.0, "age": 17}, {"experience": 1, "played_hours": 0.2, "age": 17}, {"experience": 1, "played_hours": 0.1, "age": 17}, {"experience": 2, "played_hours": 0.0, "age": 19}, {"experience": 2, "played_hours": 1.2, "age": 17}, {"experience": 2, "played_hours": 0.1, "age": 23}, {"experience": 3, "played_hours": 0.1, "age": 99}, {"experience": 3, "played_hours": 178.2, "age": 19}, {"experience": 1, "played_hours": 0.0, "age": 22}, {"experience": 1, "played_hours": 0.0, "age": 24}, {"experience": 5, "played_hours": 0.0, "age": 17}, {"experience": 4, "played_hours": 0.6, "age": 19}, {"experience": 3, "played_hours": 0.5, "age": 20}, {"experience": 3, "played_hours": 0.0, "age": 22}, {"experience": 3, "played_hours": 0.1, "age": 21}, {"experience": 2, "played_hours": 1.0, "age": 26}, {"experience": 1, "played_hours": 0.3, "age": 17}, {"experience": 5, "played_hours": 0.1, "age": 17}, {"experience": 5, "played_hours": 0.1, "age": 17}, {"experience": 4, "played_hours": 0.4, "age": 21}, {"experience": 1, "played_hours": 1.8, "age": 32}, {"experience": 5, "played_hours": 0.0, "age": 20}, {"experience": 3, "played_hours": 0.0, "age": 50}, {"experience": 5, "played_hours": 0.0, "age": 17}, {"experience": 2, "played_hours": 0.3, "age": 17}, {"experience": 4, "played_hours": 0.0, "age": 17}, {"experience": 5, "played_hours": 2.7, "age": 21}, {"experience": 2, "played_hours": 0.4, "age": 17}, {"experience": 5, "played_hours": 0.1, "age": 17}, {"experience": 2, "played_hours": 2.1, "age": 24}, {"experience": 2, "played_hours": 0.8, "age": 22}, {"experience": 4, "played_hours": 0.2, "age": 17}, {"experience": 2, "played_hours": 32.0, "age": 22}, {"experience": 4, "played_hours": 1.7, "age": 17}, {"experience": 3, "played_hours": 0.1, "age": 18}, {"experience": 5, "played_hours": 0.1, "age": 44}, {"experience": 2, "played_hours": 0.0, "age": 17}, {"experience": 1, "played_hours": 0.0, "age": 17}, {"experience": 2, "played_hours": 0.0, "age": 17}, {"experience": 2, "played_hours": 0.0, "age": 20}, {"experience": 2, "played_hours": 0.0, "age": 17}, {"experience": 5, "played_hours": 0.3, "age": 22}, {"experience": 2, "played_hours": 0.0, "age": 17}, {"experience": 2, "played_hours": 2.3, "age": 17}, {"experience": 4, "played_hours": 0.2, "age": 91}], "data-bc2d62d0d60db8863840e4d833682ac7": [{"age": 9, "experience": 4, "predicted": 0.3}, {"age": 17, "experience": 5, "predicted": 0.0}, {"age": 17, "experience": 5, "predicted": 0.0}, {"age": 21, "experience": 2, "predicted": 1.5666666666666667}, {"age": 21, "experience": 3, "predicted": 0.06666666666666667}, {"age": 17, "experience": 2, "predicted": 16.2}, {"age": 19, "experience": 3, "predicted": 59.599999999999994}, {"age": 21, "experience": 2, "predicted": 1.5666666666666667}, {"age": 17, "experience": 2, "predicted": 16.2}, {"age": 22, "experience": 5, "predicted": 1.0}, {"age": 23, "experience": 5, "predicted": 1.2666666666666668}, {"age": 17, "experience": 4, "predicted": 0.7999999999999999}, {"age": 25, "experience": 1, "predicted": 8.4}, {"age": 22, "experience": 2, "predicted": 0.26666666666666666}, {"age": 17, "experience": 5, "predicted": 0.0}, {"age": 22, "experience": 2, "predicted": 0.26666666666666666}, {"age": 17, "experience": 1, "predicted": 2.3666666666666667}, {"age": 17, "experience": 2, "predicted": 16.2}, {"age": 17, "experience": 2, "predicted": 16.2}, {"age": 19, "experience": 3, "predicted": 59.599999999999994}, {"age": 8, "experience": 3, "predicted": 1.3666666666666665}, {"age": 17, "experience": 2, "predicted": 16.2}, {"age": 17, "experience": 1, "predicted": 2.3666666666666667}, {"age": 17, "experience": 1, "predicted": 2.3666666666666667}, {"age": 21, "experience": 2, "predicted": 1.5666666666666667}, {"age": 28, "experience": 3, "predicted": 0.03333333333333333}, {"age": 17, "experience": 3, "predicted": 0.0}, {"age": 23, "experience": 5, "predicted": 1.2666666666666668}, {"age": 23, "experience": 2, "predicted": 18.733333333333334}, {"age": 18, "experience": 5, "predicted": 0.16666666666666666}, {"age": 23, "experience": 2, "predicted": 18.733333333333334}, {"age": 21, "experience": 5, "predicted": 0.9333333333333335}, {"age": 17, "experience": 2, "predicted": 16.2}, {"age": 33, "experience": 2, "predicted": 0.6666666666666666}, {"age": 26, "experience": 1, "predicted": 1.3666666666666665}, {"age": 20, "experience": 5, "predicted": 0.13333333333333333}, {"age": 25, "experience": 5, "predicted": 1.2}, {"age": 17, "experience": 2, "predicted": 16.2}, {"age": 17, "experience": 5, "predicted": 0.0}, {"age": 17, "experience": 2, "predicted": 16.2}, {"age": 17, "experience": 3, "predicted": 0.0}, {"age": 17, "experience": 5, "predicted": 0.0}, {"age": 24, "experience": 2, "predicted": 0.13333333333333333}, {"age": 21, "experience": 5, "predicted": 0.9333333333333335}, {"age": 24, "experience": 5, "predicted": 1.2}, {"age": 24, "experience": 1, "predicted": 8.133333333333333}, {"age": 17, "experience": 5, "predicted": 0.0}, {"age": 23, "experience": 3, "predicted": 0.03333333333333333}, {"age": 27, "experience": 5, "predicted": 4.633333333333334}, {"age": 22, "experience": 1, "predicted": 0.4000000000000001}, {"age": 21, "experience": 5, "predicted": 0.9333333333333335}, {"age": 20, "experience": 3, "predicted": 0.16666666666666666}, {"age": 18, "experience": 2, "predicted": 0.3666666666666667}, {"age": 27, "experience": 2, "predicted": 0.16666666666666666}, {"age": 42, "experience": 1, "predicted": 0.6333333333333334}, {"age": 20, "experience": 3, "predicted": 0.16666666666666666}, {"age": 11, "experience": 2, "predicted": 0.20000000000000004}, {"age": 17, "experience": 3, "predicted": 0.0}, {"age": 10, "experience": 3, "predicted": 1.3666666666666665}, {"age": 38, "experience": 5, "predicted": 4.2}, {"age": 17, "experience": 5, "predicted": 0.0}, {"age": 20, "experience": 3, "predicted": 0.16666666666666666}, {"age": 17, "experience": 4, "predicted": 0.7999999999999999}, {"age": 17, "experience": 4, "predicted": 0.7999999999999999}, {"age": 23, "experience": 2, "predicted": 18.733333333333334}, {"age": 21, "experience": 5, "predicted": 0.9333333333333335}, {"age": 22, "experience": 5, "predicted": 1.0}, {"age": 14, "experience": 2, "predicted": 0.20000000000000004}, {"age": 15, "experience": 3, "predicted": 0.06666666666666667}, {"age": 21, "experience": 3, "predicted": 0.06666666666666667}, {"age": 14, "experience": 3, "predicted": 0.06666666666666667}, {"age": 17, "experience": 2, "predicted": 16.2}, {"age": 17, "experience": 5, "predicted": 0.0}, {"age": 22, "experience": 5, "predicted": 1.0}, {"age": 17, "experience": 3, "predicted": 0.0}, {"age": 21, "experience": 2, "predicted": 1.5666666666666667}, {"age": 21, "experience": 2, "predicted": 1.5666666666666667}, {"age": 17, "experience": 3, "predicted": 0.0}, {"age": 22, "experience": 3, "predicted": 0.03333333333333333}, {"age": 26, "experience": 2, "predicted": 0.16666666666666666}, {"age": 17, "experience": 5, "predicted": 0.0}, {"age": 17, "experience": 5, "predicted": 0.0}, {"age": 37, "experience": 1, "predicted": 0.6}, {"age": 28, "experience": 1, "predicted": 0.8666666666666667}, {"age": 17, "experience": 1, "predicted": 2.3666666666666667}, {"age": 21, "experience": 2, "predicted": 1.5666666666666667}, {"age": 23, "experience": 2, "predicted": 18.733333333333334}, {"age": 17, "experience": 1, "predicted": 2.3666666666666667}, {"age": 17, "experience": 1, "predicted": 2.3666666666666667}, {"age": 23, "experience": 1, "predicted": 7.8999999999999995}, {"age": 16, "experience": 2, "predicted": 0.20000000000000004}, {"age": 17, "experience": 1, "predicted": 2.3666666666666667}, {"age": 17, "experience": 4, "predicted": 0.7999999999999999}, {"age": 17, "experience": 2, "predicted": 16.2}, {"age": 22, "experience": 1, "predicted": 0.4000000000000001}, {"age": 17, "experience": 3, "predicted": 0.0}, {"age": 19, "experience": 2, "predicted": 0.03333333333333333}, {"age": 18, "experience": 5, "predicted": 0.16666666666666666}, {"age": 17, "experience": 2, "predicted": 16.2}, {"age": 12, "experience": 4, "predicted": 0.5333333333333333}, {"age": 20, "experience": 2, "predicted": 0.03333333333333333}, {"age": 17, "experience": 2, "predicted": 16.2}, {"age": 24, "experience": 5, "predicted": 1.2}, {"age": 27, "experience": 1, "predicted": 0.8666666666666667}, {"age": 26, "experience": 2, "predicted": 0.16666666666666666}, {"age": 17, "experience": 3, "predicted": 0.0}, {"age": 23, "experience": 3, "predicted": 0.03333333333333333}, {"age": 22, "experience": 5, "predicted": 1.0}, {"age": 20, "experience": 5, "predicted": 0.13333333333333333}, {"age": 17, "experience": 2, "predicted": 16.2}, {"age": 22, "experience": 2, "predicted": 0.26666666666666666}, {"age": 21, "experience": 3, "predicted": 0.06666666666666667}, {"age": 18, "experience": 5, "predicted": 0.16666666666666666}, {"age": 17, "experience": 1, "predicted": 2.3666666666666667}, {"age": 17, "experience": 1, "predicted": 2.3666666666666667}, {"age": 24, "experience": 3, "predicted": 0.03333333333333333}, {"age": 20, "experience": 5, "predicted": 0.13333333333333333}, {"age": 17, "experience": 2, "predicted": 16.2}, {"age": 46, "experience": 5, "predicted": 6.2}, {"age": 23, "experience": 1, "predicted": 7.8999999999999995}, {"age": 15, "experience": 4, "predicted": 0.7666666666666666}, {"age": 24, "experience": 1, "predicted": 8.133333333333333}, {"age": 32, "experience": 2, "predicted": 0.06666666666666667}, {"age": 17, "experience": 1, "predicted": 2.3666666666666667}, {"age": 17, "experience": 1, "predicted": 2.3666666666666667}, {"age": 49, "experience": 3, "predicted": 6.2}, {"age": 24, "experience": 1, "predicted": 8.133333333333333}, {"age": 21, "experience": 2, "predicted": 1.5666666666666667}, {"age": 17, "experience": 2, "predicted": 16.2}, {"age": 17, "experience": 2, "predicted": 16.2}, {"age": 23, "experience": 2, "predicted": 18.733333333333334}, {"age": 23, "experience": 2, "predicted": 18.733333333333334}, {"age": 17, "experience": 3, "predicted": 0.0}, {"age": 17, "experience": 1, "predicted": 2.3666666666666667}, {"age": 20, "experience": 1, "predicted": 0.4000000000000001}, {"age": 21, "experience": 5, "predicted": 0.9333333333333335}, {"age": 20, "experience": 3, "predicted": 0.16666666666666666}, {"age": 17, "experience": 5, "predicted": 0.0}, {"age": 17, "experience": 5, "predicted": 0.0}, {"age": 20, "experience": 5, "predicted": 0.13333333333333333}, {"age": 20, "experience": 3, "predicted": 0.16666666666666666}, {"age": 18, "experience": 3, "predicted": 0.03333333333333333}, {"age": 17, "experience": 1, "predicted": 2.3666666666666667}, {"age": 16, "experience": 5, "predicted": 0.0}, {"age": 24, "experience": 1, "predicted": 8.133333333333333}, {"age": 19, "experience": 5, "predicted": 0.16666666666666666}, {"age": 25, "experience": 4, "predicted": 0.3333333333333333}, {"age": 45, "experience": 2, "predicted": 6.2}, {"age": 18, "experience": 5, "predicted": 0.16666666666666666}, {"age": 16, "experience": 2, "predicted": 0.20000000000000004}, {"age": 17, "experience": 2, "predicted": 16.2}, {"age": 17, "experience": 2, "predicted": 16.2}, {"age": 17, "experience": 1, "predicted": 2.3666666666666667}, {"age": 17, "experience": 1, "predicted": 2.3666666666666667}, {"age": 19, "experience": 2, "predicted": 0.03333333333333333}, {"age": 17, "experience": 2, "predicted": 16.2}, {"age": 23, "experience": 2, "predicted": 18.733333333333334}, {"age": 99, "experience": 3, "predicted": 6.233333333333333}, {"age": 19, "experience": 3, "predicted": 59.599999999999994}, {"age": 22, "experience": 1, "predicted": 0.4000000000000001}, {"age": 24, "experience": 1, "predicted": 8.133333333333333}, {"age": 17, "experience": 5, "predicted": 0.0}, {"age": 19, "experience": 4, "predicted": 0.9333333333333332}, {"age": 20, "experience": 3, "predicted": 0.16666666666666666}, {"age": 22, "experience": 3, "predicted": 0.03333333333333333}, {"age": 21, "experience": 3, "predicted": 0.06666666666666667}, {"age": 26, "experience": 2, "predicted": 0.16666666666666666}, {"age": 17, "experience": 1, "predicted": 2.3666666666666667}, {"age": 17, "experience": 5, "predicted": 0.0}, {"age": 17, "experience": 5, "predicted": 0.0}, {"age": 21, "experience": 4, "predicted": 0.6666666666666666}, {"age": 32, "experience": 1, "predicted": 1.2666666666666666}, {"age": 20, "experience": 5, "predicted": 0.13333333333333333}, {"age": 50, "experience": 3, "predicted": 6.2}, {"age": 17, "experience": 5, "predicted": 0.0}, {"age": 17, "experience": 2, "predicted": 16.2}, {"age": 17, "experience": 4, "predicted": 0.7999999999999999}, {"age": 21, "experience": 5, "predicted": 0.9333333333333335}, {"age": 17, "experience": 2, "predicted": 16.2}, {"age": 17, "experience": 5, "predicted": 0.0}, {"age": 24, "experience": 2, "predicted": 0.13333333333333333}, {"age": 22, "experience": 2, "predicted": 0.26666666666666666}, {"age": 17, "experience": 4, "predicted": 0.7999999999999999}, {"age": 22, "experience": 2, "predicted": 0.26666666666666666}, {"age": 17, "experience": 4, "predicted": 0.7999999999999999}, {"age": 18, "experience": 3, "predicted": 0.03333333333333333}, {"age": 44, "experience": 5, "predicted": 6.2}, {"age": 17, "experience": 2, "predicted": 16.2}, {"age": 17, "experience": 1, "predicted": 2.3666666666666667}, {"age": 17, "experience": 2, "predicted": 16.2}, {"age": 20, "experience": 2, "predicted": 0.03333333333333333}, {"age": 17, "experience": 2, "predicted": 16.2}, {"age": 22, "experience": 5, "predicted": 1.0}, {"age": 17, "experience": 2, "predicted": 16.2}, {"age": 17, "experience": 2, "predicted": 16.2}, {"age": 91, "experience": 4, "predicted": 6.233333333333333}]}}, {"mode": "vega-lite"});
</script>



### **Discussion**

#### **1. Visualization Analysis**

Considering the bar graph between experience level and time played, players with a 'Regular' experience level logged the most playing hours. This graph was based on mean played hours, showing that this experience level's playing time was a mean of over 18 hours; this was a significantly higher mean than the amateur level, who logged a mean of 6 played hours. Additionally, Figure 2.6 shows the graph of the mean played hours for players of different genders. The visualization revealed that players who are non-binary and female have the highest mean time played, logging about 14.8 and 10.7 hours, respectively. These two visualizations were combined in Figure 2.7, which used the raw data to show the distribution of genders within each experience level. The bar graph shows the same trend, in which individuals with regular experience log the most hours, followed by amateurs. Within the regular experience level, it was mainly composed of female, male, and non-binary players fairly evenly distributed. Similarly, the amateur players mostly identified as male or female. These visualizations communicate that the people with the most hours are logged by regular-experience players who are male, female, and non-binary.

#### **2. KNN Regression Analysis**


```python

```
